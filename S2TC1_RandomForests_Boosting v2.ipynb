{
 "cells": [
  {
   "cell_type": "markdown",
   "metadata": {},
   "source": [
    "![image info](https://raw.githubusercontent.com/albahnsen/MIAD_ML_and_NLP/main/images/banner_1.png)"
   ]
  },
  {
   "cell_type": "markdown",
   "metadata": {},
   "source": [
    "# Taller: Construcción e implementación de modelos Bagging, Random Forest y XGBoost\n",
    "\n",
    "En este taller podrán poner en práctica sus conocimientos sobre la construcción e implementación de modelos de Bagging, Random Forest y XGBoost. El taller está constituido por 8 puntos, en los cuales deberan seguir las intrucciones de cada numeral para su desarrollo."
   ]
  },
  {
   "cell_type": "markdown",
   "metadata": {},
   "source": [
    "## Datos predicción precio de automóviles\n",
    "\n",
    "En este taller se usará el conjunto de datos de Car Listings de Kaggle donde cada observación representa el precio de un automóvil teniendo en cuenta distintas variables como año, marca, modelo, entre otras. El objetivo es predecir si el precio del automóvil es alto o no. Para más detalles puede visitar el siguiente enlace: [datos](https://www.kaggle.com/jpayne/852k-used-car-listings)."
   ]
  },
  {
   "cell_type": "code",
   "execution_count": 1,
   "metadata": {},
   "outputs": [],
   "source": [
    "import warnings\n",
    "warnings.filterwarnings('ignore')"
   ]
  },
  {
   "cell_type": "code",
   "execution_count": 2,
   "metadata": {},
   "outputs": [
    {
     "data": {
      "text/html": [
       "<div>\n",
       "<style scoped>\n",
       "    .dataframe tbody tr th:only-of-type {\n",
       "        vertical-align: middle;\n",
       "    }\n",
       "\n",
       "    .dataframe tbody tr th {\n",
       "        vertical-align: top;\n",
       "    }\n",
       "\n",
       "    .dataframe thead th {\n",
       "        text-align: right;\n",
       "    }\n",
       "</style>\n",
       "<table border=\"1\" class=\"dataframe\">\n",
       "  <thead>\n",
       "    <tr style=\"text-align: right;\">\n",
       "      <th></th>\n",
       "      <th>Year</th>\n",
       "      <th>Mileage</th>\n",
       "      <th>M_Camry</th>\n",
       "      <th>M_Camry4dr</th>\n",
       "      <th>M_CamryBase</th>\n",
       "      <th>M_CamryL</th>\n",
       "      <th>M_CamryLE</th>\n",
       "      <th>M_CamrySE</th>\n",
       "      <th>M_CamryXLE</th>\n",
       "      <th>HighPrice</th>\n",
       "    </tr>\n",
       "  </thead>\n",
       "  <tbody>\n",
       "    <tr>\n",
       "      <th>7</th>\n",
       "      <td>2014</td>\n",
       "      <td>6480</td>\n",
       "      <td>0</td>\n",
       "      <td>0</td>\n",
       "      <td>0</td>\n",
       "      <td>1</td>\n",
       "      <td>0</td>\n",
       "      <td>0</td>\n",
       "      <td>0</td>\n",
       "      <td>1</td>\n",
       "    </tr>\n",
       "    <tr>\n",
       "      <th>11</th>\n",
       "      <td>2014</td>\n",
       "      <td>39972</td>\n",
       "      <td>0</td>\n",
       "      <td>0</td>\n",
       "      <td>0</td>\n",
       "      <td>0</td>\n",
       "      <td>1</td>\n",
       "      <td>0</td>\n",
       "      <td>0</td>\n",
       "      <td>0</td>\n",
       "    </tr>\n",
       "    <tr>\n",
       "      <th>167</th>\n",
       "      <td>2016</td>\n",
       "      <td>18989</td>\n",
       "      <td>0</td>\n",
       "      <td>0</td>\n",
       "      <td>0</td>\n",
       "      <td>0</td>\n",
       "      <td>0</td>\n",
       "      <td>1</td>\n",
       "      <td>0</td>\n",
       "      <td>1</td>\n",
       "    </tr>\n",
       "    <tr>\n",
       "      <th>225</th>\n",
       "      <td>2014</td>\n",
       "      <td>51330</td>\n",
       "      <td>0</td>\n",
       "      <td>0</td>\n",
       "      <td>0</td>\n",
       "      <td>1</td>\n",
       "      <td>0</td>\n",
       "      <td>0</td>\n",
       "      <td>0</td>\n",
       "      <td>0</td>\n",
       "    </tr>\n",
       "    <tr>\n",
       "      <th>270</th>\n",
       "      <td>2007</td>\n",
       "      <td>116065</td>\n",
       "      <td>0</td>\n",
       "      <td>1</td>\n",
       "      <td>0</td>\n",
       "      <td>0</td>\n",
       "      <td>0</td>\n",
       "      <td>0</td>\n",
       "      <td>0</td>\n",
       "      <td>0</td>\n",
       "    </tr>\n",
       "  </tbody>\n",
       "</table>\n",
       "</div>"
      ],
      "text/plain": [
       "     Year  Mileage  M_Camry  M_Camry4dr  M_CamryBase  M_CamryL  M_CamryLE  \\\n",
       "7    2014     6480        0           0            0         1          0   \n",
       "11   2014    39972        0           0            0         0          1   \n",
       "167  2016    18989        0           0            0         0          0   \n",
       "225  2014    51330        0           0            0         1          0   \n",
       "270  2007   116065        0           1            0         0          0   \n",
       "\n",
       "     M_CamrySE  M_CamryXLE  HighPrice  \n",
       "7            0           0          1  \n",
       "11           0           0          0  \n",
       "167          1           0          1  \n",
       "225          0           0          0  \n",
       "270          0           0          0  "
      ]
     },
     "execution_count": 2,
     "metadata": {},
     "output_type": "execute_result"
    }
   ],
   "source": [
    "# Importación de librerías\n",
    "%matplotlib inline\n",
    "import pandas as pd\n",
    "\n",
    "# Lectura de la información de archivo .csv\n",
    "data = pd.read_csv('https://raw.githubusercontent.com/albahnsen/MIAD_ML_and_NLP/main/datasets/dataTrain_carListings.zip')\n",
    "\n",
    "# Preprocesamiento de datos para el taller\n",
    "data = data.loc[data['Model'].str.contains('Camry')].drop(['Make', 'State'], axis=1)\n",
    "data = data.join(pd.get_dummies(data['Model'], prefix='M'))\n",
    "data['HighPrice'] = (data['Price'] > data['Price'].mean()).astype(int)\n",
    "data = data.drop(['Model', 'Price'], axis=1)\n",
    "\n",
    "# Visualización dataset\n",
    "data.head()"
   ]
  },
  {
   "cell_type": "code",
   "execution_count": 3,
   "metadata": {},
   "outputs": [],
   "source": [
    "# Separación de variables predictoras (X) y variable de interés (y)\n",
    "y = data['HighPrice']\n",
    "X = data.drop(['HighPrice'], axis=1)"
   ]
  },
  {
   "cell_type": "code",
   "execution_count": 4,
   "metadata": {},
   "outputs": [
    {
     "data": {
      "text/html": [
       "<div>\n",
       "<style scoped>\n",
       "    .dataframe tbody tr th:only-of-type {\n",
       "        vertical-align: middle;\n",
       "    }\n",
       "\n",
       "    .dataframe tbody tr th {\n",
       "        vertical-align: top;\n",
       "    }\n",
       "\n",
       "    .dataframe thead th {\n",
       "        text-align: right;\n",
       "    }\n",
       "</style>\n",
       "<table border=\"1\" class=\"dataframe\">\n",
       "  <thead>\n",
       "    <tr style=\"text-align: right;\">\n",
       "      <th></th>\n",
       "      <th>Year</th>\n",
       "      <th>Mileage</th>\n",
       "      <th>M_Camry</th>\n",
       "      <th>M_Camry4dr</th>\n",
       "      <th>M_CamryBase</th>\n",
       "      <th>M_CamryL</th>\n",
       "      <th>M_CamryLE</th>\n",
       "      <th>M_CamrySE</th>\n",
       "      <th>M_CamryXLE</th>\n",
       "    </tr>\n",
       "  </thead>\n",
       "  <tbody>\n",
       "    <tr>\n",
       "      <th>318288</th>\n",
       "      <td>2014</td>\n",
       "      <td>39988</td>\n",
       "      <td>0</td>\n",
       "      <td>0</td>\n",
       "      <td>0</td>\n",
       "      <td>0</td>\n",
       "      <td>0</td>\n",
       "      <td>1</td>\n",
       "      <td>0</td>\n",
       "    </tr>\n",
       "    <tr>\n",
       "      <th>333638</th>\n",
       "      <td>2007</td>\n",
       "      <td>38904</td>\n",
       "      <td>0</td>\n",
       "      <td>0</td>\n",
       "      <td>0</td>\n",
       "      <td>0</td>\n",
       "      <td>1</td>\n",
       "      <td>0</td>\n",
       "      <td>0</td>\n",
       "    </tr>\n",
       "    <tr>\n",
       "      <th>234716</th>\n",
       "      <td>2016</td>\n",
       "      <td>29607</td>\n",
       "      <td>0</td>\n",
       "      <td>0</td>\n",
       "      <td>0</td>\n",
       "      <td>0</td>\n",
       "      <td>0</td>\n",
       "      <td>1</td>\n",
       "      <td>0</td>\n",
       "    </tr>\n",
       "    <tr>\n",
       "      <th>208752</th>\n",
       "      <td>2014</td>\n",
       "      <td>50756</td>\n",
       "      <td>0</td>\n",
       "      <td>0</td>\n",
       "      <td>0</td>\n",
       "      <td>0</td>\n",
       "      <td>0</td>\n",
       "      <td>1</td>\n",
       "      <td>0</td>\n",
       "    </tr>\n",
       "    <tr>\n",
       "      <th>348892</th>\n",
       "      <td>2017</td>\n",
       "      <td>10506</td>\n",
       "      <td>0</td>\n",
       "      <td>0</td>\n",
       "      <td>0</td>\n",
       "      <td>0</td>\n",
       "      <td>0</td>\n",
       "      <td>1</td>\n",
       "      <td>0</td>\n",
       "    </tr>\n",
       "    <tr>\n",
       "      <th>...</th>\n",
       "      <td>...</td>\n",
       "      <td>...</td>\n",
       "      <td>...</td>\n",
       "      <td>...</td>\n",
       "      <td>...</td>\n",
       "      <td>...</td>\n",
       "      <td>...</td>\n",
       "      <td>...</td>\n",
       "      <td>...</td>\n",
       "    </tr>\n",
       "    <tr>\n",
       "      <th>218085</th>\n",
       "      <td>2010</td>\n",
       "      <td>84057</td>\n",
       "      <td>0</td>\n",
       "      <td>0</td>\n",
       "      <td>0</td>\n",
       "      <td>0</td>\n",
       "      <td>1</td>\n",
       "      <td>0</td>\n",
       "      <td>0</td>\n",
       "    </tr>\n",
       "    <tr>\n",
       "      <th>198455</th>\n",
       "      <td>2012</td>\n",
       "      <td>93770</td>\n",
       "      <td>0</td>\n",
       "      <td>1</td>\n",
       "      <td>0</td>\n",
       "      <td>0</td>\n",
       "      <td>0</td>\n",
       "      <td>0</td>\n",
       "      <td>0</td>\n",
       "    </tr>\n",
       "    <tr>\n",
       "      <th>205572</th>\n",
       "      <td>2010</td>\n",
       "      <td>88644</td>\n",
       "      <td>0</td>\n",
       "      <td>0</td>\n",
       "      <td>1</td>\n",
       "      <td>0</td>\n",
       "      <td>0</td>\n",
       "      <td>0</td>\n",
       "      <td>0</td>\n",
       "    </tr>\n",
       "    <tr>\n",
       "      <th>33541</th>\n",
       "      <td>2015</td>\n",
       "      <td>26180</td>\n",
       "      <td>0</td>\n",
       "      <td>0</td>\n",
       "      <td>0</td>\n",
       "      <td>0</td>\n",
       "      <td>0</td>\n",
       "      <td>1</td>\n",
       "      <td>0</td>\n",
       "    </tr>\n",
       "    <tr>\n",
       "      <th>274804</th>\n",
       "      <td>2017</td>\n",
       "      <td>18254</td>\n",
       "      <td>0</td>\n",
       "      <td>0</td>\n",
       "      <td>0</td>\n",
       "      <td>0</td>\n",
       "      <td>0</td>\n",
       "      <td>1</td>\n",
       "      <td>0</td>\n",
       "    </tr>\n",
       "  </tbody>\n",
       "</table>\n",
       "<p>7031 rows × 9 columns</p>\n",
       "</div>"
      ],
      "text/plain": [
       "        Year  Mileage  M_Camry  M_Camry4dr  M_CamryBase  M_CamryL  M_CamryLE  \\\n",
       "318288  2014    39988        0           0            0         0          0   \n",
       "333638  2007    38904        0           0            0         0          1   \n",
       "234716  2016    29607        0           0            0         0          0   \n",
       "208752  2014    50756        0           0            0         0          0   \n",
       "348892  2017    10506        0           0            0         0          0   \n",
       "...      ...      ...      ...         ...          ...       ...        ...   \n",
       "218085  2010    84057        0           0            0         0          1   \n",
       "198455  2012    93770        0           1            0         0          0   \n",
       "205572  2010    88644        0           0            1         0          0   \n",
       "33541   2015    26180        0           0            0         0          0   \n",
       "274804  2017    18254        0           0            0         0          0   \n",
       "\n",
       "        M_CamrySE  M_CamryXLE  \n",
       "318288          1           0  \n",
       "333638          0           0  \n",
       "234716          1           0  \n",
       "208752          1           0  \n",
       "348892          1           0  \n",
       "...           ...         ...  \n",
       "218085          0           0  \n",
       "198455          0           0  \n",
       "205572          0           0  \n",
       "33541           1           0  \n",
       "274804          1           0  \n",
       "\n",
       "[7031 rows x 9 columns]"
      ]
     },
     "execution_count": 4,
     "metadata": {},
     "output_type": "execute_result"
    }
   ],
   "source": [
    "# Separación de datos en set de entrenamiento y test\n",
    "from sklearn.model_selection import train_test_split\n",
    "X_train, X_test, y_train, y_test = train_test_split(X, y, test_size=0.33, random_state=42)\n",
    "X_train"
   ]
  },
  {
   "cell_type": "markdown",
   "metadata": {},
   "source": [
    "### Punto 1 - Árbol de decisión manual\n",
    "\n",
    "En la celda 1 creen un árbol de decisión **manualmente**  que considere los set de entrenamiento y test definidos anteriormente y presenten el acurracy del modelo en el set de test."
   ]
  },
  {
   "cell_type": "code",
   "execution_count": 5,
   "metadata": {},
   "outputs": [],
   "source": [
    "def gini(y):\n",
    "    if y.shape[0] == 0:\n",
    "        return 0\n",
    "    else:\n",
    "        return 1 - (y.mean()**2 + (1 - y.mean())**2)\n",
    "\n",
    "def gini_impurity(X_col, y, split):\n",
    "    \n",
    "    filter_l = X_col < split\n",
    "    y_l = y.loc[filter_l]\n",
    "    y_r = y.loc[~filter_l]\n",
    "    \n",
    "    n_l = y_l.shape[0]\n",
    "    n_r = y_r.shape[0]\n",
    "    \n",
    "    gini_y = gini(y)\n",
    "    gini_l = gini(y_l)\n",
    "    gini_r = gini(y_r)\n",
    "    \n",
    "    gini_impurity_ = gini_y - (n_l / (n_l + n_r) * gini_l + n_r / (n_l + n_r) * gini_r)\n",
    "    \n",
    "    return gini_impurity_"
   ]
  },
  {
   "cell_type": "code",
   "execution_count": 6,
   "metadata": {},
   "outputs": [],
   "source": [
    "# Celda 1\n",
    "import numpy as np\n",
    "def best_split(X, y, num_pct=10):\n",
    "    \n",
    "    features = range(X.shape[1])\n",
    "    \n",
    "    best_split = [0, 0, 0]  # j, split, gain\n",
    "    \n",
    "    # Para todas las varibles \n",
    "    for j in features:\n",
    "        \n",
    "        splits = np.percentile(X.iloc[:, j], np.arange(0, 100, 100.0 / (num_pct+1)).tolist())\n",
    "        splits = np.unique(splits)[1:]\n",
    "        \n",
    "        # Para cada partición\n",
    "        for split in splits:\n",
    "            gain = gini_impurity(X.iloc[:, j], y, split)\n",
    "                        \n",
    "            if gain > best_split[2]:\n",
    "                best_split = [j, split, gain]\n",
    "    \n",
    "    return best_split"
   ]
  },
  {
   "cell_type": "code",
   "execution_count": 7,
   "metadata": {},
   "outputs": [],
   "source": [
    "def tree_grow(X, y, level=0, min_gain=0.001, max_depth=None, num_pct=10):\n",
    "    \n",
    "    # Si solo es una observación\n",
    "    if X.shape[0] == 1:\n",
    "        tree = dict(y_pred=y.iloc[:1].values[0], y_prob=0.5, level=level, split=-1, n_samples=1, gain=0)\n",
    "        return tree\n",
    "    \n",
    "    # Calcular la mejor división\n",
    "    j, split, gain = best_split(X, y, num_pct)\n",
    "    \n",
    "    # Guardar el árbol y estimar la predicción\n",
    "    y_pred = int(y.mean() >= 0.5) \n",
    "    y_prob = (y.sum() + 1.0) / (y.shape[0] + 2.0)  # Corrección Laplace \n",
    "    \n",
    "    tree = dict(y_pred=y_pred, y_prob=y_prob, level=level, split=-1, n_samples=X.shape[0], gain=gain)\n",
    "    # Revisar el criterio de parada \n",
    "    if gain < min_gain:\n",
    "        return tree\n",
    "    if max_depth is not None:\n",
    "        if level >= max_depth:\n",
    "            return tree   \n",
    "    \n",
    "    # Continuar creando la partición\n",
    "    filter_l = X.iloc[:, j] < split\n",
    "    X_l, y_l = X.loc[filter_l], y.loc[filter_l]\n",
    "    X_r, y_r = X.loc[~filter_l], y.loc[~filter_l]\n",
    "    tree['split'] = [j, split]\n",
    "\n",
    "    # Siguiente iteración para cada partición\n",
    "    \n",
    "    tree['sl'] = tree_grow(X_l, y_l, level + 1, min_gain=min_gain, max_depth=max_depth, num_pct=num_pct)\n",
    "    tree['sr'] = tree_grow(X_r, y_r, level + 1, min_gain=min_gain, max_depth=max_depth, num_pct=num_pct)\n",
    "    \n",
    "    return tree"
   ]
  },
  {
   "cell_type": "code",
   "execution_count": 8,
   "metadata": {},
   "outputs": [],
   "source": [
    "def tree_predict(X, tree, proba=False):\n",
    "    \n",
    "    predicted = np.ones(X.shape[0])\n",
    "\n",
    "    # Revisar si es el nodo final\n",
    "    if tree['split'] == -1:\n",
    "        if not proba:\n",
    "            predicted = predicted * tree['y_pred']\n",
    "        else:\n",
    "            predicted = predicted * tree['y_prob']\n",
    "            \n",
    "    else:\n",
    "        \n",
    "        j, split = tree['split']\n",
    "        filter_l = (X.iloc[:, j] < split)\n",
    "        X_l = X.loc[filter_l]\n",
    "        X_r = X.loc[~filter_l]\n",
    "\n",
    "        if X_l.shape[0] == 0:  # Si el nodo izquierdo está vacio solo continua con el derecho \n",
    "            predicted[~filter_l] = tree_predict(X_r, tree['sr'], proba)\n",
    "        elif X_r.shape[0] == 0:  #  Si el nodo derecho está vacio solo continua con el izquierdo\n",
    "            predicted[filter_l] = tree_predict(X_l, tree['sl'], proba)\n",
    "        else:\n",
    "            predicted[filter_l] = tree_predict(X_l, tree['sl'], proba)\n",
    "            predicted[~filter_l] = tree_predict(X_r, tree['sr'], proba)\n",
    "\n",
    "    return predicted"
   ]
  },
  {
   "cell_type": "code",
   "execution_count": 59,
   "metadata": {},
   "outputs": [
    {
     "data": {
      "text/plain": [
       "{'y_pred': 1,\n",
       " 'y_prob': 0.5580833214844305,\n",
       " 'level': 0,\n",
       " 'split': [0, 2014.0],\n",
       " 'n_samples': 7031,\n",
       " 'gain': 0.21062660144785156,\n",
       " 'sl': {'y_pred': 0,\n",
       "  'y_prob': 0.09837467921300257,\n",
       "  'level': 1,\n",
       "  'split': [1, 43778.0],\n",
       "  'n_samples': 2336,\n",
       "  'gain': 0.022527482092972617,\n",
       "  'sl': {'y_pred': 0,\n",
       "   'y_prob': 0.43457943925233644,\n",
       "   'level': 2,\n",
       "   'split': [8, 1.0],\n",
       "   'n_samples': 212,\n",
       "   'gain': 0.08957383525304613,\n",
       "   'sl': {'y_pred': 0,\n",
       "    'y_prob': 0.35638297872340424,\n",
       "    'level': 3,\n",
       "    'split': [1, 13558.0],\n",
       "    'n_samples': 186,\n",
       "    'gain': 0.07834975821754298,\n",
       "    'sl': {'y_pred': 1,\n",
       "     'y_prob': 0.9444444444444444,\n",
       "     'level': 4,\n",
       "     'split': -1,\n",
       "     'n_samples': 16,\n",
       "     'gain': 0},\n",
       "    'sr': {'y_pred': 0,\n",
       "     'y_prob': 0.29651162790697677,\n",
       "     'level': 4,\n",
       "     'split': [2, 1.0],\n",
       "     'n_samples': 170,\n",
       "     'gain': 0.04163689132942183,\n",
       "     'sl': {'y_pred': 0,\n",
       "      'y_prob': 0.22857142857142856,\n",
       "      'level': 5,\n",
       "      'split': -1,\n",
       "      'n_samples': 138,\n",
       "      'gain': 0.05046208779668143},\n",
       "     'sr': {'y_pred': 1,\n",
       "      'y_prob': 0.5882352941176471,\n",
       "      'level': 5,\n",
       "      'split': -1,\n",
       "      'n_samples': 32,\n",
       "      'gain': 0.15003551136363635}}},\n",
       "   'sr': {'y_pred': 1,\n",
       "    'y_prob': 0.9642857142857143,\n",
       "    'level': 3,\n",
       "    'split': -1,\n",
       "    'n_samples': 26,\n",
       "    'gain': 0}},\n",
       "  'sr': {'y_pred': 0,\n",
       "   'y_prob': 0.06491063029162747,\n",
       "   'level': 2,\n",
       "   'split': [0, 2012.0],\n",
       "   'n_samples': 2124,\n",
       "   'gain': 0.010067289470615803,\n",
       "   'sl': {'y_pred': 0,\n",
       "    'y_prob': 0.01241782322863404,\n",
       "    'level': 3,\n",
       "    'split': -1,\n",
       "    'n_samples': 1367,\n",
       "    'gain': 0.00047211230745035707},\n",
       "   'sr': {'y_pred': 0,\n",
       "    'y_prob': 0.16073781291172595,\n",
       "    'level': 3,\n",
       "    'split': [1, 50453.0],\n",
       "    'n_samples': 757,\n",
       "    'gain': 0.02090717136994555,\n",
       "    'sl': {'y_pred': 0,\n",
       "     'y_prob': 0.4857142857142857,\n",
       "     'level': 4,\n",
       "     'split': [6, 0.8181818181818201],\n",
       "     'n_samples': 68,\n",
       "     'gain': 0.11133217993079597,\n",
       "     'sl': {'y_pred': 1,\n",
       "      'y_prob': 0.5964912280701754,\n",
       "      'level': 5,\n",
       "      'split': -1,\n",
       "      'n_samples': 55,\n",
       "      'gain': 0.20093023255813947},\n",
       "     'sr': {'y_pred': 0,\n",
       "      'y_prob': 0.06666666666666667,\n",
       "      'level': 5,\n",
       "      'split': -1,\n",
       "      'n_samples': 13,\n",
       "      'gain': 0}},\n",
       "    'sr': {'y_pred': 0,\n",
       "     'y_prob': 0.1287988422575977,\n",
       "     'level': 4,\n",
       "     'split': [1, 92646.0],\n",
       "     'n_samples': 689,\n",
       "     'gain': 0.012603806763347214,\n",
       "     'sl': {'y_pred': 0,\n",
       "      'y_prob': 0.17835671342685372,\n",
       "      'level': 5,\n",
       "      'split': -1,\n",
       "      'n_samples': 497,\n",
       "      'gain': 0.025327183839217116},\n",
       "     'sr': {'y_pred': 0,\n",
       "      'y_prob': 0.005154639175257732,\n",
       "      'level': 5,\n",
       "      'split': -1,\n",
       "      'n_samples': 192,\n",
       "      'gain': 0}}}}},\n",
       " 'sr': {'y_pred': 1,\n",
       "  'y_prob': 0.7868852459016393,\n",
       "  'level': 1,\n",
       "  'split': [1, 48658.0],\n",
       "  'n_samples': 4695,\n",
       "  'gain': 0.06001936802342506,\n",
       "  'sl': {'y_pred': 1,\n",
       "   'y_prob': 0.868558042686101,\n",
       "   'level': 2,\n",
       "   'split': [0, 2015.0],\n",
       "   'n_samples': 3840,\n",
       "   'gain': 0.023347545587756396,\n",
       "   'sl': {'y_pred': 1,\n",
       "    'y_prob': 0.7065767284991569,\n",
       "    'level': 3,\n",
       "    'split': [1, 38159.0],\n",
       "    'n_samples': 1184,\n",
       "    'gain': 0.07474132492342023,\n",
       "    'sl': {'y_pred': 1,\n",
       "     'y_prob': 0.8248259860788864,\n",
       "     'level': 4,\n",
       "     'split': [7, 1.0],\n",
       "     'n_samples': 860,\n",
       "     'gain': 0.01595146846210682,\n",
       "     'sl': {'y_pred': 1,\n",
       "      'y_prob': 0.7334905660377359,\n",
       "      'level': 5,\n",
       "      'split': -1,\n",
       "      'n_samples': 422,\n",
       "      'gain': 0.03186334084913767},\n",
       "     'sr': {'y_pred': 1,\n",
       "      'y_prob': 0.9113636363636364,\n",
       "      'level': 5,\n",
       "      'split': -1,\n",
       "      'n_samples': 438,\n",
       "      'gain': 0.004819167145632908}},\n",
       "    'sr': {'y_pred': 0,\n",
       "     'y_prob': 0.39263803680981596,\n",
       "     'level': 4,\n",
       "     'split': [1, 40908.81818181819],\n",
       "     'n_samples': 324,\n",
       "     'gain': 0.049511941284228644,\n",
       "     'sl': {'y_pred': 1,\n",
       "      'y_prob': 0.5637583892617449,\n",
       "      'level': 5,\n",
       "      'split': -1,\n",
       "      'n_samples': 147,\n",
       "      'gain': 0.09561790725436303},\n",
       "     'sr': {'y_pred': 0,\n",
       "      'y_prob': 0.25139664804469275,\n",
       "      'level': 5,\n",
       "      'split': -1,\n",
       "      'n_samples': 177,\n",
       "      'gain': 0.03694940509074407}}},\n",
       "   'sr': {'y_pred': 1,\n",
       "    'y_prob': 0.9405568096313017,\n",
       "    'level': 3,\n",
       "    'split': [1, 27485.727272727272],\n",
       "    'n_samples': 2656,\n",
       "    'gain': 0.006544865644632844,\n",
       "    'sl': {'y_pred': 1,\n",
       "     'y_prob': 0.9924190213645762,\n",
       "     'level': 4,\n",
       "     'split': -1,\n",
       "     'n_samples': 1449,\n",
       "     'gain': 0.0001786053635903697},\n",
       "    'sr': {'y_pred': 1,\n",
       "     'y_prob': 0.8775847808105872,\n",
       "     'level': 4,\n",
       "     'split': [6, 1.0],\n",
       "     'n_samples': 1207,\n",
       "     'gain': 0.011620525102610246,\n",
       "     'sl': {'y_pred': 1,\n",
       "      'y_prob': 0.9263157894736842,\n",
       "      'level': 5,\n",
       "      'split': -1,\n",
       "      'n_samples': 853,\n",
       "      'gain': 0.005030393525887744},\n",
       "     'sr': {'y_pred': 1,\n",
       "      'y_prob': 0.7584269662921348,\n",
       "      'level': 5,\n",
       "      'split': -1,\n",
       "      'n_samples': 354,\n",
       "      'gain': 0.025364563260314776}}}},\n",
       "  'sr': {'y_pred': 0,\n",
       "   'y_prob': 0.4200700116686114,\n",
       "   'level': 2,\n",
       "   'split': [8, 1.0],\n",
       "   'n_samples': 855,\n",
       "   'gain': 0.07890529953695896,\n",
       "   'sl': {'y_pred': 0,\n",
       "    'y_prob': 0.33967391304347827,\n",
       "    'level': 3,\n",
       "    'split': [0, 2016.0],\n",
       "    'n_samples': 734,\n",
       "    'gain': 0.053561334262904214,\n",
       "    'sl': {'y_pred': 0,\n",
       "     'y_prob': 0.26480263157894735,\n",
       "     'level': 4,\n",
       "     'split': [1, 58035.0],\n",
       "     'n_samples': 606,\n",
       "     'gain': 0.01699308863921528,\n",
       "     'sl': {'y_pred': 0,\n",
       "      'y_prob': 0.16030534351145037,\n",
       "      'level': 5,\n",
       "      'split': -1,\n",
       "      'n_samples': 260,\n",
       "      'gain': 0.008481680994380625},\n",
       "     'sr': {'y_pred': 0,\n",
       "      'y_prob': 0.3448275862068966,\n",
       "      'level': 5,\n",
       "      'split': -1,\n",
       "      'n_samples': 346,\n",
       "      'gain': 0.10786162412177319}},\n",
       "    'sr': {'y_pred': 1,\n",
       "     'y_prob': 0.6923076923076923,\n",
       "     'level': 4,\n",
       "     'split': [1, 52368.0],\n",
       "     'n_samples': 128,\n",
       "     'gain': 0.015285915798611105,\n",
       "     'sl': {'y_pred': 1,\n",
       "      'y_prob': 0.7446808510638298,\n",
       "      'level': 5,\n",
       "      'split': -1,\n",
       "      'n_samples': 92,\n",
       "      'gain': 0.05540293040293032},\n",
       "     'sr': {'y_pred': 1,\n",
       "      'y_prob': 0.5526315789473685,\n",
       "      'level': 5,\n",
       "      'split': -1,\n",
       "      'n_samples': 36,\n",
       "      'gain': 0.20576131687242788}}},\n",
       "   'sr': {'y_pred': 1,\n",
       "    'y_prob': 0.9024390243902439,\n",
       "    'level': 3,\n",
       "    'split': [0, 2014.6363636363635],\n",
       "    'n_samples': 121,\n",
       "    'gain': 0.02892561983471087,\n",
       "    'sl': {'y_pred': 1,\n",
       "     'y_prob': 0.7391304347826086,\n",
       "     'level': 4,\n",
       "     'split': [1, 63123.90909090909],\n",
       "     'n_samples': 44,\n",
       "     'gain': 0.1736111111111111,\n",
       "     'sl': {'y_pred': 0,\n",
       "      'y_prob': 0.2,\n",
       "      'level': 5,\n",
       "      'split': -1,\n",
       "      'n_samples': 8,\n",
       "      'gain': 0.21875},\n",
       "     'sr': {'y_pred': 1,\n",
       "      'y_prob': 0.868421052631579,\n",
       "      'level': 5,\n",
       "      'split': -1,\n",
       "      'n_samples': 36,\n",
       "      'gain': 0.05611672278338942}},\n",
       "    'sr': {'y_pred': 1,\n",
       "     'y_prob': 0.9873417721518988,\n",
       "     'level': 4,\n",
       "     'split': -1,\n",
       "     'n_samples': 77,\n",
       "     'gain': 0}}}}}"
      ]
     },
     "execution_count": 59,
     "metadata": {},
     "output_type": "execute_result"
    }
   ],
   "source": [
    "tree = tree_grow(X_train, y_train, level=0, min_gain=0.001, max_depth=5, num_pct=10)\n",
    "pred = tree_predict(X_test, tree, proba=False)\n",
    "tree"
   ]
  },
  {
   "cell_type": "code",
   "execution_count": 60,
   "metadata": {},
   "outputs": [
    {
     "data": {
      "text/plain": [
       "0.8594110854503464"
      ]
     },
     "execution_count": 60,
     "metadata": {},
     "output_type": "execute_result"
    }
   ],
   "source": [
    "from sklearn.metrics import accuracy_score\n",
    "accuracy_score(y_test,pred)"
   ]
  },
  {
   "cell_type": "code",
   "execution_count": 11,
   "metadata": {},
   "outputs": [
    {
     "data": {
      "text/plain": [
       "0.8689376443418014"
      ]
     },
     "execution_count": 11,
     "metadata": {},
     "output_type": "execute_result"
    },
    {
     "data": {
      "image/png": "[encoded data removed]",
      "text/plain": [
       "<Figure size 1008x576 with 1 Axes>"
      ]
     },
     "metadata": {
      "needs_background": "light"
     },
     "output_type": "display_data"
    }
   ],
   "source": [
    "from sklearn.tree import DecisionTreeClassifier\n",
    "import matplotlib.pyplot as plt\n",
    "clf = DecisionTreeClassifier(random_state=0, max_depth=3)\n",
    "clf = clf.fit(X_train,y_train)\n",
    "pred = clf.predict(X_test)\n",
    "from sklearn.tree import plot_tree\n",
    "plt.figure(figsize=(14,8))\n",
    "plot_tree(clf)\n",
    "accuracy_score(y_test,pred)"
   ]
  },
  {
   "cell_type": "markdown",
   "metadata": {},
   "source": [
    "### Punto 2 - Bagging manual\n",
    "\n",
    "En la celda 2 creen un modelo bagging **manualmente** con 10 árboles de clasificación y comenten sobre el desempeño del modelo."
   ]
  },
  {
   "cell_type": "code",
   "execution_count": 69,
   "metadata": {},
   "outputs": [
    {
     "name": "stdout",
     "output_type": "stream",
     "text": [
      "Árbol  0 tiene un accuracy de:  0.8091801385681293\n",
      "Árbol  1 tiene un accuracy de:  0.8008083140877598\n",
      "Árbol  2 tiene un accuracy de:  0.8155311778290993\n",
      "Árbol  3 tiene un accuracy de:  0.8247690531177829\n",
      "Árbol  4 tiene un accuracy de:  0.8247690531177829\n",
      "Árbol  5 tiene un accuracy de:  0.8241916859122402\n",
      "Árbol  6 tiene un accuracy de:  0.8117782909930716\n",
      "Árbol  7 tiene un accuracy de:  0.8241916859122402\n",
      "Árbol  8 tiene un accuracy de:  0.8189953810623557\n",
      "Árbol  9 tiene un accuracy de:  0.8244803695150116\n"
     ]
    },
    {
     "data": {
      "text/plain": [
       "0.8276558891454965"
      ]
     },
     "execution_count": 69,
     "metadata": {},
     "output_type": "execute_result"
    }
   ],
   "source": [
    "# Celda 2\n",
    "# Creación de 10 muestras de bootstrap \n",
    "np.random.seed(123)\n",
    "n_samples = X_train.shape[0]\n",
    "n_B = 10\n",
    "\n",
    "samples = [np.random.choice(a=n_samples, size=n_samples, replace=True) for _ in range(1, n_B +1 )]\n",
    "\n",
    "# Construcción un árbol de decisión para cada muestra boostrap\n",
    "from sklearn.tree import DecisionTreeRegressor\n",
    "\n",
    "# Definición del modelo usando DecisionTreeRegressor de sklearn\n",
    "treeclas = DecisionTreeClassifier(max_depth=None, random_state=123)\n",
    "\n",
    "# DataFrame para guardar las predicciones de cada árbol\n",
    "y_pred = pd.DataFrame(index=X_test.index, columns=[list(range(n_B))])\n",
    "\n",
    "# Entrenamiento de un árbol sobre cada muestra boostrap y predicción sobre los datos de test\n",
    "for i, sample in enumerate(samples):\n",
    "    X_train = X_train.iloc[sample]\n",
    "    y_train = y_train.iloc[sample]\n",
    "    treeclas.fit(X_train, y_train)\n",
    "    y_pred.iloc[:,i] = treeclas.predict(X_test)\n",
    "\n",
    "# Desempeño de cada árbol\n",
    "for i in range(n_B):\n",
    "    print('Árbol ', i, 'tiene un accuracy de: ', accuracy_score(y_pred.iloc[:,i], y_test))\n",
    "\n",
    "# Predicciones promedio para cada obserbación del set de test\n",
    "y_pred = y_pred.mode(axis=1)[0].astype(int)\n",
    "\n",
    "# Accuracy al promediar las predicciones de todos los árboles\n",
    "accuracy_score(y_test,y_pred)"
   ]
  },
  {
   "cell_type": "code",
   "execution_count": 62,
   "metadata": {},
   "outputs": [
    {
     "data": {
      "text/html": [
       "<div>\n",
       "<style scoped>\n",
       "    .dataframe tbody tr th:only-of-type {\n",
       "        vertical-align: middle;\n",
       "    }\n",
       "\n",
       "    .dataframe tbody tr th {\n",
       "        vertical-align: top;\n",
       "    }\n",
       "\n",
       "    .dataframe thead th {\n",
       "        text-align: right;\n",
       "    }\n",
       "</style>\n",
       "<table border=\"1\" class=\"dataframe\">\n",
       "  <thead>\n",
       "    <tr style=\"text-align: right;\">\n",
       "      <th></th>\n",
       "      <th>0</th>\n",
       "      <th>1</th>\n",
       "    </tr>\n",
       "  </thead>\n",
       "  <tbody>\n",
       "    <tr>\n",
       "      <th>0</th>\n",
       "      <td>1276</td>\n",
       "      <td>162</td>\n",
       "    </tr>\n",
       "    <tr>\n",
       "      <th>1</th>\n",
       "      <td>537</td>\n",
       "      <td>1489</td>\n",
       "    </tr>\n",
       "  </tbody>\n",
       "</table>\n",
       "</div>"
      ],
      "text/plain": [
       "      0     1\n",
       "0  1276   162\n",
       "1   537  1489"
      ]
     },
     "execution_count": 62,
     "metadata": {},
     "output_type": "execute_result"
    }
   ],
   "source": [
    "from sklearn.metrics import confusion_matrix\n",
    "import seaborn as sns\n",
    "matrix = confusion_matrix(y_test, y_pred)\n",
    "class_names = [0,1]\n",
    "dataframe = pd.DataFrame(matrix, index=class_names, columns=class_names)\n",
    "dataframe"
   ]
  },
  {
   "cell_type": "code",
   "execution_count": 63,
   "metadata": {},
   "outputs": [
    {
     "name": "stdout",
     "output_type": "stream",
     "text": [
      "La exactitud en la muestra de test es:0.7982101616628176\n",
      "La precision en la muestra de test es:0.901877649909146\n",
      "La sensibilidad en la muestra de test es:0.7349457058242843\n",
      "La especificidad en la muestra de test es:0.8873435326842837\n"
     ]
    }
   ],
   "source": [
    "## Accuracy\n",
    "from sklearn.metrics import precision_score\n",
    "print('La exactitud en la muestra de test es:' +str(accuracy_score(y_test, y_pred)))\n",
    "\n",
    "#Precisión\n",
    "precisionTree=precision_score(y_test, y_pred)\n",
    "print('La precision en la muestra de test es:' +str(precisionTree))\n",
    "\n",
    "#\n",
    "sensibilidadTree=matrix[1,1]/(matrix[1,1]+matrix[1,0])\n",
    "print('La sensibilidad en la muestra de test es:' +str(sensibilidadTree))\n",
    "\n",
    "## Especificidad\n",
    "\n",
    "EspecificidadTree=matrix[0,0]/(matrix[0,0]+matrix[0,1])\n",
    "print('La especificidad en la muestra de test es:' +str(EspecificidadTree))"
   ]
  },
  {
   "cell_type": "markdown",
   "metadata": {},
   "source": [
    "En la muestra test tenemos 3464 obsrvaciones de las cuales 2026 predicciones pertenecen a la clase 1 y 1438 de la clase 0\n",
    "\n",
    "El modelo detecto 1864 casos de la clase 1 en la predicción\n",
    "\n",
    "La matriz de confusión nos muestra que:\n",
    "\n",
    "El modelo nos muestra que tiene una probabilidad del 78% de predecir correctamente la clase 1 y del 81% de predecir la clase 0\n",
    "\n",
    "El modelo predice correctamente el 79% de las observaciones"
   ]
  },
  {
   "cell_type": "markdown",
   "metadata": {},
   "source": [
    "### Punto 3 - Bagging con librería\n",
    "\n",
    "En la celda 3, con la librería sklearn, entrenen un modelo bagging con 10 árboles de clasificación y el parámetro `max_features` igual a `log(n_features)`. Presenten el acurracy del modelo en el set de test y comenten sus resultados."
   ]
  },
  {
   "cell_type": "code",
   "execution_count": 71,
   "metadata": {},
   "outputs": [
    {
     "data": {
      "text/plain": [
       "0.8594110854503464"
      ]
     },
     "execution_count": 71,
     "metadata": {},
     "output_type": "execute_result"
    }
   ],
   "source": [
    "# Celda 3\n",
    "from sklearn.ensemble import BaggingClassifier\n",
    "from sklearn.tree import DecisionTreeClassifier\n",
    "\n",
    "n_features = X_train.shape[1]\n",
    "n_features = round(np.log(X_train.shape[1]),0)\n",
    "\n",
    "bagclas = BaggingClassifier(DecisionTreeClassifier(), n_estimators=10, max_features = np.log(n_features),\n",
    "                          bootstrap=True, oob_score=True, random_state=1)\n",
    "bagclas.fit(X_train, y_train)\n",
    "y_pred = bagclas.predict(X_test)\n",
    "accuracy_score(y_test,pred)"
   ]
  },
  {
   "cell_type": "markdown",
   "metadata": {},
   "source": [
    "### Punto 4 - Random forest con librería\n",
    "\n",
    "En la celda 4, usando la librería sklearn entrenen un modelo de Randon Forest para clasificación y presenten el acurracy del modelo en el set de test y comenten sus resultados."
   ]
  },
  {
   "cell_type": "code",
   "execution_count": 75,
   "metadata": {},
   "outputs": [
    {
     "data": {
      "text/plain": [
       "0.8342956120092379"
      ]
     },
     "execution_count": 75,
     "metadata": {},
     "output_type": "execute_result"
    }
   ],
   "source": [
    "# Celda 4\n",
    "from sklearn.ensemble import RandomForestClassifier\n",
    "\n",
    "clf = RandomForestClassifier()\n",
    "clf.fit(X_train, y_train)\n",
    "pred = clf.predict(X_test)\n",
    "des_rf = accuracy_score(y_test,pred)\n",
    "des_rf"
   ]
  },
  {
   "cell_type": "markdown",
   "metadata": {},
   "source": [
    "### Punto 5 - Calibración de parámetros Random forest\n",
    "\n",
    "En la celda 5, calibren los parámetros max_depth, max_features y n_estimators del modelo de Randon Forest para clasificación. Presenten el acurracy del modelo en el set de test, comenten sus resultados y análicen cómo cada parámetro afecta el modelo."
   ]
  },
  {
   "cell_type": "code",
   "execution_count": 77,
   "metadata": {},
   "outputs": [
    {
     "data": {
      "text/plain": [
       "5"
      ]
     },
     "execution_count": 77,
     "metadata": {},
     "output_type": "execute_result"
    },
    {
     "data": {
      "image/png": "[encoded data removed]",
      "text/plain": [
       "<Figure size 432x288 with 1 Axes>"
      ]
     },
     "metadata": {
      "needs_background": "light"
     },
     "output_type": "display_data"
    }
   ],
   "source": [
    "# Creación de lista de valores para iterar sobre diferentes valores de n_estimators\n",
    "depth_range = range(1,21)\n",
    "\n",
    "# Definición de lista para almacenar la exactitud (accuracy) promedio para cada valor de n_estimators\n",
    "accuracy_scores_depth = []\n",
    "\n",
    "# Uso de un 5-fold cross-validation para cada valor de n_estimators\n",
    "for depth in depth_range:\n",
    "    clf = RandomForestClassifier(max_depth=depth, random_state=1)\n",
    "    clf.fit(X_train, y_train)\n",
    "    pred = clf.predict(X_test)\n",
    "    accuracy_scores_depth.append(accuracy_score(y_test,pred))\n",
    "plt.plot(depth_range, accuracy_scores_depth)\n",
    "plt.xlabel('max_depth')\n",
    "plt.ylabel('Accuracy')\n",
    "depth_final = sorted(zip(accuracy_scores_depth, depth_range))[::-1][0][1]\n",
    "depth_final"
   ]
  },
  {
   "cell_type": "code",
   "execution_count": 78,
   "metadata": {},
   "outputs": [
    {
     "data": {
      "text/plain": [
       "5"
      ]
     },
     "execution_count": 78,
     "metadata": {},
     "output_type": "execute_result"
    },
    {
     "data": {
      "image/png": "[encoded data removed]",
      "text/plain": [
       "<Figure size 432x288 with 1 Axes>"
      ]
     },
     "metadata": {
      "needs_background": "light"
     },
     "output_type": "display_data"
    }
   ],
   "source": [
    "# Creación de lista de valores para iterar sobre diferentes valores de n_estimators\n",
    "n_features = X_train.shape[1]\n",
    "\n",
    "features_range = range(1,n_features)\n",
    "\n",
    "# Definición de lista para almacenar la exactitud (accuracy) promedio para cada valor de n_estimators\n",
    "accuracy_scores_feat = []\n",
    "\n",
    "# Uso de un 5-fold cross-validation para cada valor de n_estimators\n",
    "for depth in features_range:\n",
    "    clf = RandomForestClassifier(max_depth=depth, random_state=1)\n",
    "    clf.fit(X_train, y_train)\n",
    "    pred = clf.predict(X_test)\n",
    "    accuracy_scores_feat.append(accuracy_score(y_test,pred))\n",
    "plt.plot(features_range, accuracy_scores_feat)\n",
    "plt.xlabel('max_features')\n",
    "plt.ylabel('Accuracy')\n",
    "features_final = sorted(zip(accuracy_scores_feat, features_range))[::-1][0][1]\n",
    "features_final"
   ]
  },
  {
   "cell_type": "code",
   "execution_count": 79,
   "metadata": {},
   "outputs": [
    {
     "data": {
      "text/plain": [
       "250"
      ]
     },
     "execution_count": 79,
     "metadata": {},
     "output_type": "execute_result"
    },
    {
     "data": {
      "image/png": "[encoded data removed]",
      "text/plain": [
       "<Figure size 432x288 with 1 Axes>"
      ]
     },
     "metadata": {
      "needs_background": "light"
     },
     "output_type": "display_data"
    }
   ],
   "source": [
    "# Celda 5\n",
    "# Creación de lista de valores para iterar sobre diferentes valores de n_estimators\n",
    "estimator_range = range(100, 500, 10)\n",
    "\n",
    "# Definición de lista para almacenar la exactitud (accuracy) promedio para cada valor de n_estimators\n",
    "accuracy_scores_n = []\n",
    "\n",
    "# Uso de un 5-fold cross-validation para cada valor de n_estimators\n",
    "for estimator in estimator_range:\n",
    "    clf = RandomForestClassifier(n_estimators=estimator, random_state=1, n_jobs=-1)\n",
    "    clf.fit(X_train, y_train)\n",
    "    pred = clf.predict(X_test)\n",
    "    accuracy_scores_n.append(accuracy_score(y_test,pred))\n",
    "plt.plot(estimator_range, accuracy_scores_n)\n",
    "plt.xlabel('n_estimators')\n",
    "plt.ylabel('Accuracy')\n",
    "en_final = sorted(zip(accuracy_scores_n, estimator_range))[::-1][0][1]\n",
    "n_final"
   ]
  },
  {
   "cell_type": "code",
   "execution_count": 82,
   "metadata": {},
   "outputs": [
    {
     "data": {
      "text/plain": [
       "0.8793302540415704"
      ]
     },
     "execution_count": 82,
     "metadata": {},
     "output_type": "execute_result"
    }
   ],
   "source": [
    "from sklearn.ensemble import RandomForestClassifier\n",
    "\n",
    "clf = RandomForestClassifier()\n",
    "clf = RandomForestClassifier(n_estimators=n_final, max_features=features_final, max_depth=depth_final, random_state=1, n_jobs=-1)\n",
    "clf.fit(X_train, y_train)\n",
    "pred = clf.predict(X_test)\n",
    "des_rfcal = accuracy_score(y_test,pred)\n",
    "des_rfcal"
   ]
  },
  {
   "cell_type": "markdown",
   "metadata": {},
   "source": [
    "Los resultados nos muestran que la profundidad máxima del árbol que garantiza el mejor desempeño es de 4. A medida que aumenta la profundidad, después de este valor el desempeño del modelo comienza a caer. \n",
    "En relación con el número de variables se observa que 4 es la cantidad que maximiza el desempeño. Del mismo modo, a medida que aumenta este número el desempeño del árbol cae.\n",
    "Finalmente, ren relaci´n con el número de estimadores, el óptimo loencontramos en 250. Después de 250 observamos que el accuracy se reduce significativamente.\n",
    "\n",
    "Al entrenar el modelo con estos parámetros ya calibrados encontramos que mejora significativamente el desempeño con relación al modelo del punto 4 en donde obtuvimos un desempeño del 83.7"
   ]
  },
  {
   "cell_type": "markdown",
   "metadata": {},
   "source": [
    "### Punto 6 - XGBoost con librería\n",
    "\n",
    "En la celda 6 implementen un modelo XGBoost de clasificación con la librería sklearn, presenten el acurracy del modelo en el set de test y comenten sus resultados."
   ]
  },
  {
   "cell_type": "code",
   "execution_count": 45,
   "metadata": {},
   "outputs": [
    {
     "name": "stdout",
     "output_type": "stream",
     "text": [
      "Requirement already satisfied: xgboost in c:\\users\\vivi\\anaconda3\\lib\\site-packages (1.5.2)\n",
      "Requirement already satisfied: scipy in c:\\users\\vivi\\anaconda3\\lib\\site-packages (from xgboost) (1.5.2)\n",
      "Requirement already satisfied: numpy in c:\\users\\vivi\\anaconda3\\lib\\site-packages (from xgboost) (1.19.2)\n",
      "[10:39:32] WARNING: C:/Users/Administrator/workspace/xgboost-win64_release_1.5.1/src/learner.cc:1115: Starting in XGBoost 1.3.0, the default evaluation metric used with the objective 'binary:logistic' was changed from 'error' to 'logloss'. Explicitly set eval_metric if you'd like to restore the old behavior.\n"
     ]
    },
    {
     "data": {
      "text/plain": [
       "0.8438221709006929"
      ]
     },
     "execution_count": 45,
     "metadata": {},
     "output_type": "execute_result"
    }
   ],
   "source": [
    "# Celda 6\n",
    "!pip install xgboost\n",
    "from xgboost import XGBClassifier\n",
    "clf = XGBClassifier()\n",
    "clf.fit(X_train, y_train)\n",
    "y_pred = clf.predict(X_test)\n",
    "des_xg = accuracy_score(y_pred, y_test)\n",
    "des_xg"
   ]
  },
  {
   "cell_type": "markdown",
   "metadata": {},
   "source": [
    "### Punto 7 - Calibración de parámetros XGBoost\n",
    "\n",
    "En la celda 7 calibren los parámetros learning rate, gamma y colsample_bytree del modelo XGBoost para clasificación. Presenten el acurracy del modelo en el set de test, comenten sus resultados y análicen cómo cada parámetro afecta el modelo."
   ]
  },
  {
   "cell_type": "code",
   "execution_count": 95,
   "metadata": {},
   "outputs": [
    {
     "data": {
      "text/plain": [
       "0"
      ]
     },
     "execution_count": 95,
     "metadata": {},
     "output_type": "execute_result"
    },
    {
     "data": {
      "image/png": "[encoded data removed]",
      "text/plain": [
       "<Figure size 432x288 with 1 Axes>"
      ]
     },
     "metadata": {
      "needs_background": "light"
     },
     "output_type": "display_data"
    }
   ],
   "source": [
    "# Celda 7\n",
    "from sklearn.model_selection import cross_val_score\n",
    "gamma_range = range(0, 100)\n",
    "\n",
    "# Definición de lista para almacenar la exactitud (accuracy) promedio para cada valor de n_estimators\n",
    "accuracy_scores_gamma = []\n",
    "\n",
    "# Uso de un 5-fold cross-validation para cada valor de n_estimators\n",
    "for dato in gamma_range:\n",
    "    clf = XGBClassifier(gamma = dato)\n",
    "    clf.fit(X_train, y_train)\n",
    "    y_pred = clf.predict(X_train)\n",
    "    accuracy_scores_gamma.append(cross_val_score(clf, X_train, y_train, cv=10, scoring='accuracy').mean())\n",
    "plt.plot(gamma_range, accuracy_scores_gamma)\n",
    "plt.xlabel('gamma')\n",
    "plt.ylabel('Accuracy')\n",
    "gamma_final = sorted(zip(accuracy_scores_gamma, gamma_range))[::-1][0][1]\n",
    "gamma_final"
   ]
  },
  {
   "cell_type": "code",
   "execution_count": 96,
   "metadata": {},
   "outputs": [
    {
     "data": {
      "text/plain": [
       "0.9"
      ]
     },
     "execution_count": 96,
     "metadata": {},
     "output_type": "execute_result"
    },
    {
     "data": {
      "image/png": "[encoded data removed]",
      "text/plain": [
       "<Figure size 432x288 with 1 Axes>"
      ]
     },
     "metadata": {
      "needs_background": "light"
     },
     "output_type": "display_data"
    }
   ],
   "source": [
    "colsample_bytree = np.arange(0.1,1.0,0.1)\n",
    "\n",
    "# Definición de lista para almacenar la exactitud (accuracy) promedio para cada valor de n_estimators\n",
    "accuracy_scores_col = []\n",
    "\n",
    "# Uso de un 5-fold cross-validation para cada valor de n_estimators\n",
    "for sample in colsample_bytree:\n",
    "    clf = XGBClassifier(colsample_bytree = sample, verbosity=0)\n",
    "    clf.fit(X_train, y_train)\n",
    "    y_pred = clf.predict(X_train)\n",
    "    accuracy_scores_col.append(cross_val_score(clf, X_train, y_train, cv=10, scoring='accuracy').mean())\n",
    "plt.plot(colsample_bytree, accuracy_scores_col)\n",
    "plt.xlabel('colsample_bytree')\n",
    "plt.ylabel('Accuracy')\n",
    "col_final = sorted(zip(accuracy_scores_col, colsample_bytree))[::-1][0][1]\n",
    "col_final"
   ]
  },
  {
   "cell_type": "code",
   "execution_count": 97,
   "metadata": {},
   "outputs": [
    {
     "data": {
      "text/plain": [
       "0.9"
      ]
     },
     "execution_count": 97,
     "metadata": {},
     "output_type": "execute_result"
    },
    {
     "data": {
      "image/png": "[encoded data removed]",
      "text/plain": [
       "<Figure size 432x288 with 1 Axes>"
      ]
     },
     "metadata": {
      "needs_background": "light"
     },
     "output_type": "display_data"
    }
   ],
   "source": [
    "learning_rates = np.arange(0.1,1.0,0.1)\n",
    "\n",
    "# Definición de lista para almacenar la exactitud (accuracy) promedio para cada valor de n_estimators\n",
    "accuracy_scores_learning = []\n",
    "\n",
    "# Uso de un 5-fold cross-validation para cada valor de n_estimators\n",
    "for rate in learning_rates:\n",
    "    clf = XGBClassifier(learning_rate = rate, verbosity=0)\n",
    "    clf.fit(X_train, y_train)\n",
    "    y_pred = clf.predict(X_train)\n",
    "    accuracy_scores_learning.append(cross_val_score(clf, X_train, y_train, cv=10, scoring='accuracy').mean())\n",
    "plt.plot(learning_rates, accuracy_scores_learning)\n",
    "plt.xlabel('learning_rates')\n",
    "plt.ylabel('Accuracy')\n",
    "lr_final = sorted(zip(accuracy_scores_learning, learning_rates))[::-1][0][1]\n",
    "lr_final"
   ]
  },
  {
   "cell_type": "code",
   "execution_count": 98,
   "metadata": {},
   "outputs": [
    {
     "name": "stdout",
     "output_type": "stream",
     "text": [
      "Requirement already satisfied: xgboost in c:\\users\\vivi\\anaconda3\\lib\\site-packages (1.5.2)\n",
      "Requirement already satisfied: numpy in c:\\users\\vivi\\anaconda3\\lib\\site-packages (from xgboost) (1.19.2)\n",
      "Requirement already satisfied: scipy in c:\\users\\vivi\\anaconda3\\lib\\site-packages (from xgboost) (1.5.2)\n"
     ]
    },
    {
     "data": {
      "text/plain": [
       "0.8438221709006929"
      ]
     },
     "execution_count": 98,
     "metadata": {},
     "output_type": "execute_result"
    }
   ],
   "source": [
    "# Celda 6\n",
    "!pip install xgboost\n",
    "from xgboost import XGBClassifier\n",
    "clf = XGBClassifier(gamma = gamma_final, colsample_bytree = col_final, learning_rate= lr_final)\n",
    "clf.fit(X_train, y_train)\n",
    "y_pred = clf.predict(X_test)\n",
    "des_xg2 = accuracy_score(y_pred, y_test)\n",
    "des_xg2"
   ]
  },
  {
   "cell_type": "markdown",
   "metadata": {},
   "source": [
    "### Punto 8 - Comparación y análisis de resultados\n",
    "En la celda 8 comparen los resultados obtenidos de los diferentes modelos (random forest y XGBoost) y comenten las ventajas del mejor modelo y las desventajas del modelo con el menor desempeño."
   ]
  },
  {
   "cell_type": "code",
   "execution_count": null,
   "metadata": {},
   "outputs": [],
   "source": [
    "# Celda 8\n",
    "\n"
   ]
  }
 ],
 "metadata": {
  "kernelspec": {
   "display_name": "Python 3",
   "language": "python",
   "name": "python3"
  },
  "language_info": {
   "codemirror_mode": {
    "name": "ipython",
    "version": 3
   },
   "file_extension": ".py",
   "mimetype": "text/x-python",
   "name": "python",
   "nbconvert_exporter": "python",
   "pygments_lexer": "ipython3",
   "version": "3.8.5"
  }
 },
 "nbformat": 4,
 "nbformat_minor": 4
}
