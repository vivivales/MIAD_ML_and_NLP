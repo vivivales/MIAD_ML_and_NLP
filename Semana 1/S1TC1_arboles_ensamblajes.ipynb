{
 "cells": [
  {
   "cell_type": "markdown",
   "metadata": {},
   "source": [
    "![image info](https://raw.githubusercontent.com/albahnsen/MIAD_ML_and_NLP/main/images/banner_1.png)"
   ]
  },
  {
   "cell_type": "markdown",
   "metadata": {},
   "source": [
    "# Taller: Construcción e implementación de árboles de decisión y métodos de ensamblaje\n",
    "\n",
    "En este taller podrá poner en práctica los sus conocimientos sobre construcción e implementación de árboles de decisión y métodos de ensamblajes. El taller está constituido por 9 puntos, 5 relacionados con árboles de decisión (parte A) y 4 con métodos de ensamblaje (parte B)."
   ]
  },
  {
   "cell_type": "markdown",
   "metadata": {},
   "source": [
    "## Parte A - Árboles de decisión\n",
    "\n",
    "En esta parte del taller se usará el conjunto de datos de Capital Bikeshare de Kaggle, donde cada observación representa el alquiler de una bicicleta durante una hora y día determinado. Para más detalles puede visitar los siguientes enlaces: [datos](https://github.com/justmarkham/DAT8/blob/master/data/bikeshare.csv), [dicccionario de datos](https://www.kaggle.com/c/bike-sharing-demand/data)."
   ]
  },
  {
   "cell_type": "markdown",
   "metadata": {},
   "source": [
    "### Datos prestamo de bicicletas"
   ]
  },
  {
   "cell_type": "code",
   "execution_count": 1,
   "metadata": {},
   "outputs": [],
   "source": [
    "import warnings\n",
    "warnings.filterwarnings('ignore')"
   ]
  },
  {
   "cell_type": "code",
   "execution_count": 2,
   "metadata": {},
   "outputs": [],
   "source": [
    "# Importación de librerías\n",
    "%matplotlib inline\n",
    "import pandas as pd\n",
    "import numpy as np\n",
    "from sklearn.model_selection import cross_val_score\n",
    "from sklearn.linear_model import LinearRegression\n",
    "from sklearn.tree import DecisionTreeRegressor, export_graphviz\n",
    "from sklearn.model_selection import train_test_split\n",
    "from sklearn.metrics import mean_squared_error, r2_score \n",
    "from sklearn.tree import DecisionTreeRegressor\n",
    "import matplotlib.pyplot as plt"
   ]
  },
  {
   "cell_type": "code",
   "execution_count": 3,
   "metadata": {},
   "outputs": [
    {
     "data": {
      "text/html": [
       "<div>\n",
       "<style scoped>\n",
       "    .dataframe tbody tr th:only-of-type {\n",
       "        vertical-align: middle;\n",
       "    }\n",
       "\n",
       "    .dataframe tbody tr th {\n",
       "        vertical-align: top;\n",
       "    }\n",
       "\n",
       "    .dataframe thead th {\n",
       "        text-align: right;\n",
       "    }\n",
       "</style>\n",
       "<table border=\"1\" class=\"dataframe\">\n",
       "  <thead>\n",
       "    <tr style=\"text-align: right;\">\n",
       "      <th></th>\n",
       "      <th>season</th>\n",
       "      <th>holiday</th>\n",
       "      <th>workingday</th>\n",
       "      <th>weather</th>\n",
       "      <th>temp</th>\n",
       "      <th>atemp</th>\n",
       "      <th>humidity</th>\n",
       "      <th>windspeed</th>\n",
       "      <th>casual</th>\n",
       "      <th>registered</th>\n",
       "      <th>total</th>\n",
       "      <th>hour</th>\n",
       "    </tr>\n",
       "    <tr>\n",
       "      <th>datetime</th>\n",
       "      <th></th>\n",
       "      <th></th>\n",
       "      <th></th>\n",
       "      <th></th>\n",
       "      <th></th>\n",
       "      <th></th>\n",
       "      <th></th>\n",
       "      <th></th>\n",
       "      <th></th>\n",
       "      <th></th>\n",
       "      <th></th>\n",
       "      <th></th>\n",
       "    </tr>\n",
       "  </thead>\n",
       "  <tbody>\n",
       "    <tr>\n",
       "      <th>2011-01-01 00:00:00</th>\n",
       "      <td>1</td>\n",
       "      <td>0</td>\n",
       "      <td>0</td>\n",
       "      <td>1</td>\n",
       "      <td>9.84</td>\n",
       "      <td>14.395</td>\n",
       "      <td>81</td>\n",
       "      <td>0.0</td>\n",
       "      <td>3</td>\n",
       "      <td>13</td>\n",
       "      <td>16</td>\n",
       "      <td>0</td>\n",
       "    </tr>\n",
       "    <tr>\n",
       "      <th>2011-01-01 01:00:00</th>\n",
       "      <td>1</td>\n",
       "      <td>0</td>\n",
       "      <td>0</td>\n",
       "      <td>1</td>\n",
       "      <td>9.02</td>\n",
       "      <td>13.635</td>\n",
       "      <td>80</td>\n",
       "      <td>0.0</td>\n",
       "      <td>8</td>\n",
       "      <td>32</td>\n",
       "      <td>40</td>\n",
       "      <td>1</td>\n",
       "    </tr>\n",
       "    <tr>\n",
       "      <th>2011-01-01 02:00:00</th>\n",
       "      <td>1</td>\n",
       "      <td>0</td>\n",
       "      <td>0</td>\n",
       "      <td>1</td>\n",
       "      <td>9.02</td>\n",
       "      <td>13.635</td>\n",
       "      <td>80</td>\n",
       "      <td>0.0</td>\n",
       "      <td>5</td>\n",
       "      <td>27</td>\n",
       "      <td>32</td>\n",
       "      <td>2</td>\n",
       "    </tr>\n",
       "    <tr>\n",
       "      <th>2011-01-01 03:00:00</th>\n",
       "      <td>1</td>\n",
       "      <td>0</td>\n",
       "      <td>0</td>\n",
       "      <td>1</td>\n",
       "      <td>9.84</td>\n",
       "      <td>14.395</td>\n",
       "      <td>75</td>\n",
       "      <td>0.0</td>\n",
       "      <td>3</td>\n",
       "      <td>10</td>\n",
       "      <td>13</td>\n",
       "      <td>3</td>\n",
       "    </tr>\n",
       "    <tr>\n",
       "      <th>2011-01-01 04:00:00</th>\n",
       "      <td>1</td>\n",
       "      <td>0</td>\n",
       "      <td>0</td>\n",
       "      <td>1</td>\n",
       "      <td>9.84</td>\n",
       "      <td>14.395</td>\n",
       "      <td>75</td>\n",
       "      <td>0.0</td>\n",
       "      <td>0</td>\n",
       "      <td>1</td>\n",
       "      <td>1</td>\n",
       "      <td>4</td>\n",
       "    </tr>\n",
       "  </tbody>\n",
       "</table>\n",
       "</div>"
      ],
      "text/plain": [
       "                     season  holiday  workingday  weather  temp   atemp  \\\n",
       "datetime                                                                  \n",
       "2011-01-01 00:00:00       1        0           0        1  9.84  14.395   \n",
       "2011-01-01 01:00:00       1        0           0        1  9.02  13.635   \n",
       "2011-01-01 02:00:00       1        0           0        1  9.02  13.635   \n",
       "2011-01-01 03:00:00       1        0           0        1  9.84  14.395   \n",
       "2011-01-01 04:00:00       1        0           0        1  9.84  14.395   \n",
       "\n",
       "                     humidity  windspeed  casual  registered  total  hour  \n",
       "datetime                                                                   \n",
       "2011-01-01 00:00:00        81        0.0       3          13     16     0  \n",
       "2011-01-01 01:00:00        80        0.0       8          32     40     1  \n",
       "2011-01-01 02:00:00        80        0.0       5          27     32     2  \n",
       "2011-01-01 03:00:00        75        0.0       3          10     13     3  \n",
       "2011-01-01 04:00:00        75        0.0       0           1      1     4  "
      ]
     },
     "execution_count": 3,
     "metadata": {},
     "output_type": "execute_result"
    }
   ],
   "source": [
    "# Lectura de la información de archivo .csv\n",
    "bikes = pd.read_csv('https://raw.githubusercontent.com/albahnsen/MIAD_ML_and_NLP/main/datasets/bikeshare.csv', index_col='datetime', parse_dates=True)\n",
    "# Renombrar variable \"count\" a \"total\"\n",
    "bikes.rename(columns={'count':'total'}, inplace=True)\n",
    "# Crear la hora como una variable \n",
    "bikes['hour'] = bikes.index.hour\n",
    "# Visualización\n",
    "bikes.head()"
   ]
  },
  {
   "cell_type": "markdown",
   "metadata": {},
   "source": [
    "### Punto 1 - Análisis descriptivo\n",
    "\n",
    "Ejecute las celdas 1.1 y 1.2. A partir de los resultados realice un análisis descriptivo sobre las variables hour y workingday, escriba sus inferencias sobre los datos. Para complementar su análisis puede usar métricas como máximo, mínimo, percentiles entre otros."
   ]
  },
  {
   "cell_type": "code",
   "execution_count": 4,
   "metadata": {},
   "outputs": [
    {
     "data": {
      "text/html": [
       "<div>\n",
       "<style scoped>\n",
       "    .dataframe tbody tr th:only-of-type {\n",
       "        vertical-align: middle;\n",
       "    }\n",
       "\n",
       "    .dataframe tbody tr th {\n",
       "        vertical-align: top;\n",
       "    }\n",
       "\n",
       "    .dataframe thead th {\n",
       "        text-align: right;\n",
       "    }\n",
       "</style>\n",
       "<table border=\"1\" class=\"dataframe\">\n",
       "  <thead>\n",
       "    <tr style=\"text-align: right;\">\n",
       "      <th></th>\n",
       "      <th>count</th>\n",
       "      <th>mean</th>\n",
       "      <th>std</th>\n",
       "      <th>min</th>\n",
       "      <th>25%</th>\n",
       "      <th>50%</th>\n",
       "      <th>75%</th>\n",
       "      <th>max</th>\n",
       "    </tr>\n",
       "    <tr>\n",
       "      <th>workingday</th>\n",
       "      <th></th>\n",
       "      <th></th>\n",
       "      <th></th>\n",
       "      <th></th>\n",
       "      <th></th>\n",
       "      <th></th>\n",
       "      <th></th>\n",
       "      <th></th>\n",
       "    </tr>\n",
       "  </thead>\n",
       "  <tbody>\n",
       "    <tr>\n",
       "      <th>0</th>\n",
       "      <td>3474.0</td>\n",
       "      <td>188.506621</td>\n",
       "      <td>173.724015</td>\n",
       "      <td>1.0</td>\n",
       "      <td>44.0</td>\n",
       "      <td>128.0</td>\n",
       "      <td>304.0</td>\n",
       "      <td>783.0</td>\n",
       "    </tr>\n",
       "    <tr>\n",
       "      <th>1</th>\n",
       "      <td>7412.0</td>\n",
       "      <td>193.011873</td>\n",
       "      <td>184.513659</td>\n",
       "      <td>1.0</td>\n",
       "      <td>41.0</td>\n",
       "      <td>151.0</td>\n",
       "      <td>277.0</td>\n",
       "      <td>977.0</td>\n",
       "    </tr>\n",
       "  </tbody>\n",
       "</table>\n",
       "</div>"
      ],
      "text/plain": [
       "             count        mean         std  min   25%    50%    75%    max\n",
       "workingday                                                                \n",
       "0           3474.0  188.506621  173.724015  1.0  44.0  128.0  304.0  783.0\n",
       "1           7412.0  193.011873  184.513659  1.0  41.0  151.0  277.0  977.0"
      ]
     },
     "execution_count": 4,
     "metadata": {},
     "output_type": "execute_result"
    }
   ],
   "source": [
    "# Celda 1.1\n",
    "media = bikes.groupby('workingday').total.mean()\n",
    "bikes.groupby('workingday').total.describe()"
   ]
  },
  {
   "cell_type": "markdown",
   "metadata": {},
   "source": [
    "En relación con la variable working se puede inferir que:\n",
    "\n",
    "- Dado que existen más días laborales que días festivos/fin de semana, tenemos más registros de una clase que de otra\n",
    "- En día festivo/fin de semana se alquilan en promedio 188 bicicletas, mientras que en día laboral se alquilan en promedio 193\n",
    "- Hay mayor dispersión de los datos para la clase 1\n",
    "- En el 50% de las veces, la cantidad de alquileres en día laboral es menor o igual a 151, frente a la cantidad en día festivo/fin de semana que es de 128.\n",
    "- En día laboral, los registros muestran que se alcanzan valores máximos de 977 alquileres frente a 783 en día no laboral"
   ]
  },
  {
   "cell_type": "code",
   "execution_count": 5,
   "metadata": {
    "scrolled": true
   },
   "outputs": [
    {
     "data": {
      "text/html": [
       "<div>\n",
       "<style scoped>\n",
       "    .dataframe tbody tr th:only-of-type {\n",
       "        vertical-align: middle;\n",
       "    }\n",
       "\n",
       "    .dataframe tbody tr th {\n",
       "        vertical-align: top;\n",
       "    }\n",
       "\n",
       "    .dataframe thead th {\n",
       "        text-align: right;\n",
       "    }\n",
       "</style>\n",
       "<table border=\"1\" class=\"dataframe\">\n",
       "  <thead>\n",
       "    <tr style=\"text-align: right;\">\n",
       "      <th></th>\n",
       "      <th>count</th>\n",
       "      <th>mean</th>\n",
       "      <th>std</th>\n",
       "      <th>min</th>\n",
       "      <th>25%</th>\n",
       "      <th>50%</th>\n",
       "      <th>75%</th>\n",
       "      <th>max</th>\n",
       "    </tr>\n",
       "    <tr>\n",
       "      <th>hour</th>\n",
       "      <th></th>\n",
       "      <th></th>\n",
       "      <th></th>\n",
       "      <th></th>\n",
       "      <th></th>\n",
       "      <th></th>\n",
       "      <th></th>\n",
       "      <th></th>\n",
       "    </tr>\n",
       "  </thead>\n",
       "  <tbody>\n",
       "    <tr>\n",
       "      <th>0</th>\n",
       "      <td>455.0</td>\n",
       "      <td>55.138462</td>\n",
       "      <td>43.620012</td>\n",
       "      <td>2.0</td>\n",
       "      <td>24.00</td>\n",
       "      <td>41.0</td>\n",
       "      <td>74.50</td>\n",
       "      <td>283.0</td>\n",
       "    </tr>\n",
       "    <tr>\n",
       "      <th>1</th>\n",
       "      <td>454.0</td>\n",
       "      <td>33.859031</td>\n",
       "      <td>34.112105</td>\n",
       "      <td>1.0</td>\n",
       "      <td>11.00</td>\n",
       "      <td>19.0</td>\n",
       "      <td>46.00</td>\n",
       "      <td>168.0</td>\n",
       "    </tr>\n",
       "    <tr>\n",
       "      <th>2</th>\n",
       "      <td>448.0</td>\n",
       "      <td>22.899554</td>\n",
       "      <td>26.110267</td>\n",
       "      <td>1.0</td>\n",
       "      <td>5.00</td>\n",
       "      <td>11.0</td>\n",
       "      <td>32.00</td>\n",
       "      <td>119.0</td>\n",
       "    </tr>\n",
       "    <tr>\n",
       "      <th>3</th>\n",
       "      <td>433.0</td>\n",
       "      <td>11.757506</td>\n",
       "      <td>12.666442</td>\n",
       "      <td>1.0</td>\n",
       "      <td>3.00</td>\n",
       "      <td>6.0</td>\n",
       "      <td>15.00</td>\n",
       "      <td>66.0</td>\n",
       "    </tr>\n",
       "    <tr>\n",
       "      <th>4</th>\n",
       "      <td>442.0</td>\n",
       "      <td>6.407240</td>\n",
       "      <td>4.217633</td>\n",
       "      <td>1.0</td>\n",
       "      <td>3.00</td>\n",
       "      <td>6.0</td>\n",
       "      <td>9.00</td>\n",
       "      <td>28.0</td>\n",
       "    </tr>\n",
       "    <tr>\n",
       "      <th>5</th>\n",
       "      <td>452.0</td>\n",
       "      <td>19.767699</td>\n",
       "      <td>12.784293</td>\n",
       "      <td>1.0</td>\n",
       "      <td>8.00</td>\n",
       "      <td>19.0</td>\n",
       "      <td>29.00</td>\n",
       "      <td>57.0</td>\n",
       "    </tr>\n",
       "    <tr>\n",
       "      <th>6</th>\n",
       "      <td>455.0</td>\n",
       "      <td>76.259341</td>\n",
       "      <td>54.745333</td>\n",
       "      <td>1.0</td>\n",
       "      <td>24.50</td>\n",
       "      <td>75.0</td>\n",
       "      <td>118.00</td>\n",
       "      <td>213.0</td>\n",
       "    </tr>\n",
       "    <tr>\n",
       "      <th>7</th>\n",
       "      <td>455.0</td>\n",
       "      <td>213.116484</td>\n",
       "      <td>159.207044</td>\n",
       "      <td>1.0</td>\n",
       "      <td>63.00</td>\n",
       "      <td>208.0</td>\n",
       "      <td>334.00</td>\n",
       "      <td>596.0</td>\n",
       "    </tr>\n",
       "    <tr>\n",
       "      <th>8</th>\n",
       "      <td>455.0</td>\n",
       "      <td>362.769231</td>\n",
       "      <td>231.723065</td>\n",
       "      <td>8.0</td>\n",
       "      <td>133.50</td>\n",
       "      <td>392.0</td>\n",
       "      <td>563.50</td>\n",
       "      <td>839.0</td>\n",
       "    </tr>\n",
       "    <tr>\n",
       "      <th>9</th>\n",
       "      <td>455.0</td>\n",
       "      <td>221.780220</td>\n",
       "      <td>92.099209</td>\n",
       "      <td>14.0</td>\n",
       "      <td>161.00</td>\n",
       "      <td>217.0</td>\n",
       "      <td>294.50</td>\n",
       "      <td>414.0</td>\n",
       "    </tr>\n",
       "    <tr>\n",
       "      <th>10</th>\n",
       "      <td>455.0</td>\n",
       "      <td>175.092308</td>\n",
       "      <td>101.807629</td>\n",
       "      <td>17.0</td>\n",
       "      <td>106.00</td>\n",
       "      <td>149.0</td>\n",
       "      <td>218.50</td>\n",
       "      <td>539.0</td>\n",
       "    </tr>\n",
       "    <tr>\n",
       "      <th>11</th>\n",
       "      <td>455.0</td>\n",
       "      <td>210.674725</td>\n",
       "      <td>127.444294</td>\n",
       "      <td>10.0</td>\n",
       "      <td>123.00</td>\n",
       "      <td>183.0</td>\n",
       "      <td>265.50</td>\n",
       "      <td>647.0</td>\n",
       "    </tr>\n",
       "    <tr>\n",
       "      <th>12</th>\n",
       "      <td>456.0</td>\n",
       "      <td>256.508772</td>\n",
       "      <td>143.881880</td>\n",
       "      <td>3.0</td>\n",
       "      <td>157.00</td>\n",
       "      <td>234.5</td>\n",
       "      <td>332.00</td>\n",
       "      <td>757.0</td>\n",
       "    </tr>\n",
       "    <tr>\n",
       "      <th>13</th>\n",
       "      <td>456.0</td>\n",
       "      <td>257.787281</td>\n",
       "      <td>149.167185</td>\n",
       "      <td>11.0</td>\n",
       "      <td>154.00</td>\n",
       "      <td>226.5</td>\n",
       "      <td>329.00</td>\n",
       "      <td>729.0</td>\n",
       "    </tr>\n",
       "    <tr>\n",
       "      <th>14</th>\n",
       "      <td>456.0</td>\n",
       "      <td>243.442982</td>\n",
       "      <td>147.563199</td>\n",
       "      <td>12.0</td>\n",
       "      <td>144.00</td>\n",
       "      <td>212.0</td>\n",
       "      <td>311.25</td>\n",
       "      <td>730.0</td>\n",
       "    </tr>\n",
       "    <tr>\n",
       "      <th>15</th>\n",
       "      <td>456.0</td>\n",
       "      <td>254.298246</td>\n",
       "      <td>144.235670</td>\n",
       "      <td>7.0</td>\n",
       "      <td>154.00</td>\n",
       "      <td>232.0</td>\n",
       "      <td>331.00</td>\n",
       "      <td>724.0</td>\n",
       "    </tr>\n",
       "    <tr>\n",
       "      <th>16</th>\n",
       "      <td>456.0</td>\n",
       "      <td>316.372807</td>\n",
       "      <td>145.664786</td>\n",
       "      <td>11.0</td>\n",
       "      <td>211.75</td>\n",
       "      <td>309.5</td>\n",
       "      <td>421.00</td>\n",
       "      <td>783.0</td>\n",
       "    </tr>\n",
       "    <tr>\n",
       "      <th>17</th>\n",
       "      <td>456.0</td>\n",
       "      <td>468.765351</td>\n",
       "      <td>223.775485</td>\n",
       "      <td>15.0</td>\n",
       "      <td>277.00</td>\n",
       "      <td>480.5</td>\n",
       "      <td>608.50</td>\n",
       "      <td>970.0</td>\n",
       "    </tr>\n",
       "    <tr>\n",
       "      <th>18</th>\n",
       "      <td>456.0</td>\n",
       "      <td>430.859649</td>\n",
       "      <td>219.908138</td>\n",
       "      <td>23.0</td>\n",
       "      <td>240.75</td>\n",
       "      <td>422.5</td>\n",
       "      <td>564.00</td>\n",
       "      <td>977.0</td>\n",
       "    </tr>\n",
       "    <tr>\n",
       "      <th>19</th>\n",
       "      <td>456.0</td>\n",
       "      <td>315.278509</td>\n",
       "      <td>156.641732</td>\n",
       "      <td>11.0</td>\n",
       "      <td>190.00</td>\n",
       "      <td>312.5</td>\n",
       "      <td>416.00</td>\n",
       "      <td>743.0</td>\n",
       "    </tr>\n",
       "    <tr>\n",
       "      <th>20</th>\n",
       "      <td>456.0</td>\n",
       "      <td>228.517544</td>\n",
       "      <td>116.411565</td>\n",
       "      <td>11.0</td>\n",
       "      <td>136.75</td>\n",
       "      <td>224.0</td>\n",
       "      <td>302.00</td>\n",
       "      <td>551.0</td>\n",
       "    </tr>\n",
       "    <tr>\n",
       "      <th>21</th>\n",
       "      <td>456.0</td>\n",
       "      <td>173.370614</td>\n",
       "      <td>87.629319</td>\n",
       "      <td>6.0</td>\n",
       "      <td>103.50</td>\n",
       "      <td>171.5</td>\n",
       "      <td>230.00</td>\n",
       "      <td>584.0</td>\n",
       "    </tr>\n",
       "    <tr>\n",
       "      <th>22</th>\n",
       "      <td>456.0</td>\n",
       "      <td>133.576754</td>\n",
       "      <td>69.844495</td>\n",
       "      <td>9.0</td>\n",
       "      <td>80.00</td>\n",
       "      <td>129.0</td>\n",
       "      <td>175.00</td>\n",
       "      <td>502.0</td>\n",
       "    </tr>\n",
       "    <tr>\n",
       "      <th>23</th>\n",
       "      <td>456.0</td>\n",
       "      <td>89.508772</td>\n",
       "      <td>51.638004</td>\n",
       "      <td>4.0</td>\n",
       "      <td>52.75</td>\n",
       "      <td>80.0</td>\n",
       "      <td>123.00</td>\n",
       "      <td>256.0</td>\n",
       "    </tr>\n",
       "  </tbody>\n",
       "</table>\n",
       "</div>"
      ],
      "text/plain": [
       "      count        mean         std   min     25%    50%     75%    max\n",
       "hour                                                                   \n",
       "0     455.0   55.138462   43.620012   2.0   24.00   41.0   74.50  283.0\n",
       "1     454.0   33.859031   34.112105   1.0   11.00   19.0   46.00  168.0\n",
       "2     448.0   22.899554   26.110267   1.0    5.00   11.0   32.00  119.0\n",
       "3     433.0   11.757506   12.666442   1.0    3.00    6.0   15.00   66.0\n",
       "4     442.0    6.407240    4.217633   1.0    3.00    6.0    9.00   28.0\n",
       "5     452.0   19.767699   12.784293   1.0    8.00   19.0   29.00   57.0\n",
       "6     455.0   76.259341   54.745333   1.0   24.50   75.0  118.00  213.0\n",
       "7     455.0  213.116484  159.207044   1.0   63.00  208.0  334.00  596.0\n",
       "8     455.0  362.769231  231.723065   8.0  133.50  392.0  563.50  839.0\n",
       "9     455.0  221.780220   92.099209  14.0  161.00  217.0  294.50  414.0\n",
       "10    455.0  175.092308  101.807629  17.0  106.00  149.0  218.50  539.0\n",
       "11    455.0  210.674725  127.444294  10.0  123.00  183.0  265.50  647.0\n",
       "12    456.0  256.508772  143.881880   3.0  157.00  234.5  332.00  757.0\n",
       "13    456.0  257.787281  149.167185  11.0  154.00  226.5  329.00  729.0\n",
       "14    456.0  243.442982  147.563199  12.0  144.00  212.0  311.25  730.0\n",
       "15    456.0  254.298246  144.235670   7.0  154.00  232.0  331.00  724.0\n",
       "16    456.0  316.372807  145.664786  11.0  211.75  309.5  421.00  783.0\n",
       "17    456.0  468.765351  223.775485  15.0  277.00  480.5  608.50  970.0\n",
       "18    456.0  430.859649  219.908138  23.0  240.75  422.5  564.00  977.0\n",
       "19    456.0  315.278509  156.641732  11.0  190.00  312.5  416.00  743.0\n",
       "20    456.0  228.517544  116.411565  11.0  136.75  224.0  302.00  551.0\n",
       "21    456.0  173.370614   87.629319   6.0  103.50  171.5  230.00  584.0\n",
       "22    456.0  133.576754   69.844495   9.0   80.00  129.0  175.00  502.0\n",
       "23    456.0   89.508772   51.638004   4.0   52.75   80.0  123.00  256.0"
      ]
     },
     "execution_count": 5,
     "metadata": {},
     "output_type": "execute_result"
    }
   ],
   "source": [
    "# Celda 1.2\n",
    "bikes.groupby('hour').total.mean()\n",
    "bikes.groupby('hour').total.describe()"
   ]
  },
  {
   "cell_type": "markdown",
   "metadata": {},
   "source": [
    "Al analizar el número de alquileres de bicicletas en una hora determinada, encontramos que:\n",
    "\n",
    "- En la madrugada hay un menor número de alquileres frente al resto del día\n",
    "- Va creciendo conforme entra la mañana, incrementándose entre las 6 y 8 de la mañana. \n",
    "- Luego, hacia las 9 y 10 decae un poco, pero vuelve a tener una tendencia a crecer hasta las 6 de la tarde.\n",
    "- Finalmente, comienza a bajar la demanda entrada la noche\n",
    "- En horas como las 6 de la tarde vemos que oscila entre 23 y 977, siendo esta la hora en donde hay mayor demanda"
   ]
  },
  {
   "cell_type": "markdown",
   "metadata": {},
   "source": [
    "### Punto 2 - Análisis de gráficos\n",
    "\n",
    "Primero ejecute la celda 2.1 y asegúrese de comprender el código y el resultado. Luego, en cada una de celdas 2.2 y 2.3 escriba un código que genere una gráfica de las rentas promedio por hora cuando la variable \"workingday\" es igual a 0 e igual a 1, respectivamente. Analice y escriba sus hallazgos."
   ]
  },
  {
   "cell_type": "code",
   "execution_count": 6,
   "metadata": {},
   "outputs": [
    {
     "data": {
      "text/plain": [
       "<AxesSubplot:xlabel='hour'>"
      ]
     },
     "execution_count": 6,
     "metadata": {},
     "output_type": "execute_result"
    },
    {
     "data": {
      "image/png": "[encoded data removed]",
      "text/plain": [
       "<Figure size 432x288 with 1 Axes>"
      ]
     },
     "metadata": {
      "needs_background": "light"
     },
     "output_type": "display_data"
    }
   ],
   "source": [
    "# Celda 2.1 - rentas promedio para cada valor de la variable \"hour\"\n",
    "bikes.groupby('hour').total.mean().plot()"
   ]
  },
  {
   "cell_type": "code",
   "execution_count": 7,
   "metadata": {},
   "outputs": [
    {
     "data": {
      "text/plain": [
       "<AxesSubplot:xlabel='hour'>"
      ]
     },
     "execution_count": 7,
     "metadata": {},
     "output_type": "execute_result"
    },
    {
     "data": {
      "image/png": "[encoded data removed]",
      "text/plain": [
       "<Figure size 432x288 with 1 Axes>"
      ]
     },
     "metadata": {
      "needs_background": "light"
     },
     "output_type": "display_data"
    }
   ],
   "source": [
    "# Celda 2.2 - \"workingday\"=0 escriba su código y hallazgos \n",
    "clase_0 = bikes[bikes['workingday'] == 0]\n",
    "clase_0.groupby('hour').total.mean().plot()"
   ]
  },
  {
   "cell_type": "code",
   "execution_count": 8,
   "metadata": {},
   "outputs": [
    {
     "data": {
      "text/plain": [
       "<AxesSubplot:xlabel='hour'>"
      ]
     },
     "execution_count": 8,
     "metadata": {},
     "output_type": "execute_result"
    },
    {
     "data": {
      "image/png": "[encoded data removed]",
      "text/plain": [
       "<Figure size 432x288 with 1 Axes>"
      ]
     },
     "metadata": {
      "needs_background": "light"
     },
     "output_type": "display_data"
    }
   ],
   "source": [
    "# Celda 2.3 - \"workingday\"=1 escriba su código y hallazgos \n",
    "clase_1 = bikes[bikes['workingday'] == 1]\n",
    "clase_1.groupby('hour').total.mean().plot()"
   ]
  },
  {
   "cell_type": "markdown",
   "metadata": {},
   "source": [
    "Los gráficos nos muestran que:\n",
    "1. La hora incide de manera importante en la cantidad de alquileres, siendo:\n",
    "    a. En día laboral encontramos dos picos que se presentan en las horas más frecuentes de ingreso (8am) y salida del trabajo (6 pm). \n",
    "    b. Mientras que en fin de semana/día festivo encontramos que hay una tendencia creciente y constante desde el inicio de la mañana y hasta las 4 de la tarde.\n",
    "2. En días laborales la demanda promedio logra alcanzar valores superiores a 500 en las 'horas pico', frente al fin de semana en donde los promedios superiores están alrededor de 380.\n",
    "3. La cantidad promedio de alquileres a la media noche es menor en días laborales vs días festivos/fin de semana"
   ]
  },
  {
   "cell_type": "markdown",
   "metadata": {},
   "source": [
    "### Punto 3 - Regresión lineal\n",
    "En la celda 3 ajuste un modelo de regresión lineal a todo el conjunto de datos, utilizando \"total\" como variable de respuesta y \"hour\" y \"workingday\" como las únicas variables predictoras. Luego, imprima los coeficientes e interprételos. ¿Cuáles son las limitaciones de la regresión lineal en este caso?"
   ]
  },
  {
   "cell_type": "code",
   "execution_count": 9,
   "metadata": {},
   "outputs": [],
   "source": [
    "# Separando los predictores de la variable de respuesta\n",
    "x = bikes[[\"hour\",\"workingday\"]]\n",
    "y = bikes['total']\n",
    "XTrain, XTest, yTrain, yTest = train_test_split(x, y, test_size=0.33, random_state=0)"
   ]
  },
  {
   "cell_type": "code",
   "execution_count": 10,
   "metadata": {},
   "outputs": [
    {
     "name": "stdout",
     "output_type": "stream",
     "text": [
      "Intercept: 67.70595026191602\n",
      "Coeficiente: [('hour', 10.49206282289374), ('workingday', 4.072486272904369)]\n"
     ]
    }
   ],
   "source": [
    "# Celda 3\n",
    "modelo_3 = LinearRegression()\n",
    "modelo_3.fit(X = x, y = y)\n",
    "print(\"Intercept:\", modelo_3.intercept_)\n",
    "print(\"Coeficiente:\", list(zip(x.columns, modelo_3.coef_.flatten(), )))"
   ]
  },
  {
   "cell_type": "code",
   "execution_count": 11,
   "metadata": {},
   "outputs": [],
   "source": [
    "#función para calcular el mse\n",
    "def mse(y,prediccion):\n",
    "    mse = mean_squared_error(y, prediccion)\n",
    "    return round(mse,1)"
   ]
  },
  {
   "cell_type": "code",
   "execution_count": 12,
   "metadata": {},
   "outputs": [
    {
     "data": {
      "text/plain": [
       "(0.1542683932647423, 27634.6)"
      ]
     },
     "execution_count": 12,
     "metadata": {},
     "output_type": "execute_result"
    }
   ],
   "source": [
    "prediccion_3 = modelo_3.predict(XTest)\n",
    "r2score_3 = r2_score(yTest,prediccion_3)\n",
    "mse_arbol_3 = mse(yTest,prediccion_3)\n",
    "r2score_3,mse_arbol_3"
   ]
  },
  {
   "cell_type": "markdown",
   "metadata": {},
   "source": [
    "Resultados del modelo:\n",
    "Función objetivo = 67.70 + 10.49 hour + 4.07 workingday\n",
    "\n",
    "1. El punto de corte está en 67.70 lo cual nos indica que para un día no laboral a la media noche (hora 0) el número previsto de bicicletas que se alquilan es de 67.70.\n",
    "2. Al analizar los coeficientes, encontramos que en días no laborales a medida que avanza el día por cada hora que pasa, la cantidad de bicicletas alquiladas se incrementa en 10.49. \n",
    "3. En días laborales, además del incremento ya mencionado por hora hay una tasa de 4.07 bicicletas adicionales que se alquilan. \n",
    "\n",
    "Luego de entrenar el modelo y analizar los resultados encontramos que:\n",
    "\n",
    "a. El modelo presume que a medida que aumenta una hora en el día, aumenta la demanda, lo cual deja de lado la \"estacionalidad\" que existe en la demanda de acuerdo a la hora y al tipo de día.\n",
    "\n",
    "b. El modelo presenta un desempeño del 0.15 de acuerdo al r2 lo cual es un desempeño muy pobre con un error de 27.634\n",
    "\n",
    "c. La regresión lineal simplifica demasiado el problema asumiendo que hay una relación lineal entre las variables, lo cual hace que este modelo no presente un buen desempeño para este problema en particular"
   ]
  },
  {
   "cell_type": "markdown",
   "metadata": {},
   "source": [
    "### Punto 4 - Árbol de decisión manual\n",
    "En la celda 4 cree un árbol de decisiones para pronosticar la variable \"total\" iterando **manualmente** sobre las variables \"hour\" y  \"workingday\". El árbol debe tener al menos 6 nodos finales."
   ]
  },
  {
   "cell_type": "markdown",
   "metadata": {},
   "source": [
    "Creamos funciones para:\n",
    "1. Obtener los conjuntos de partición de cada variable\n",
    "2. Calcular las predicciones"
   ]
  },
  {
   "cell_type": "code",
   "execution_count": 13,
   "metadata": {},
   "outputs": [],
   "source": [
    "#Definimos las particiones para cada variable\n",
    "\n",
    "def calcular_splits(x,variable):\n",
    "\n",
    "    splits_variables = []\n",
    "    if set(x.iloc[:,variable]) == {0,1}:\n",
    "        splits_variables.append([1])\n",
    "    else:\n",
    "        percentiles = np.percentile(x.iloc[:,0], np.arange(0,100,100.0/8)).tolist()\n",
    "        splits_variables.append(list(np.unique(percentiles)[1:]))\n",
    "\n",
    "    return splits_variables[0]"
   ]
  },
  {
   "cell_type": "code",
   "execution_count": 14,
   "metadata": {},
   "outputs": [],
   "source": [
    "#Funcion para definir las particiones para una variable\n",
    "def conjuntos_particiones(x,y,split,variable):\n",
    "    filter_v = x.iloc[:,variable]<split\n",
    "    y_l = y.loc[filter_v]\n",
    "    y_r = y.loc[~filter_v]\n",
    "    x_l = x.loc[filter_v]\n",
    "    x_r = x.loc[~filter_v]\n",
    "    return y_l,y_r,x_l,x_r"
   ]
  },
  {
   "cell_type": "code",
   "execution_count": 15,
   "metadata": {},
   "outputs": [],
   "source": [
    "#Calculamos las predicciones de cada lado del arbol\n",
    "def predicciones(y_l,y_r):\n",
    "    media_l = y_l.mean()\n",
    "    media_r = y_r.mean()\n",
    "    predicciones_l = [media_l]*len(y_l)\n",
    "    predicciones_r = [media_r]*len(y_r)\n",
    "    return predicciones_l,predicciones_r,media_l,media_r"
   ]
  },
  {
   "cell_type": "code",
   "execution_count": 16,
   "metadata": {},
   "outputs": [],
   "source": [
    "#funcion para seleccionar el mejor split en cada variable\n",
    "\n",
    "def best_split (x,y,variable):\n",
    "\n",
    "    lista_mse = []\n",
    "    lista_splits = []\n",
    "    splits = calcular_splits(x,variable)\n",
    "    for split in splits:\n",
    "        y_izq,y_der,x_izq,x_der = conjuntos_particiones(x,y,split,variable)\n",
    "        pred_l, pred_r,media_l,media_r = predicciones(y_izq,y_der)\n",
    "        pred_l, pred_r,media_l,media_r = predicciones(y_izq,y_der)\n",
    "        mse_l,mse_r = mse(y_izq,pred_l),mse(y_der,pred_r)\n",
    "        n_l,n_r = len(y_izq),len(y_der)\n",
    "        if len(lista_mse) == 0:\n",
    "            lista_mse.append(mse_l)\n",
    "            lista_mse.append(mse_r)\n",
    "            lista_splits.append(split)\n",
    "        elif mse_l < min(lista_mse) or mse_r < min(lista_mse):\n",
    "            lista_mse[0] = mse_l\n",
    "            lista_mse[1] = mse_r\n",
    "            lista_splits[0] = split\n",
    "    mejor_mse = min(lista_mse)\n",
    "    mejor_split = lista_splits[0]\n",
    "    mse_l = lista_mse[0]\n",
    "    mse_r = lista_mse[1]\n",
    "            \n",
    "    return mejor_mse,mejor_split,mse_l,mse_r"
   ]
  },
  {
   "cell_type": "markdown",
   "metadata": {},
   "source": [
    "Calculamos el MSE con el cual inicial el árbol:"
   ]
  },
  {
   "cell_type": "code",
   "execution_count": 20,
   "metadata": {},
   "outputs": [
    {
     "name": "stdout",
     "output_type": "stream",
     "text": [
      "MSE del nodo: 32810.3\n",
      "Número de observaciones del nodo: 10886\n"
     ]
    }
   ],
   "source": [
    "prediccion_0 = [y.mean()]*len(y)\n",
    "mse_0 = mse(y,prediccion_0)\n",
    "print('MSE del nodo: ' +str(mse_0))\n",
    "print('Número de observaciones del nodo: ' +str(len(x)))"
   ]
  },
  {
   "cell_type": "markdown",
   "metadata": {},
   "source": [
    "Ejecutamos el código para comenzar con las particiones del árbol y evaluar los puntos de corte de todas las variables:"
   ]
  },
  {
   "cell_type": "code",
   "execution_count": 21,
   "metadata": {},
   "outputs": [
    {
     "name": "stdout",
     "output_type": "stream",
     "text": [
      "Predicción del nodo: 191.57\n",
      "Punto de corte: Variable: hour <= 6.0\n",
      "MSE de la partición izquierda: 945.8\n",
      "MSE de la partición derecha: 30171.3\n"
     ]
    }
   ],
   "source": [
    "variables = list(x.columns.values)\n",
    "\n",
    "splits_v1 = calcular_splits(x,0)\n",
    "mejor_v1 = best_split (x,y,0)\n",
    "splits_v2 = calcular_splits(x,1)\n",
    "mejor_v2 = best_split (x,y,1)\n",
    "if mejor_v1[0]<mejor_v2[0]:\n",
    "    mse_f = mejor_v1[0]\n",
    "    spl_f = mejor_v1[1]\n",
    "    num_var = 0\n",
    "    var = variables[num_var]\n",
    "else:\n",
    "    mse_f = mejor_v2[0]\n",
    "    spl_f = mejor_v2[1]\n",
    "    num_var = 1\n",
    "    var = variables[num_var]\n",
    "\n",
    "\n",
    "\n",
    "\n",
    "print('Predicción del nodo: ' +str(round(y.mean(),2)))\n",
    "\n",
    "print('Punto de corte: Variable: '+str(var) + ' <= '+ str(spl_f))\n",
    "print('MSE de la partición izquierda: ' +str(mejor_v1[0]))\n",
    "print('MSE de la partición derecha: ' +str(mejor_v2[0]))"
   ]
  },
  {
   "cell_type": "markdown",
   "metadata": {},
   "source": [
    "El resultado nos muestra que de las primeras 10.886 observaciones es posible hacer una partición en x <=6 reduciendo el MSE en la partición izquierda a 945.8.\n",
    "\n",
    "Ejecutamos nuevamente para analizar la siguiente partición de la misma rama en donde tenemos un mse de 945.8"
   ]
  },
  {
   "cell_type": "code",
   "execution_count": 22,
   "metadata": {},
   "outputs": [
    {
     "name": "stdout",
     "output_type": "stream",
     "text": [
      "Número de observaciones del nodo izq: 2684\n",
      "Predicción del nodo: 25.18\n",
      "Número de observaciones del nodo der: 8202\n",
      "Predicción del nodo: 246.03\n",
      "Punto de corte: Variable: hour <= 4.0\n",
      "MSE de la partición izquierda: 135.8\n",
      "MSE de la partición derecha: 312.0\n"
     ]
    }
   ],
   "source": [
    "y_l,y_r,x_l,x_r = conjuntos_particiones(x,y,spl_f,num_var)\n",
    "splits_v1 = calcular_splits(x_l,0)\n",
    "mejor_v1 = best_split (x_l,y_l,0)\n",
    "splits_v2 = calcular_splits(x_l,1)\n",
    "mejor_v2 = best_split (x_l,y_l,1)\n",
    "if mejor_v1[0]<mejor_v2[0]:\n",
    "    mse_f = mejor_v1[0]\n",
    "    spl_f = mejor_v1[1]\n",
    "    num_var = 0\n",
    "    var = variables[num_var]\n",
    "else:\n",
    "    mse_f = mejor_v2[0]\n",
    "    spl_f = mejor_v2[1]\n",
    "    num_var = 1\n",
    "    var = variables[num_var]\n",
    "\n",
    "\n",
    "pred_inicial = [y_l.mean()]*len(y_l)\n",
    "mse_inicial = mse(y_l,pred_inicial)\n",
    "\n",
    "\n",
    "print('Número de observaciones del nodo izq: ' +str(len(x_l)))\n",
    "print('Predicción del nodo: ' +str(round(y_l.mean(),2)))\n",
    "\n",
    "print('Número de observaciones del nodo der: ' +str(len(x_r)))\n",
    "print('Predicción del nodo: ' +str(round(y_r.mean(),2)))\n",
    "\n",
    "print('Punto de corte: Variable: '+str(var) + ' <= '+ str(spl_f))\n",
    "\n",
    "print('MSE de la partición izquierda: ' +str(mejor_v1[0]))\n",
    "print('MSE de la partición derecha: ' +str(mejor_v2[0]))"
   ]
  },
  {
   "cell_type": "markdown",
   "metadata": {},
   "source": [
    "Se analizan 2684 observaciones, lo cual nos arroja que si se realiza una partición en la variable hour <= 4 reducimos el MSE a 135"
   ]
  },
  {
   "cell_type": "code",
   "execution_count": 23,
   "metadata": {},
   "outputs": [
    {
     "name": "stdout",
     "output_type": "stream",
     "text": [
      "Número de observaciones del nodo izq: 1790\n",
      "Predicción del nodo: 31.18\n",
      "Número de observaciones del nodo der: 894\n",
      "Predicción del nodo: 13.16\n",
      "Punto de corte: Variable: hour <= 3.0\n",
      "MSE de la partición izquierda: 160.1\n",
      "MSE de la partición derecha: 383.0\n"
     ]
    }
   ],
   "source": [
    "y_l,y_r,x_l,x_r = conjuntos_particiones(x_l,y_l,spl_f,num_var)\n",
    "splits_v1 = calcular_splits(x_l,0)\n",
    "mejor_v1 = best_split (x_l,y_l,0)\n",
    "splits_v2 = calcular_splits(x_l,1)\n",
    "mejor_v2 = best_split (x_l,y_l,1)\n",
    "if mejor_v1[0]<mejor_v2[0]:\n",
    "    mse_f = mejor_v1[0]\n",
    "    spl_f = mejor_v1[1]\n",
    "    num_var = 0\n",
    "    var = variables[num_var]\n",
    "else:\n",
    "    mse_f = mejor_v2[0]\n",
    "    spl_f = mejor_v2[1]\n",
    "    num_var = 1\n",
    "    var = variables[num_var]\n",
    "\n",
    "\n",
    "pred_inicial = [y_l.mean()]*len(y_l)\n",
    "mse_inicial = mse(y_l,pred_inicial)\n",
    "\n",
    "\n",
    "print('Número de observaciones del nodo izq: ' +str(len(x_l)))\n",
    "print('Predicción del nodo: ' +str(round(y_l.mean(),2)))\n",
    "\n",
    "print('Número de observaciones del nodo der: ' +str(len(x_r)))\n",
    "print('Predicción del nodo: ' +str(round(y_r.mean(),2)))\n",
    "\n",
    "print('Punto de corte: Variable: '+str(var) + ' <= '+ str(spl_f))\n",
    "\n",
    "print('MSE de la partición izquierda: ' +str(mejor_v1[0]))\n",
    "print('MSE de la partición derecha: ' +str(mejor_v2[0]))"
   ]
  },
  {
   "cell_type": "code",
   "execution_count": 24,
   "metadata": {},
   "outputs": [
    {
     "name": "stdout",
     "output_type": "stream",
     "text": [
      "Número de observaciones del nodo izq: 1357\n",
      "Predicción del nodo: 37.38\n",
      "Número de observaciones del nodo der: 433\n",
      "Predicción del nodo: 11.76\n",
      "Punto de corte: Variable: workingday <= 1\n",
      "MSE de la partición izquierda: 680.2\n",
      "MSE de la partición derecha: 442.1\n"
     ]
    }
   ],
   "source": [
    "y_l,y_r,x_l,x_r = conjuntos_particiones(x_l,y_l,spl_f,num_var)\n",
    "splits_v1 = calcular_splits(x_l,0)\n",
    "mejor_v1 = best_split (x_l,y_l,0)\n",
    "splits_v2 = calcular_splits(x_l,1)\n",
    "mejor_v2 = best_split (x_l,y_l,1)\n",
    "if mejor_v1[0]<mejor_v2[0]:\n",
    "    mse_f = mejor_v1[0]\n",
    "    spl_f = mejor_v1[1]\n",
    "    num_var = 0\n",
    "    var = variables[num_var]\n",
    "else:\n",
    "    mse_f = mejor_v2[0]\n",
    "    spl_f = mejor_v2[1]\n",
    "    num_var = 1\n",
    "    var = variables[num_var]\n",
    "\n",
    "\n",
    "pred_inicial = [y_l.mean()]*len(y_l)\n",
    "mse_inicial = mse(y_l,pred_inicial)\n",
    "\n",
    "\n",
    "print('Número de observaciones del nodo izq: ' +str(len(x_l)))\n",
    "print('Predicción del nodo: ' +str(round(y_l.mean(),2)))\n",
    "\n",
    "print('Número de observaciones del nodo der: ' +str(len(x_r)))\n",
    "print('Predicción del nodo: ' +str(round(y_r.mean(),2)))\n",
    "\n",
    "print('Punto de corte: Variable: '+str(var) + ' <= '+ str(spl_f))\n",
    "\n",
    "print('MSE de la partición izquierda: ' +str(mejor_v1[0]))\n",
    "print('MSE de la partición derecha: ' +str(mejor_v2[0]))"
   ]
  },
  {
   "cell_type": "markdown",
   "metadata": {},
   "source": [
    "Analizando 1790 particiones observamos que haciendo una nueva partición ya no tendremos un mejor MSE por lo que en este punto terminaríamos las iteraciones"
   ]
  },
  {
   "cell_type": "markdown",
   "metadata": {},
   "source": [
    "### Punto 5 - Árbol de decisión con librería\n",
    "En la celda 5 entrene un árbol de decisiones con la **librería sklearn**, usando las variables predictoras \"hour\" y \"workingday\" y calibre los parámetros que considere conveniente para obtener un mejor desempeño. Comente el desempeño del modelo con alguna métrica de desempeño de modelos de clasificación y compare desempeño con el modelo del punto 3."
   ]
  },
  {
   "cell_type": "code",
   "execution_count": 25,
   "metadata": {},
   "outputs": [
    {
     "data": {
      "text/plain": [
       "(7293, 2)"
      ]
     },
     "execution_count": 25,
     "metadata": {},
     "output_type": "execute_result"
    }
   ],
   "source": [
    "XTrain.shape"
   ]
  },
  {
   "cell_type": "code",
   "execution_count": 26,
   "metadata": {},
   "outputs": [
    {
     "data": {
      "text/plain": [
       "(0.6501337581022684, 8)"
      ]
     },
     "execution_count": 26,
     "metadata": {},
     "output_type": "execute_result"
    },
    {
     "data": {
      "image/png": "[encoded data removed]",
      "text/plain": [
       "<Figure size 432x288 with 1 Axes>"
      ]
     },
     "metadata": {
      "needs_background": "light"
     },
     "output_type": "display_data"
    }
   ],
   "source": [
    "#calibrar el parámetro de máxima profunidad\n",
    "max_depth_range = range(1,21)\n",
    "r2_scores_5 = []\n",
    "for depth in max_depth_range:\n",
    "    rtree = DecisionTreeRegressor(max_depth=depth, random_state=1)\n",
    "    r2_scores_5.append(cross_val_score(rtree,XTrain,yTrain,cv=10,scoring='r2').mean())   \n",
    "plt.plot(max_depth_range,r2_scores_5)\n",
    "plt.xlabel('max_depth')\n",
    "plt.ylabel('r2 score')\n",
    "sorted(zip(r2_scores_5,max_depth_range))[::-1][0]"
   ]
  },
  {
   "cell_type": "code",
   "execution_count": 29,
   "metadata": {},
   "outputs": [
    {
     "data": {
      "text/plain": [
       "(0.6223098117525746, 502)"
      ]
     },
     "execution_count": 29,
     "metadata": {},
     "output_type": "execute_result"
    },
    {
     "data": {
      "image/png": "[encoded data removed]",
      "text/plain": [
       "<Figure size 432x288 with 1 Axes>"
      ]
     },
     "metadata": {
      "needs_background": "light"
     },
     "output_type": "display_data"
    }
   ],
   "source": [
    "#número mínimo de observaciones que debe de tener un nodo para que pueda dividirse\n",
    "min_samples_split = range(500,1000)\n",
    "r2_scores = []\n",
    "for dato in min_samples_split :\n",
    "    rtree = DecisionTreeRegressor(max_depth= None, min_samples_split=dato, random_state=1)\n",
    "    r2_scores.append(cross_val_score(rtree,XTrain,yTrain,cv=10,scoring='r2').mean())   \n",
    "plt.plot(min_samples_split,r2_scores)\n",
    "plt.xlabel('min_samples_split')\n",
    "plt.ylabel('r2 score')\n",
    "sorted(zip(r2_scores,min_samples_split))[::-1][0]"
   ]
  },
  {
   "cell_type": "markdown",
   "metadata": {},
   "source": [
    "Al evaluar el número mínimo de observaciones que puede tener el árbol encontramos que con 502 observaciones se puede optimizar el desempeño del modelo, Entrenamos el modelo con una profunidad máxima de 8 y 502 observaciones ya que este es el parámetro optimizado que se identificó"
   ]
  },
  {
   "cell_type": "code",
   "execution_count": 30,
   "metadata": {},
   "outputs": [
    {
     "data": {
      "text/plain": [
       "(0.6206996636825207, 12393.8)"
      ]
     },
     "execution_count": 30,
     "metadata": {},
     "output_type": "execute_result"
    }
   ],
   "source": [
    "# Celda 5\n",
    "modelo_5 = DecisionTreeRegressor(max_depth=8,min_samples_split=502)\n",
    "modelo_5.fit(XTrain,yTrain)\n",
    "prediccion_5 = modelo_5.predict(XTest)\n",
    "r2score_5 = r2_score(yTest,prediccion_5)\n",
    "mse_arbol_5 = mse(yTest,prediccion_5)\n",
    "r2score_5,mse_arbol_5"
   ]
  },
  {
   "cell_type": "markdown",
   "metadata": {},
   "source": [
    "Este modelo presenta un mejor desempeño comparado con el modelo obtenido a través de Regresión lineal en el punto # 3 ya que tiene un mejor r2 y un menor mse"
   ]
  },
  {
   "cell_type": "markdown",
   "metadata": {},
   "source": [
    "## Parte B - Métodos de ensamblajes\n",
    "En esta parte del taller se usará el conjunto de datos de Popularidad de Noticias Online. El objetivo es predecir la cantidad de reacciones en redes sociales (popularidad) de la notica. Para más detalles puede visitar el sigueinte enlace: [datos](https://archive.ics.uci.edu/ml/datasets/online+news+popularity)."
   ]
  },
  {
   "cell_type": "markdown",
   "metadata": {},
   "source": [
    "### Datos popularidad de noticias"
   ]
  },
  {
   "cell_type": "code",
   "execution_count": 31,
   "metadata": {},
   "outputs": [
    {
     "data": {
      "text/html": [
       "<div>\n",
       "<style scoped>\n",
       "    .dataframe tbody tr th:only-of-type {\n",
       "        vertical-align: middle;\n",
       "    }\n",
       "\n",
       "    .dataframe tbody tr th {\n",
       "        vertical-align: top;\n",
       "    }\n",
       "\n",
       "    .dataframe thead th {\n",
       "        text-align: right;\n",
       "    }\n",
       "</style>\n",
       "<table border=\"1\" class=\"dataframe\">\n",
       "  <thead>\n",
       "    <tr style=\"text-align: right;\">\n",
       "      <th></th>\n",
       "      <th>url</th>\n",
       "      <th>timedelta</th>\n",
       "      <th>n_tokens_title</th>\n",
       "      <th>n_tokens_content</th>\n",
       "      <th>n_unique_tokens</th>\n",
       "      <th>n_non_stop_words</th>\n",
       "      <th>n_non_stop_unique_tokens</th>\n",
       "      <th>num_hrefs</th>\n",
       "      <th>num_self_hrefs</th>\n",
       "      <th>num_imgs</th>\n",
       "      <th>...</th>\n",
       "      <th>min_positive_polarity</th>\n",
       "      <th>max_positive_polarity</th>\n",
       "      <th>avg_negative_polarity</th>\n",
       "      <th>min_negative_polarity</th>\n",
       "      <th>max_negative_polarity</th>\n",
       "      <th>title_subjectivity</th>\n",
       "      <th>title_sentiment_polarity</th>\n",
       "      <th>abs_title_subjectivity</th>\n",
       "      <th>abs_title_sentiment_polarity</th>\n",
       "      <th>Popular</th>\n",
       "    </tr>\n",
       "  </thead>\n",
       "  <tbody>\n",
       "    <tr>\n",
       "      <th>0</th>\n",
       "      <td>http://mashable.com/2014/12/10/cia-torture-rep...</td>\n",
       "      <td>28.0</td>\n",
       "      <td>9.0</td>\n",
       "      <td>188.0</td>\n",
       "      <td>0.732620</td>\n",
       "      <td>1.0</td>\n",
       "      <td>0.844262</td>\n",
       "      <td>5.0</td>\n",
       "      <td>1.0</td>\n",
       "      <td>1.0</td>\n",
       "      <td>...</td>\n",
       "      <td>0.200000</td>\n",
       "      <td>0.80</td>\n",
       "      <td>-0.487500</td>\n",
       "      <td>-0.60</td>\n",
       "      <td>-0.250000</td>\n",
       "      <td>0.9</td>\n",
       "      <td>0.8</td>\n",
       "      <td>0.4</td>\n",
       "      <td>0.8</td>\n",
       "      <td>1</td>\n",
       "    </tr>\n",
       "    <tr>\n",
       "      <th>1</th>\n",
       "      <td>http://mashable.com/2013/10/18/bitlock-kicksta...</td>\n",
       "      <td>447.0</td>\n",
       "      <td>7.0</td>\n",
       "      <td>297.0</td>\n",
       "      <td>0.653199</td>\n",
       "      <td>1.0</td>\n",
       "      <td>0.815789</td>\n",
       "      <td>9.0</td>\n",
       "      <td>4.0</td>\n",
       "      <td>1.0</td>\n",
       "      <td>...</td>\n",
       "      <td>0.160000</td>\n",
       "      <td>0.50</td>\n",
       "      <td>-0.135340</td>\n",
       "      <td>-0.40</td>\n",
       "      <td>-0.050000</td>\n",
       "      <td>0.1</td>\n",
       "      <td>-0.1</td>\n",
       "      <td>0.4</td>\n",
       "      <td>0.1</td>\n",
       "      <td>0</td>\n",
       "    </tr>\n",
       "    <tr>\n",
       "      <th>2</th>\n",
       "      <td>http://mashable.com/2013/07/24/google-glass-po...</td>\n",
       "      <td>533.0</td>\n",
       "      <td>11.0</td>\n",
       "      <td>181.0</td>\n",
       "      <td>0.660377</td>\n",
       "      <td>1.0</td>\n",
       "      <td>0.775701</td>\n",
       "      <td>4.0</td>\n",
       "      <td>3.0</td>\n",
       "      <td>1.0</td>\n",
       "      <td>...</td>\n",
       "      <td>0.136364</td>\n",
       "      <td>1.00</td>\n",
       "      <td>0.000000</td>\n",
       "      <td>0.00</td>\n",
       "      <td>0.000000</td>\n",
       "      <td>0.3</td>\n",
       "      <td>1.0</td>\n",
       "      <td>0.2</td>\n",
       "      <td>1.0</td>\n",
       "      <td>0</td>\n",
       "    </tr>\n",
       "    <tr>\n",
       "      <th>3</th>\n",
       "      <td>http://mashable.com/2013/11/21/these-are-the-m...</td>\n",
       "      <td>413.0</td>\n",
       "      <td>12.0</td>\n",
       "      <td>781.0</td>\n",
       "      <td>0.497409</td>\n",
       "      <td>1.0</td>\n",
       "      <td>0.677350</td>\n",
       "      <td>10.0</td>\n",
       "      <td>3.0</td>\n",
       "      <td>1.0</td>\n",
       "      <td>...</td>\n",
       "      <td>0.100000</td>\n",
       "      <td>1.00</td>\n",
       "      <td>-0.195701</td>\n",
       "      <td>-0.40</td>\n",
       "      <td>-0.071429</td>\n",
       "      <td>0.0</td>\n",
       "      <td>0.0</td>\n",
       "      <td>0.5</td>\n",
       "      <td>0.0</td>\n",
       "      <td>0</td>\n",
       "    </tr>\n",
       "    <tr>\n",
       "      <th>4</th>\n",
       "      <td>http://mashable.com/2014/02/11/parking-ticket-...</td>\n",
       "      <td>331.0</td>\n",
       "      <td>8.0</td>\n",
       "      <td>177.0</td>\n",
       "      <td>0.685714</td>\n",
       "      <td>1.0</td>\n",
       "      <td>0.830357</td>\n",
       "      <td>3.0</td>\n",
       "      <td>2.0</td>\n",
       "      <td>1.0</td>\n",
       "      <td>...</td>\n",
       "      <td>0.100000</td>\n",
       "      <td>0.55</td>\n",
       "      <td>-0.175000</td>\n",
       "      <td>-0.25</td>\n",
       "      <td>-0.100000</td>\n",
       "      <td>0.0</td>\n",
       "      <td>0.0</td>\n",
       "      <td>0.5</td>\n",
       "      <td>0.0</td>\n",
       "      <td>0</td>\n",
       "    </tr>\n",
       "  </tbody>\n",
       "</table>\n",
       "<p>5 rows × 61 columns</p>\n",
       "</div>"
      ],
      "text/plain": [
       "                                                 url  timedelta  \\\n",
       "0  http://mashable.com/2014/12/10/cia-torture-rep...       28.0   \n",
       "1  http://mashable.com/2013/10/18/bitlock-kicksta...      447.0   \n",
       "2  http://mashable.com/2013/07/24/google-glass-po...      533.0   \n",
       "3  http://mashable.com/2013/11/21/these-are-the-m...      413.0   \n",
       "4  http://mashable.com/2014/02/11/parking-ticket-...      331.0   \n",
       "\n",
       "   n_tokens_title  n_tokens_content  n_unique_tokens  n_non_stop_words  \\\n",
       "0             9.0             188.0         0.732620               1.0   \n",
       "1             7.0             297.0         0.653199               1.0   \n",
       "2            11.0             181.0         0.660377               1.0   \n",
       "3            12.0             781.0         0.497409               1.0   \n",
       "4             8.0             177.0         0.685714               1.0   \n",
       "\n",
       "   n_non_stop_unique_tokens  num_hrefs  num_self_hrefs  num_imgs  ...  \\\n",
       "0                  0.844262        5.0             1.0       1.0  ...   \n",
       "1                  0.815789        9.0             4.0       1.0  ...   \n",
       "2                  0.775701        4.0             3.0       1.0  ...   \n",
       "3                  0.677350       10.0             3.0       1.0  ...   \n",
       "4                  0.830357        3.0             2.0       1.0  ...   \n",
       "\n",
       "   min_positive_polarity  max_positive_polarity  avg_negative_polarity  \\\n",
       "0               0.200000                   0.80              -0.487500   \n",
       "1               0.160000                   0.50              -0.135340   \n",
       "2               0.136364                   1.00               0.000000   \n",
       "3               0.100000                   1.00              -0.195701   \n",
       "4               0.100000                   0.55              -0.175000   \n",
       "\n",
       "   min_negative_polarity  max_negative_polarity  title_subjectivity  \\\n",
       "0                  -0.60              -0.250000                 0.9   \n",
       "1                  -0.40              -0.050000                 0.1   \n",
       "2                   0.00               0.000000                 0.3   \n",
       "3                  -0.40              -0.071429                 0.0   \n",
       "4                  -0.25              -0.100000                 0.0   \n",
       "\n",
       "   title_sentiment_polarity  abs_title_subjectivity  \\\n",
       "0                       0.8                     0.4   \n",
       "1                      -0.1                     0.4   \n",
       "2                       1.0                     0.2   \n",
       "3                       0.0                     0.5   \n",
       "4                       0.0                     0.5   \n",
       "\n",
       "   abs_title_sentiment_polarity  Popular  \n",
       "0                           0.8        1  \n",
       "1                           0.1        0  \n",
       "2                           1.0        0  \n",
       "3                           0.0        0  \n",
       "4                           0.0        0  \n",
       "\n",
       "[5 rows x 61 columns]"
      ]
     },
     "execution_count": 31,
     "metadata": {},
     "output_type": "execute_result"
    }
   ],
   "source": [
    "# Lectura de la información de archivo .csv\n",
    "df = pd.read_csv('https://raw.githubusercontent.com/albahnsen/MIAD_ML_and_NLP/main/datasets/mashable.csv', index_col=0)\n",
    "df.head()"
   ]
  },
  {
   "cell_type": "code",
   "execution_count": 32,
   "metadata": {},
   "outputs": [
    {
     "data": {
      "text/plain": [
       "0.5"
      ]
     },
     "execution_count": 32,
     "metadata": {},
     "output_type": "execute_result"
    }
   ],
   "source": [
    "# Definición variable de interes y variables predictoras\n",
    "X = df.drop(['url', 'Popular'], axis=1)\n",
    "y = df['Popular']\n",
    "y.mean()"
   ]
  },
  {
   "cell_type": "code",
   "execution_count": 33,
   "metadata": {},
   "outputs": [],
   "source": [
    "# División de la muestra en set de entrenamiento y prueba\n",
    "from sklearn.model_selection import train_test_split\n",
    "X_train, X_test, y_train, y_test = train_test_split(X, y, random_state=1)"
   ]
  },
  {
   "cell_type": "markdown",
   "metadata": {},
   "source": [
    "### Punto 6 - Árbol de decisión y regresión logística\n",
    "En la celda 6 construya un árbol de decisión y una regresión logística. Para el árbol calibre al menos un parámetro y evalúe el desempeño de cada modelo usando las métricas de Accuracy y F1-Score."
   ]
  },
  {
   "cell_type": "code",
   "execution_count": 34,
   "metadata": {},
   "outputs": [],
   "source": [
    "# Celda 6\n",
    "from sklearn.linear_model import LogisticRegression\n",
    "from sklearn.tree import DecisionTreeClassifier\n",
    "models = {'lr': LogisticRegression(),\n",
    "          'dt': DecisionTreeClassifier()}"
   ]
  },
  {
   "cell_type": "code",
   "execution_count": 35,
   "metadata": {},
   "outputs": [
    {
     "data": {
      "text/plain": [
       "(0.6308888888888888, 2)"
      ]
     },
     "execution_count": 35,
     "metadata": {},
     "output_type": "execute_result"
    },
    {
     "data": {
      "image/png": "[encoded data removed]",
      "text/plain": [
       "<Figure size 432x288 with 1 Axes>"
      ]
     },
     "metadata": {
      "needs_background": "light"
     },
     "output_type": "display_data"
    }
   ],
   "source": [
    "#calibrar el parámetro de máxima profunidad\n",
    "max_depth_range = range(1,20)\n",
    "accuracy_scores_6 = []\n",
    "for depth in max_depth_range:\n",
    "    clf_6 = DecisionTreeClassifier(max_depth=depth, random_state=1)\n",
    "    accuracy_scores_6.append(cross_val_score(clf_6,X_train,y_train,cv=10,scoring='accuracy').mean())   \n",
    "plt.plot(max_depth_range,accuracy_scores_6)\n",
    "plt.xlabel('max_depth')\n",
    "plt.ylabel('accuracy_scores')\n",
    "sorted(zip(accuracy_scores_6,max_depth_range))[::-1][0]"
   ]
  },
  {
   "cell_type": "markdown",
   "metadata": {},
   "source": [
    "Observamos que la profundidad que mejor accuracy arroja es de 2"
   ]
  },
  {
   "cell_type": "code",
   "execution_count": 37,
   "metadata": {},
   "outputs": [
    {
     "data": {
      "text/plain": [
       "(0.6448598130841121, 0.6453333333333333)"
      ]
     },
     "execution_count": 37,
     "metadata": {},
     "output_type": "execute_result"
    }
   ],
   "source": [
    "#Entrenamiento del árbol\n",
    "modelo_6a = DecisionTreeClassifier(max_depth=2, random_state=1)\n",
    "modelo_6a.fit(X_train, y_train)\n",
    "ypred_6a = modelo_6a.predict(X_test)\n",
    "\n",
    "from sklearn import metrics\n",
    "f1_6a = metrics.f1_score(ypred_6a, y_test)\n",
    "accuracy_6a = metrics.accuracy_score(ypred_6a, y_test)\n",
    "f1_6a,accuracy_6a"
   ]
  },
  {
   "cell_type": "code",
   "execution_count": 38,
   "metadata": {},
   "outputs": [
    {
     "data": {
      "text/plain": [
       "(0.6096904441453566, 0.6133333333333333)"
      ]
     },
     "execution_count": 38,
     "metadata": {},
     "output_type": "execute_result"
    }
   ],
   "source": [
    "#Regresión logística\n",
    "modelo_6b = LogisticRegression()\n",
    "modelo_6b.fit(X_train, y_train)\n",
    "ypred_6b = modelo_6b.predict(X_test)\n",
    "f1_6b = metrics.f1_score(ypred_6b, y_test)\n",
    "accuracy_6b = metrics.accuracy_score(ypred_6b, y_test)\n",
    "f1_6b,accuracy_6b"
   ]
  },
  {
   "cell_type": "markdown",
   "metadata": {},
   "source": [
    "El análisis nos muestra que el árbol tiene un mejor desempeño  ya que es más preciso en identficiar cuándo una noticia es popular que el modelo de Regresión Logística. "
   ]
  },
  {
   "cell_type": "markdown",
   "metadata": {},
   "source": [
    "### Punto 7 - Votación Mayoritaria\n",
    "En la celda 7 elabore un esamble con la metodología de **Votación mayoritaria** compuesto por 300 muestras bagged para cada uno de los siguientes escenarios:\n",
    "\n",
    "-100 árboles de decisión donde max_depth = None\\\n",
    "-100 árboles de decisión donde max_depth = 2\\\n",
    "-100 regresiones logísticas\n",
    "\n",
    "Evalúe los modelos utilizando las métricas de Accuracy y F1-Score."
   ]
  },
  {
   "cell_type": "code",
   "execution_count": 39,
   "metadata": {},
   "outputs": [],
   "source": [
    "# 100 árboles de decisión donde max_depth = None\n",
    "from sklearn.ensemble import BaggingClassifier\n",
    "def votacion_mayoritaria(X_train,y_train,X_test,y_test,modelo):\n",
    "    clf = BaggingClassifier(base_estimator=modelo, n_estimators=100, bootstrap=True,max_samples=300,\n",
    "                            random_state=42, oob_score=True)\n",
    "    clf.fit(X_train, y_train)\n",
    "    y_pred = clf.predict(X_test)\n",
    "    metricas = metrics.f1_score(y_pred, y_test), metrics.accuracy_score(y_pred, y_test)\n",
    "    return metricas"
   ]
  },
  {
   "cell_type": "code",
   "execution_count": 40,
   "metadata": {},
   "outputs": [],
   "source": [
    "m1 = votacion_mayoritaria(X_train,y_train,X_test,y_test,DecisionTreeClassifier(max_depth=None))\n",
    "m2 = votacion_mayoritaria(X_train,y_train,X_test,y_test,DecisionTreeClassifier(max_depth=2))\n",
    "m3 = votacion_mayoritaria(X_train,y_train,X_test,y_test,LogisticRegression())"
   ]
  },
  {
   "cell_type": "code",
   "execution_count": 41,
   "metadata": {},
   "outputs": [
    {
     "name": "stdout",
     "output_type": "stream",
     "text": [
      "Resultados Árbol votación mayoritaria con max_depth = None: F1_score: 0.6567567567567568, Accuracy: 0.6613333333333333\n",
      "Resultados Árbol votación mayoritaria con max_depth = 2: F1_score: 0.631578947368421, Accuracy: 0.6453333333333333\n",
      "Resultados Regresión Logística votación ponderada: F1_score: 0.6138211382113822, Accuracy: 0.62\n"
     ]
    }
   ],
   "source": [
    "print('Resultados Árbol votación mayoritaria con max_depth = None: F1_score: '+str(m1[0]) + ', Accuracy: '+str(m1[1]))\n",
    "print('Resultados Árbol votación mayoritaria con max_depth = 2: F1_score: '+str(m2[0]) + ', Accuracy: '+str(m2[1]))\n",
    "print('Resultados Regresión Logística votación ponderada: F1_score: '+str(m3[0]) + ', Accuracy: '+str(m3[1]))"
   ]
  },
  {
   "cell_type": "markdown",
   "metadata": {},
   "source": [
    "### Punto 8 - Votación Ponderada\n",
    "En la celda 8 elabore un ensamble con la metodología de **Votación ponderada** compuesto por 300 muestras bagged para los mismos tres escenarios del punto 7. Evalúe los modelos utilizando las métricas de Accuracy y F1-Score"
   ]
  },
  {
   "cell_type": "code",
   "execution_count": 42,
   "metadata": {},
   "outputs": [],
   "source": [
    "# 100 árboles de decisión donde max_depth = None\n",
    "def votacion_ponderada(X_train,y_train,X_test,y_test,modelo):\n",
    "    clf = BaggingClassifier(base_estimator=modelo, n_estimators=100, bootstrap=True,max_samples=300,\n",
    "                            random_state=42, n_jobs=-1, oob_score=True)\n",
    "\n",
    "    # Predicción y desempeño al hacer votación ponderada\n",
    "    clf.fit(X_train, y_train)\n",
    "    y_pred = clf.predict(X_test)\n",
    "    metrics.f1_score(y_pred, y_test), metrics.accuracy_score(y_pred, y_test)\n",
    "\n",
    "    # Obtención de los pesos alpha de cada modelo de acuerdo al error OOB\n",
    "    errors = np.zeros(clf.n_estimators)\n",
    "    y_pred_all_ = np.zeros((X_test.shape[0], clf.n_estimators))\n",
    "\n",
    "    for i in range(clf.n_estimators):\n",
    "        oob_sample = ~clf.estimators_samples_[i]\n",
    "        y_pred_ = clf.estimators_[i].predict(X_train.values[oob_sample])\n",
    "        errors[i] = metrics.accuracy_score(y_pred_, y_train.values[oob_sample])\n",
    "        y_pred_all_[:, i] = clf.estimators_[i].predict(X_test)\n",
    "\n",
    "    alpha = (1 - errors) / (1 - errors).sum()\n",
    "    y_pred = (np.sum(y_pred_all_ * alpha, axis=1) >= 0.5).astype(np.int)\n",
    "\n",
    "    # Desempeño al hacer votación ponderada\n",
    "    metricas = metrics.f1_score(y_pred, y_test), metrics.accuracy_score(y_pred, y_test)\n",
    "    return metricas"
   ]
  },
  {
   "cell_type": "code",
   "execution_count": 43,
   "metadata": {},
   "outputs": [],
   "source": [
    "m4 = votacion_ponderada(X_train,y_train,X_test,y_test,DecisionTreeClassifier(max_depth=None))\n",
    "m5 = votacion_ponderada(X_train,y_train,X_test,y_test,DecisionTreeClassifier(max_depth=2))\n",
    "m6 = votacion_ponderada(X_train,y_train,X_test,y_test,LogisticRegression())"
   ]
  },
  {
   "cell_type": "code",
   "execution_count": 44,
   "metadata": {},
   "outputs": [
    {
     "name": "stdout",
     "output_type": "stream",
     "text": [
      "Resultados Árbol votación ponderada con max_depth = None: F1_score: 0.6631087391594397, Accuracy: 0.6633333333333333\n",
      "Resultados Árbol votación ponderada con max_depth = 2: F1_score: 0.6324549237170597, Accuracy: 0.6466666666666666\n",
      "Resultados Regresión Logística votación ponderada: F1_score: 0.6159029649595688, Accuracy: 0.62\n"
     ]
    }
   ],
   "source": [
    "print('Resultados Árbol votación ponderada con max_depth = None: F1_score: '+str(m4[0]) + ', Accuracy: '+str(m4[1]))\n",
    "print('Resultados Árbol votación ponderada con max_depth = 2: F1_score: '+str(m5[0]) + ', Accuracy: '+str(m5[1]))\n",
    "print('Resultados Regresión Logística votación ponderada: F1_score: '+str(m6[0]) + ', Accuracy: '+str(m6[1]))"
   ]
  },
  {
   "cell_type": "markdown",
   "metadata": {},
   "source": [
    "### Punto 9 - Comparación y análisis de resultados\n",
    "En la celda 9 comente sobre los resultados obtenidos con las metodologías usadas en los puntos 7 y 8, compare los resultados y enuncie posibles ventajas o desventajas de cada una de ellas."
   ]
  },
  {
   "cell_type": "code",
   "execution_count": 45,
   "metadata": {},
   "outputs": [
    {
     "data": {
      "text/html": [
       "<div>\n",
       "<style scoped>\n",
       "    .dataframe tbody tr th:only-of-type {\n",
       "        vertical-align: middle;\n",
       "    }\n",
       "\n",
       "    .dataframe tbody tr th {\n",
       "        vertical-align: top;\n",
       "    }\n",
       "\n",
       "    .dataframe thead th {\n",
       "        text-align: right;\n",
       "    }\n",
       "</style>\n",
       "<table border=\"1\" class=\"dataframe\">\n",
       "  <thead>\n",
       "    <tr style=\"text-align: right;\">\n",
       "      <th></th>\n",
       "      <th>x</th>\n",
       "      <th>accuracy</th>\n",
       "      <th>f1_score</th>\n",
       "    </tr>\n",
       "  </thead>\n",
       "  <tbody>\n",
       "    <tr>\n",
       "      <th>0</th>\n",
       "      <td>Árbol 1 VM</td>\n",
       "      <td>0.661333</td>\n",
       "      <td>0.656757</td>\n",
       "    </tr>\n",
       "    <tr>\n",
       "      <th>1</th>\n",
       "      <td>Árbol 1 VP</td>\n",
       "      <td>0.663333</td>\n",
       "      <td>0.663109</td>\n",
       "    </tr>\n",
       "    <tr>\n",
       "      <th>2</th>\n",
       "      <td>Árbol 2 VM</td>\n",
       "      <td>0.645333</td>\n",
       "      <td>0.631579</td>\n",
       "    </tr>\n",
       "    <tr>\n",
       "      <th>3</th>\n",
       "      <td>Árbol 2 VP</td>\n",
       "      <td>0.646667</td>\n",
       "      <td>0.632455</td>\n",
       "    </tr>\n",
       "    <tr>\n",
       "      <th>4</th>\n",
       "      <td>RegLog VM</td>\n",
       "      <td>0.620000</td>\n",
       "      <td>0.613821</td>\n",
       "    </tr>\n",
       "    <tr>\n",
       "      <th>5</th>\n",
       "      <td>RegLog VP</td>\n",
       "      <td>0.620000</td>\n",
       "      <td>0.615903</td>\n",
       "    </tr>\n",
       "  </tbody>\n",
       "</table>\n",
       "</div>"
      ],
      "text/plain": [
       "            x  accuracy  f1_score\n",
       "0  Árbol 1 VM  0.661333  0.656757\n",
       "1  Árbol 1 VP  0.663333  0.663109\n",
       "2  Árbol 2 VM  0.645333  0.631579\n",
       "3  Árbol 2 VP  0.646667  0.632455\n",
       "4   RegLog VM  0.620000  0.613821\n",
       "5   RegLog VP  0.620000  0.615903"
      ]
     },
     "execution_count": 45,
     "metadata": {},
     "output_type": "execute_result"
    }
   ],
   "source": [
    "arboles = ['Árbol 1 VM','Árbol 1 VP','Árbol 2 VM','Árbol 2 VP','RegLog VM','RegLog VP']\n",
    "accuracy = [m1[1],m4[1],m2[1],m5[1],m3[1],m6[1]]\n",
    "f1_score = [m1[0],m4[0],m2[0],m5[0],m3[0],m6[0]]\n",
    "df = pd.DataFrame(list(zip(arboles,accuracy,f1_score)), columns = ['x','accuracy','f1_score'])\n",
    "df"
   ]
  },
  {
   "cell_type": "markdown",
   "metadata": {},
   "source": [
    "En conclusión observamos que:\n",
    "\n",
    "A nivel general se observa una ligera diferencia entre los métodos de votación mayoritaria y ponderada, siendo el de votación ponderada para la mayoría de las métricas el método que mejor desempeño presenta. \n",
    "\n",
    "El mejor desempeño lo encontramos en el modelo con el parámetro max_depth = None a nivel del accuracy\n",
    "Sin embargo, cuando revisamos el f1_score el mejor desempeño se encuentra en el modelo con votación mayoritaria\n",
    "\n",
    "La ventaja de los modleos de árboles es que nos permite interpretar cuáles de las características son más importantes para que una noticia sea popular, con mayor precisión indicando cuáles son los puntos de corte importantes para cada predictor\n",
    "\n",
    "Para este caso en particular, nos interesa un modelo con mayor precisión ya que nos interesa que el modelo identifique los casos en los que la noticia es popular, no los casos en donde no lo es. Por esta razón, la recomendación es elegir el modelo con mejor accuracy"
   ]
  }
 ],
 "metadata": {
  "kernelspec": {
   "display_name": "Python 3",
   "language": "python",
   "name": "python3"
  },
  "language_info": {
   "codemirror_mode": {
    "name": "ipython",
    "version": 3
   },
   "file_extension": ".py",
   "mimetype": "text/x-python",
   "name": "python",
   "nbconvert_exporter": "python",
   "pygments_lexer": "ipython3",
   "version": "3.8.5"
  }
 },
 "nbformat": 4,
 "nbformat_minor": 4
}
