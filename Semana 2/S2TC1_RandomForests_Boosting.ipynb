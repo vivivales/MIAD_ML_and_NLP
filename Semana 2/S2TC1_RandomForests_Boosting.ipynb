{
  "cells": [
    {
      "cell_type": "markdown",
      "metadata": {
        "id": "dEEDEUUIXEUF"
      },
      "source": [
        "![image info](https://raw.githubusercontent.com/albahnsen/MIAD_ML_and_NLP/main/images/banner_1.png)"
      ]
    },
    {
      "cell_type": "markdown",
      "metadata": {
        "id": "ZjNUO_Y9XEUJ"
      },
      "source": [
        "# Taller: Construcción e implementación de modelos Bagging, Random Forest y XGBoost\n",
        "\n",
        "En este taller podrán poner en práctica sus conocimientos sobre la construcción e implementación de modelos de Bagging, Random Forest y XGBoost. El taller está constituido por 8 puntos, en los cuales deberan seguir las intrucciones de cada numeral para su desarrollo."
      ]
    },
    {
      "cell_type": "markdown",
      "metadata": {
        "id": "nwDj14-zXEUK"
      },
      "source": [
        "## Datos predicción precio de automóviles\n",
        "\n",
        "En este taller se usará el conjunto de datos de Car Listings de Kaggle donde cada observación representa el precio de un automóvil teniendo en cuenta distintas variables como año, marca, modelo, entre otras. El objetivo es predecir si el precio del automóvil es alto o no. Para más detalles puede visitar el siguiente enlace: [datos](https://www.kaggle.com/jpayne/852k-used-car-listings)."
      ]
    },
    {
      "cell_type": "code",
      "execution_count": 1,
      "metadata": {
        "id": "OMpj9USoXEUL"
      },
      "outputs": [],
      "source": [
        "import warnings\n",
        "warnings.filterwarnings('ignore')"
      ]
    },
    {
      "cell_type": "code",
      "source": [
        "# Importación de librerías\n",
        "# Importación de librerías\n",
        "%matplotlib inline\n",
        "import pandas as pd\n",
        "import numpy as np\n",
        "from sklearn.tree import DecisionTreeClassifier\n",
        "from sklearn.metrics import accuracy_score\n",
        "from sklearn.metrics import roc_auc_score\n",
        "from sklearn.metrics import f1_score\n",
        "from sklearn.ensemble import BaggingClassifier\n",
        "from statistics import mode\n",
        "import math\n",
        "from sklearn.ensemble import RandomForestClassifier\n",
        "from sklearn.model_selection import cross_val_score\n",
        "from xgboost import XGBClassifier\n",
        "import matplotlib.pyplot as plt\n",
        "from sklearn.tree import plot_tree\n",
        "from sklearn.metrics import confusion_matrix\n",
        "import seaborn as sns\n",
        "from sklearn.metrics import precision_score\n",
        "from sklearn.metrics import mean_squared_error\n",
        "from sklearn.model_selection import RandomizedSearchCV\n"
      ],
      "metadata": {
        "id": "WXaF_1dmZeo5"
      },
      "execution_count": 2,
      "outputs": []
    },
    {
      "cell_type": "code",
      "source": [
        "! pip install xgboost"
      ],
      "metadata": {
        "colab": {
          "base_uri": "https://localhost:8080/"
        },
        "id": "LgyZVo7gZsHU",
        "outputId": "b4ba48f1-58d0-4e97-c167-55176a40c919"
      },
      "execution_count": 3,
      "outputs": [
        {
          "output_type": "stream",
          "name": "stdout",
          "text": [
            "Requirement already satisfied: xgboost in /usr/local/lib/python3.7/dist-packages (0.90)\n",
            "Requirement already satisfied: scipy in /usr/local/lib/python3.7/dist-packages (from xgboost) (1.4.1)\n",
            "Requirement already satisfied: numpy in /usr/local/lib/python3.7/dist-packages (from xgboost) (1.21.5)\n"
          ]
        }
      ]
    },
    {
      "cell_type": "code",
      "execution_count": 4,
      "metadata": {
        "colab": {
          "base_uri": "https://localhost:8080/",
          "height": 206
        },
        "id": "9axdPuReXEUM",
        "outputId": "45f0ce47-b93a-4399-a1d0-798e8f245a0a"
      },
      "outputs": [
        {
          "output_type": "execute_result",
          "data": {
            "text/plain": [
              "     Year  Mileage  M_Camry  M_Camry4dr  M_CamryBase  M_CamryL  M_CamryLE  \\\n",
              "7    2014     6480        0           0            0         1          0   \n",
              "11   2014    39972        0           0            0         0          1   \n",
              "167  2016    18989        0           0            0         0          0   \n",
              "225  2014    51330        0           0            0         1          0   \n",
              "270  2007   116065        0           1            0         0          0   \n",
              "\n",
              "     M_CamrySE  M_CamryXLE  HighPrice  \n",
              "7            0           0          1  \n",
              "11           0           0          0  \n",
              "167          1           0          1  \n",
              "225          0           0          0  \n",
              "270          0           0          0  "
            ],
            "text/html": [
              "\n",
              "  <div id=\"df-f574f357-21f2-440b-837b-182b968bb935\">\n",
              "    <div class=\"colab-df-container\">\n",
              "      <div>\n",
              "<style scoped>\n",
              "    .dataframe tbody tr th:only-of-type {\n",
              "        vertical-align: middle;\n",
              "    }\n",
              "\n",
              "    .dataframe tbody tr th {\n",
              "        vertical-align: top;\n",
              "    }\n",
              "\n",
              "    .dataframe thead th {\n",
              "        text-align: right;\n",
              "    }\n",
              "</style>\n",
              "<table border=\"1\" class=\"dataframe\">\n",
              "  <thead>\n",
              "    <tr style=\"text-align: right;\">\n",
              "      <th></th>\n",
              "      <th>Year</th>\n",
              "      <th>Mileage</th>\n",
              "      <th>M_Camry</th>\n",
              "      <th>M_Camry4dr</th>\n",
              "      <th>M_CamryBase</th>\n",
              "      <th>M_CamryL</th>\n",
              "      <th>M_CamryLE</th>\n",
              "      <th>M_CamrySE</th>\n",
              "      <th>M_CamryXLE</th>\n",
              "      <th>HighPrice</th>\n",
              "    </tr>\n",
              "  </thead>\n",
              "  <tbody>\n",
              "    <tr>\n",
              "      <th>7</th>\n",
              "      <td>2014</td>\n",
              "      <td>6480</td>\n",
              "      <td>0</td>\n",
              "      <td>0</td>\n",
              "      <td>0</td>\n",
              "      <td>1</td>\n",
              "      <td>0</td>\n",
              "      <td>0</td>\n",
              "      <td>0</td>\n",
              "      <td>1</td>\n",
              "    </tr>\n",
              "    <tr>\n",
              "      <th>11</th>\n",
              "      <td>2014</td>\n",
              "      <td>39972</td>\n",
              "      <td>0</td>\n",
              "      <td>0</td>\n",
              "      <td>0</td>\n",
              "      <td>0</td>\n",
              "      <td>1</td>\n",
              "      <td>0</td>\n",
              "      <td>0</td>\n",
              "      <td>0</td>\n",
              "    </tr>\n",
              "    <tr>\n",
              "      <th>167</th>\n",
              "      <td>2016</td>\n",
              "      <td>18989</td>\n",
              "      <td>0</td>\n",
              "      <td>0</td>\n",
              "      <td>0</td>\n",
              "      <td>0</td>\n",
              "      <td>0</td>\n",
              "      <td>1</td>\n",
              "      <td>0</td>\n",
              "      <td>1</td>\n",
              "    </tr>\n",
              "    <tr>\n",
              "      <th>225</th>\n",
              "      <td>2014</td>\n",
              "      <td>51330</td>\n",
              "      <td>0</td>\n",
              "      <td>0</td>\n",
              "      <td>0</td>\n",
              "      <td>1</td>\n",
              "      <td>0</td>\n",
              "      <td>0</td>\n",
              "      <td>0</td>\n",
              "      <td>0</td>\n",
              "    </tr>\n",
              "    <tr>\n",
              "      <th>270</th>\n",
              "      <td>2007</td>\n",
              "      <td>116065</td>\n",
              "      <td>0</td>\n",
              "      <td>1</td>\n",
              "      <td>0</td>\n",
              "      <td>0</td>\n",
              "      <td>0</td>\n",
              "      <td>0</td>\n",
              "      <td>0</td>\n",
              "      <td>0</td>\n",
              "    </tr>\n",
              "  </tbody>\n",
              "</table>\n",
              "</div>\n",
              "      <button class=\"colab-df-convert\" onclick=\"convertToInteractive('df-f574f357-21f2-440b-837b-182b968bb935')\"\n",
              "              title=\"Convert this dataframe to an interactive table.\"\n",
              "              style=\"display:none;\">\n",
              "        \n",
              "  <svg xmlns=\"http://www.w3.org/2000/svg\" height=\"24px\"viewBox=\"0 0 24 24\"\n",
              "       width=\"24px\">\n",
              "    <path d=\"M0 0h24v24H0V0z\" fill=\"none\"/>\n",
              "    <path d=\"M18.56 5.44l.94 2.06.94-2.06 2.06-.94-2.06-.94-.94-2.06-.94 2.06-2.06.94zm-11 1L8.5 8.5l.94-2.06 2.06-.94-2.06-.94L8.5 2.5l-.94 2.06-2.06.94zm10 10l.94 2.06.94-2.06 2.06-.94-2.06-.94-.94-2.06-.94 2.06-2.06.94z\"/><path d=\"M17.41 7.96l-1.37-1.37c-.4-.4-.92-.59-1.43-.59-.52 0-1.04.2-1.43.59L10.3 9.45l-7.72 7.72c-.78.78-.78 2.05 0 2.83L4 21.41c.39.39.9.59 1.41.59.51 0 1.02-.2 1.41-.59l7.78-7.78 2.81-2.81c.8-.78.8-2.07 0-2.86zM5.41 20L4 18.59l7.72-7.72 1.47 1.35L5.41 20z\"/>\n",
              "  </svg>\n",
              "      </button>\n",
              "      \n",
              "  <style>\n",
              "    .colab-df-container {\n",
              "      display:flex;\n",
              "      flex-wrap:wrap;\n",
              "      gap: 12px;\n",
              "    }\n",
              "\n",
              "    .colab-df-convert {\n",
              "      background-color: #E8F0FE;\n",
              "      border: none;\n",
              "      border-radius: 50%;\n",
              "      cursor: pointer;\n",
              "      display: none;\n",
              "      fill: #1967D2;\n",
              "      height: 32px;\n",
              "      padding: 0 0 0 0;\n",
              "      width: 32px;\n",
              "    }\n",
              "\n",
              "    .colab-df-convert:hover {\n",
              "      background-color: #E2EBFA;\n",
              "      box-shadow: 0px 1px 2px rgba(60, 64, 67, 0.3), 0px 1px 3px 1px rgba(60, 64, 67, 0.15);\n",
              "      fill: #174EA6;\n",
              "    }\n",
              "\n",
              "    [theme=dark] .colab-df-convert {\n",
              "      background-color: #3B4455;\n",
              "      fill: #D2E3FC;\n",
              "    }\n",
              "\n",
              "    [theme=dark] .colab-df-convert:hover {\n",
              "      background-color: #434B5C;\n",
              "      box-shadow: 0px 1px 3px 1px rgba(0, 0, 0, 0.15);\n",
              "      filter: drop-shadow(0px 1px 2px rgba(0, 0, 0, 0.3));\n",
              "      fill: #FFFFFF;\n",
              "    }\n",
              "  </style>\n",
              "\n",
              "      <script>\n",
              "        const buttonEl =\n",
              "          document.querySelector('#df-f574f357-21f2-440b-837b-182b968bb935 button.colab-df-convert');\n",
              "        buttonEl.style.display =\n",
              "          google.colab.kernel.accessAllowed ? 'block' : 'none';\n",
              "\n",
              "        async function convertToInteractive(key) {\n",
              "          const element = document.querySelector('#df-f574f357-21f2-440b-837b-182b968bb935');\n",
              "          const dataTable =\n",
              "            await google.colab.kernel.invokeFunction('convertToInteractive',\n",
              "                                                     [key], {});\n",
              "          if (!dataTable) return;\n",
              "\n",
              "          const docLinkHtml = 'Like what you see? Visit the ' +\n",
              "            '<a target=\"_blank\" href=https://colab.research.google.com/notebooks/data_table.ipynb>data table notebook</a>'\n",
              "            + ' to learn more about interactive tables.';\n",
              "          element.innerHTML = '';\n",
              "          dataTable['output_type'] = 'display_data';\n",
              "          await google.colab.output.renderOutput(dataTable, element);\n",
              "          const docLink = document.createElement('div');\n",
              "          docLink.innerHTML = docLinkHtml;\n",
              "          element.appendChild(docLink);\n",
              "        }\n",
              "      </script>\n",
              "    </div>\n",
              "  </div>\n",
              "  "
            ]
          },
          "metadata": {},
          "execution_count": 4
        }
      ],
      "source": [
        "\n",
        "# Lectura de la información de archivo .csv\n",
        "data = pd.read_csv('https://raw.githubusercontent.com/albahnsen/MIAD_ML_and_NLP/main/datasets/dataTrain_carListings.zip')\n",
        "\n",
        "# Preprocesamiento de datos para el taller\n",
        "data = data.loc[data['Model'].str.contains('Camry')].drop(['Make', 'State'], axis=1)\n",
        "data = data.join(pd.get_dummies(data['Model'], prefix='M'))\n",
        "data['HighPrice'] = (data['Price'] > data['Price'].mean()).astype(int)\n",
        "data = data.drop(['Model', 'Price'], axis=1)\n",
        "\n",
        "# Visualización dataset\n",
        "data.head()"
      ]
    },
    {
      "cell_type": "code",
      "execution_count": 5,
      "metadata": {
        "id": "AM8Ld6bzXEUN"
      },
      "outputs": [],
      "source": [
        "# Separación de variables predictoras (X) y variable de interés (y)\n",
        "y = data['HighPrice']\n",
        "X = data.drop(['HighPrice'], axis=1)"
      ]
    },
    {
      "cell_type": "code",
      "execution_count": 6,
      "metadata": {
        "colab": {
          "base_uri": "https://localhost:8080/",
          "height": 423
        },
        "id": "08VxzJLbXEUN",
        "outputId": "eec43d69-9a51-4016-c604-0108cf617ac1"
      },
      "outputs": [
        {
          "output_type": "execute_result",
          "data": {
            "text/plain": [
              "        Year  Mileage  M_Camry  M_Camry4dr  M_CamryBase  M_CamryL  M_CamryLE  \\\n",
              "318288  2014    39988        0           0            0         0          0   \n",
              "333638  2007    38904        0           0            0         0          1   \n",
              "234716  2016    29607        0           0            0         0          0   \n",
              "208752  2014    50756        0           0            0         0          0   \n",
              "348892  2017    10506        0           0            0         0          0   \n",
              "...      ...      ...      ...         ...          ...       ...        ...   \n",
              "218085  2010    84057        0           0            0         0          1   \n",
              "198455  2012    93770        0           1            0         0          0   \n",
              "205572  2010    88644        0           0            1         0          0   \n",
              "33541   2015    26180        0           0            0         0          0   \n",
              "274804  2017    18254        0           0            0         0          0   \n",
              "\n",
              "        M_CamrySE  M_CamryXLE  \n",
              "318288          1           0  \n",
              "333638          0           0  \n",
              "234716          1           0  \n",
              "208752          1           0  \n",
              "348892          1           0  \n",
              "...           ...         ...  \n",
              "218085          0           0  \n",
              "198455          0           0  \n",
              "205572          0           0  \n",
              "33541           1           0  \n",
              "274804          1           0  \n",
              "\n",
              "[7031 rows x 9 columns]"
            ],
            "text/html": [
              "\n",
              "  <div id=\"df-94023b9e-9910-499b-9217-b96f7e7b12d0\">\n",
              "    <div class=\"colab-df-container\">\n",
              "      <div>\n",
              "<style scoped>\n",
              "    .dataframe tbody tr th:only-of-type {\n",
              "        vertical-align: middle;\n",
              "    }\n",
              "\n",
              "    .dataframe tbody tr th {\n",
              "        vertical-align: top;\n",
              "    }\n",
              "\n",
              "    .dataframe thead th {\n",
              "        text-align: right;\n",
              "    }\n",
              "</style>\n",
              "<table border=\"1\" class=\"dataframe\">\n",
              "  <thead>\n",
              "    <tr style=\"text-align: right;\">\n",
              "      <th></th>\n",
              "      <th>Year</th>\n",
              "      <th>Mileage</th>\n",
              "      <th>M_Camry</th>\n",
              "      <th>M_Camry4dr</th>\n",
              "      <th>M_CamryBase</th>\n",
              "      <th>M_CamryL</th>\n",
              "      <th>M_CamryLE</th>\n",
              "      <th>M_CamrySE</th>\n",
              "      <th>M_CamryXLE</th>\n",
              "    </tr>\n",
              "  </thead>\n",
              "  <tbody>\n",
              "    <tr>\n",
              "      <th>318288</th>\n",
              "      <td>2014</td>\n",
              "      <td>39988</td>\n",
              "      <td>0</td>\n",
              "      <td>0</td>\n",
              "      <td>0</td>\n",
              "      <td>0</td>\n",
              "      <td>0</td>\n",
              "      <td>1</td>\n",
              "      <td>0</td>\n",
              "    </tr>\n",
              "    <tr>\n",
              "      <th>333638</th>\n",
              "      <td>2007</td>\n",
              "      <td>38904</td>\n",
              "      <td>0</td>\n",
              "      <td>0</td>\n",
              "      <td>0</td>\n",
              "      <td>0</td>\n",
              "      <td>1</td>\n",
              "      <td>0</td>\n",
              "      <td>0</td>\n",
              "    </tr>\n",
              "    <tr>\n",
              "      <th>234716</th>\n",
              "      <td>2016</td>\n",
              "      <td>29607</td>\n",
              "      <td>0</td>\n",
              "      <td>0</td>\n",
              "      <td>0</td>\n",
              "      <td>0</td>\n",
              "      <td>0</td>\n",
              "      <td>1</td>\n",
              "      <td>0</td>\n",
              "    </tr>\n",
              "    <tr>\n",
              "      <th>208752</th>\n",
              "      <td>2014</td>\n",
              "      <td>50756</td>\n",
              "      <td>0</td>\n",
              "      <td>0</td>\n",
              "      <td>0</td>\n",
              "      <td>0</td>\n",
              "      <td>0</td>\n",
              "      <td>1</td>\n",
              "      <td>0</td>\n",
              "    </tr>\n",
              "    <tr>\n",
              "      <th>348892</th>\n",
              "      <td>2017</td>\n",
              "      <td>10506</td>\n",
              "      <td>0</td>\n",
              "      <td>0</td>\n",
              "      <td>0</td>\n",
              "      <td>0</td>\n",
              "      <td>0</td>\n",
              "      <td>1</td>\n",
              "      <td>0</td>\n",
              "    </tr>\n",
              "    <tr>\n",
              "      <th>...</th>\n",
              "      <td>...</td>\n",
              "      <td>...</td>\n",
              "      <td>...</td>\n",
              "      <td>...</td>\n",
              "      <td>...</td>\n",
              "      <td>...</td>\n",
              "      <td>...</td>\n",
              "      <td>...</td>\n",
              "      <td>...</td>\n",
              "    </tr>\n",
              "    <tr>\n",
              "      <th>218085</th>\n",
              "      <td>2010</td>\n",
              "      <td>84057</td>\n",
              "      <td>0</td>\n",
              "      <td>0</td>\n",
              "      <td>0</td>\n",
              "      <td>0</td>\n",
              "      <td>1</td>\n",
              "      <td>0</td>\n",
              "      <td>0</td>\n",
              "    </tr>\n",
              "    <tr>\n",
              "      <th>198455</th>\n",
              "      <td>2012</td>\n",
              "      <td>93770</td>\n",
              "      <td>0</td>\n",
              "      <td>1</td>\n",
              "      <td>0</td>\n",
              "      <td>0</td>\n",
              "      <td>0</td>\n",
              "      <td>0</td>\n",
              "      <td>0</td>\n",
              "    </tr>\n",
              "    <tr>\n",
              "      <th>205572</th>\n",
              "      <td>2010</td>\n",
              "      <td>88644</td>\n",
              "      <td>0</td>\n",
              "      <td>0</td>\n",
              "      <td>1</td>\n",
              "      <td>0</td>\n",
              "      <td>0</td>\n",
              "      <td>0</td>\n",
              "      <td>0</td>\n",
              "    </tr>\n",
              "    <tr>\n",
              "      <th>33541</th>\n",
              "      <td>2015</td>\n",
              "      <td>26180</td>\n",
              "      <td>0</td>\n",
              "      <td>0</td>\n",
              "      <td>0</td>\n",
              "      <td>0</td>\n",
              "      <td>0</td>\n",
              "      <td>1</td>\n",
              "      <td>0</td>\n",
              "    </tr>\n",
              "    <tr>\n",
              "      <th>274804</th>\n",
              "      <td>2017</td>\n",
              "      <td>18254</td>\n",
              "      <td>0</td>\n",
              "      <td>0</td>\n",
              "      <td>0</td>\n",
              "      <td>0</td>\n",
              "      <td>0</td>\n",
              "      <td>1</td>\n",
              "      <td>0</td>\n",
              "    </tr>\n",
              "  </tbody>\n",
              "</table>\n",
              "<p>7031 rows × 9 columns</p>\n",
              "</div>\n",
              "      <button class=\"colab-df-convert\" onclick=\"convertToInteractive('df-94023b9e-9910-499b-9217-b96f7e7b12d0')\"\n",
              "              title=\"Convert this dataframe to an interactive table.\"\n",
              "              style=\"display:none;\">\n",
              "        \n",
              "  <svg xmlns=\"http://www.w3.org/2000/svg\" height=\"24px\"viewBox=\"0 0 24 24\"\n",
              "       width=\"24px\">\n",
              "    <path d=\"M0 0h24v24H0V0z\" fill=\"none\"/>\n",
              "    <path d=\"M18.56 5.44l.94 2.06.94-2.06 2.06-.94-2.06-.94-.94-2.06-.94 2.06-2.06.94zm-11 1L8.5 8.5l.94-2.06 2.06-.94-2.06-.94L8.5 2.5l-.94 2.06-2.06.94zm10 10l.94 2.06.94-2.06 2.06-.94-2.06-.94-.94-2.06-.94 2.06-2.06.94z\"/><path d=\"M17.41 7.96l-1.37-1.37c-.4-.4-.92-.59-1.43-.59-.52 0-1.04.2-1.43.59L10.3 9.45l-7.72 7.72c-.78.78-.78 2.05 0 2.83L4 21.41c.39.39.9.59 1.41.59.51 0 1.02-.2 1.41-.59l7.78-7.78 2.81-2.81c.8-.78.8-2.07 0-2.86zM5.41 20L4 18.59l7.72-7.72 1.47 1.35L5.41 20z\"/>\n",
              "  </svg>\n",
              "      </button>\n",
              "      \n",
              "  <style>\n",
              "    .colab-df-container {\n",
              "      display:flex;\n",
              "      flex-wrap:wrap;\n",
              "      gap: 12px;\n",
              "    }\n",
              "\n",
              "    .colab-df-convert {\n",
              "      background-color: #E8F0FE;\n",
              "      border: none;\n",
              "      border-radius: 50%;\n",
              "      cursor: pointer;\n",
              "      display: none;\n",
              "      fill: #1967D2;\n",
              "      height: 32px;\n",
              "      padding: 0 0 0 0;\n",
              "      width: 32px;\n",
              "    }\n",
              "\n",
              "    .colab-df-convert:hover {\n",
              "      background-color: #E2EBFA;\n",
              "      box-shadow: 0px 1px 2px rgba(60, 64, 67, 0.3), 0px 1px 3px 1px rgba(60, 64, 67, 0.15);\n",
              "      fill: #174EA6;\n",
              "    }\n",
              "\n",
              "    [theme=dark] .colab-df-convert {\n",
              "      background-color: #3B4455;\n",
              "      fill: #D2E3FC;\n",
              "    }\n",
              "\n",
              "    [theme=dark] .colab-df-convert:hover {\n",
              "      background-color: #434B5C;\n",
              "      box-shadow: 0px 1px 3px 1px rgba(0, 0, 0, 0.15);\n",
              "      filter: drop-shadow(0px 1px 2px rgba(0, 0, 0, 0.3));\n",
              "      fill: #FFFFFF;\n",
              "    }\n",
              "  </style>\n",
              "\n",
              "      <script>\n",
              "        const buttonEl =\n",
              "          document.querySelector('#df-94023b9e-9910-499b-9217-b96f7e7b12d0 button.colab-df-convert');\n",
              "        buttonEl.style.display =\n",
              "          google.colab.kernel.accessAllowed ? 'block' : 'none';\n",
              "\n",
              "        async function convertToInteractive(key) {\n",
              "          const element = document.querySelector('#df-94023b9e-9910-499b-9217-b96f7e7b12d0');\n",
              "          const dataTable =\n",
              "            await google.colab.kernel.invokeFunction('convertToInteractive',\n",
              "                                                     [key], {});\n",
              "          if (!dataTable) return;\n",
              "\n",
              "          const docLinkHtml = 'Like what you see? Visit the ' +\n",
              "            '<a target=\"_blank\" href=https://colab.research.google.com/notebooks/data_table.ipynb>data table notebook</a>'\n",
              "            + ' to learn more about interactive tables.';\n",
              "          element.innerHTML = '';\n",
              "          dataTable['output_type'] = 'display_data';\n",
              "          await google.colab.output.renderOutput(dataTable, element);\n",
              "          const docLink = document.createElement('div');\n",
              "          docLink.innerHTML = docLinkHtml;\n",
              "          element.appendChild(docLink);\n",
              "        }\n",
              "      </script>\n",
              "    </div>\n",
              "  </div>\n",
              "  "
            ]
          },
          "metadata": {},
          "execution_count": 6
        }
      ],
      "source": [
        "# Separación de datos en set de entrenamiento y test\n",
        "from sklearn.model_selection import train_test_split\n",
        "X_train, X_test, y_train, y_test = train_test_split(X, y, test_size=0.33, random_state=42)\n",
        "X_train"
      ]
    },
    {
      "cell_type": "markdown",
      "metadata": {
        "id": "xasnSWVfXEUO"
      },
      "source": [
        "### Punto 1 - Árbol de decisión manual\n",
        "\n",
        "En la celda 1 creen un árbol de decisión **manualmente**  que considere los set de entrenamiento y test definidos anteriormente y presenten el acurracy del modelo en el set de test."
      ]
    },
    {
      "cell_type": "code",
      "execution_count": 7,
      "metadata": {
        "id": "yTHHw-asXEUP"
      },
      "outputs": [],
      "source": [
        "def gini(y):\n",
        "    if y.shape[0] == 0:\n",
        "        return 0\n",
        "    else:\n",
        "        return 1 - (y.mean()**2 + (1 - y.mean())**2)\n",
        "\n",
        "def gini_impurity(X_col, y, split):\n",
        "    \n",
        "    filter_l = X_col < split\n",
        "    y_l = y.loc[filter_l]\n",
        "    y_r = y.loc[~filter_l]\n",
        "    \n",
        "    n_l = y_l.shape[0]\n",
        "    n_r = y_r.shape[0]\n",
        "    \n",
        "    gini_y = gini(y)\n",
        "    gini_l = gini(y_l)\n",
        "    gini_r = gini(y_r)\n",
        "    \n",
        "    gini_impurity_ = gini_y - (n_l / (n_l + n_r) * gini_l + n_r / (n_l + n_r) * gini_r)\n",
        "    \n",
        "    return gini_impurity_"
      ]
    },
    {
      "cell_type": "code",
      "execution_count": 8,
      "metadata": {
        "id": "1ayfes2PXEUP"
      },
      "outputs": [],
      "source": [
        "import numpy as np\n",
        "def best_split(X, y, num_pct=10):\n",
        "    \n",
        "    features = range(X.shape[1])\n",
        "    \n",
        "    best_split = [0, 0, 0]  # j, split, gain\n",
        "    \n",
        "    # Para todas las varibles \n",
        "    for j in features:\n",
        "        \n",
        "        splits = np.percentile(X.iloc[:, j], np.arange(0, 100, 100.0 / (num_pct+1)).tolist())\n",
        "        splits = np.unique(splits)[1:]\n",
        "        \n",
        "        # Para cada partición\n",
        "        for split in splits:\n",
        "            gain = gini_impurity(X.iloc[:, j], y, split)\n",
        "                        \n",
        "            if gain > best_split[2]:\n",
        "                best_split = [j, split, gain]\n",
        "    \n",
        "    return best_split"
      ]
    },
    {
      "cell_type": "code",
      "execution_count": 9,
      "metadata": {
        "id": "Ym7Gv0BZXEUQ"
      },
      "outputs": [],
      "source": [
        "def tree_grow(X, y, level=0, min_gain=0.001, max_depth=None, num_pct=10):\n",
        "    \n",
        "    # Si solo es una observación\n",
        "    if X.shape[0] == 1:\n",
        "        tree = dict(y_pred=y.iloc[:1].values[0], y_prob=0.5, level=level, split=-1, n_samples=1, gain=0)\n",
        "        return tree\n",
        "    \n",
        "    # Calcular la mejor división\n",
        "    j, split, gain = best_split(X, y, num_pct)\n",
        "    \n",
        "    # Guardar el árbol y estimar la predicción\n",
        "    y_pred = int(y.mean() >= 0.5) \n",
        "    y_prob = (y.sum() + 1.0) / (y.shape[0] + 2.0)  # Corrección Laplace \n",
        "    \n",
        "    tree = dict(y_pred=y_pred, y_prob=y_prob, level=level, split=-1, n_samples=X.shape[0], gain=gain)\n",
        "    # Revisar el criterio de parada \n",
        "    if gain < min_gain:\n",
        "        return tree\n",
        "    if max_depth is not None:\n",
        "        if level >= max_depth:\n",
        "            return tree   \n",
        "    \n",
        "    # Continuar creando la partición\n",
        "    filter_l = X.iloc[:, j] < split\n",
        "    X_l, y_l = X.loc[filter_l], y.loc[filter_l]\n",
        "    X_r, y_r = X.loc[~filter_l], y.loc[~filter_l]\n",
        "    tree['split'] = [j, split]\n",
        "\n",
        "    # Siguiente iteración para cada partición\n",
        "    \n",
        "    tree['sl'] = tree_grow(X_l, y_l, level + 1, min_gain=min_gain, max_depth=max_depth, num_pct=num_pct)\n",
        "    tree['sr'] = tree_grow(X_r, y_r, level + 1, min_gain=min_gain, max_depth=max_depth, num_pct=num_pct)\n",
        "    \n",
        "    return tree"
      ]
    },
    {
      "cell_type": "code",
      "execution_count": 10,
      "metadata": {
        "id": "X4tp0XeVXEUR"
      },
      "outputs": [],
      "source": [
        "def tree_predict(X, tree, proba=False):\n",
        "    \n",
        "    predicted = np.ones(X.shape[0])\n",
        "\n",
        "    # Revisar si es el nodo final\n",
        "    if tree['split'] == -1:\n",
        "        if not proba:\n",
        "            predicted = predicted * tree['y_pred']\n",
        "        else:\n",
        "            predicted = predicted * tree['y_prob']\n",
        "            \n",
        "    else:\n",
        "        \n",
        "        j, split = tree['split']\n",
        "        filter_l = (X.iloc[:, j] < split)\n",
        "        X_l = X.loc[filter_l]\n",
        "        X_r = X.loc[~filter_l]\n",
        "\n",
        "        if X_l.shape[0] == 0:  # Si el nodo izquierdo está vacio solo continua con el derecho \n",
        "            predicted[~filter_l] = tree_predict(X_r, tree['sr'], proba)\n",
        "        elif X_r.shape[0] == 0:  #  Si el nodo derecho está vacio solo continua con el izquierdo\n",
        "            predicted[filter_l] = tree_predict(X_l, tree['sl'], proba)\n",
        "        else:\n",
        "            predicted[filter_l] = tree_predict(X_l, tree['sl'], proba)\n",
        "            predicted[~filter_l] = tree_predict(X_r, tree['sr'], proba)\n",
        "\n",
        "    return predicted"
      ]
    },
    {
      "cell_type": "code",
      "execution_count": 11,
      "metadata": {
        "colab": {
          "base_uri": "https://localhost:8080/"
        },
        "id": "afM8Af3lXEUR",
        "outputId": "87d7f748-3c38-43e3-fb4b-3be3c52187a9"
      },
      "outputs": [
        {
          "output_type": "execute_result",
          "data": {
            "text/plain": [
              "{'gain': 0.23630504821132137,\n",
              " 'level': 0,\n",
              " 'n_samples': 7031,\n",
              " 'sl': {'gain': 0.03713896892744761,\n",
              "  'level': 1,\n",
              "  'n_samples': 4474,\n",
              "  'sl': {'gain': 0.043426293133466354,\n",
              "   'level': 2,\n",
              "   'n_samples': 1447,\n",
              "   'sl': {'gain': 0.05394731382546758,\n",
              "    'level': 3,\n",
              "    'n_samples': 203,\n",
              "    'sl': {'gain': 0.01352946029496721,\n",
              "     'level': 4,\n",
              "     'n_samples': 85,\n",
              "     'sl': {'gain': 0.08132745221592097,\n",
              "      'level': 5,\n",
              "      'n_samples': 23,\n",
              "      'split': -1,\n",
              "      'y_pred': 0,\n",
              "      'y_prob': 0.24},\n",
              "     'split': [1, 35652.36363636363],\n",
              "     'sr': {'gain': 0.0038712154997273124,\n",
              "      'level': 5,\n",
              "      'n_samples': 62,\n",
              "      'split': -1,\n",
              "      'y_pred': 0,\n",
              "      'y_prob': 0.046875},\n",
              "     'y_pred': 0,\n",
              "     'y_prob': 0.09195402298850575},\n",
              "    'split': [0, 2012.0],\n",
              "    'sr': {'gain': 0.020017026523643233,\n",
              "     'level': 4,\n",
              "     'n_samples': 118,\n",
              "     'sl': {'gain': 0.11639118457300279,\n",
              "      'level': 5,\n",
              "      'n_samples': 11,\n",
              "      'split': -1,\n",
              "      'y_pred': 1,\n",
              "      'y_prob': 0.6923076923076923},\n",
              "     'split': [1, 24887.363636363636],\n",
              "     'sr': {'gain': 0.02069617568904858,\n",
              "      'level': 5,\n",
              "      'n_samples': 107,\n",
              "      'split': -1,\n",
              "      'y_pred': 0,\n",
              "      'y_prob': 0.3853211009174312},\n",
              "     'y_pred': 0,\n",
              "     'y_prob': 0.4166666666666667},\n",
              "    'y_pred': 0,\n",
              "    'y_prob': 0.2780487804878049},\n",
              "   'split': [0, 2013.0],\n",
              "   'sr': {'gain': 0.024256063237019176,\n",
              "    'level': 3,\n",
              "    'n_samples': 1244,\n",
              "    'sl': {'gain': 0.014011200973446158,\n",
              "     'level': 4,\n",
              "     'n_samples': 904,\n",
              "     'sl': {'gain': 0.00556156034847427,\n",
              "      'level': 5,\n",
              "      'n_samples': 707,\n",
              "      'split': -1,\n",
              "      'y_pred': 1,\n",
              "      'y_prob': 0.8110014104372355},\n",
              "     'split': [6, 1.0],\n",
              "     'sr': {'gain': 0.0509520357534477,\n",
              "      'level': 5,\n",
              "      'n_samples': 197,\n",
              "      'split': -1,\n",
              "      'y_pred': 1,\n",
              "      'y_prob': 0.6080402010050251},\n",
              "     'y_pred': 1,\n",
              "     'y_prob': 0.7671081677704195},\n",
              "    'split': [1, 39822.0],\n",
              "    'sr': {'gain': 0.05453490718936188,\n",
              "     'level': 4,\n",
              "     'n_samples': 340,\n",
              "     'sl': {'gain': 0.016551370145274913,\n",
              "      'level': 5,\n",
              "      'n_samples': 262,\n",
              "      'split': -1,\n",
              "      'y_pred': 1,\n",
              "      'y_prob': 0.6098484848484849},\n",
              "     'split': [6, 1.0],\n",
              "     'sr': {'gain': 0.010898218590526254,\n",
              "      'level': 5,\n",
              "      'n_samples': 78,\n",
              "      'split': -1,\n",
              "      'y_pred': 0,\n",
              "      'y_prob': 0.225},\n",
              "     'y_pred': 1,\n",
              "     'y_prob': 0.52046783625731},\n",
              "    'y_pred': 1,\n",
              "    'y_prob': 0.6998394863563403},\n",
              "   'y_pred': 1,\n",
              "   'y_prob': 0.6404416839199448},\n",
              "  'split': [0, 2015.0],\n",
              "  'sr': {'gain': 0.007509453837285407,\n",
              "   'level': 2,\n",
              "   'n_samples': 3027,\n",
              "   'sl': {'gain': 0.00024133700317513843,\n",
              "    'level': 3,\n",
              "    'n_samples': 1651,\n",
              "    'split': -1,\n",
              "    'y_pred': 1,\n",
              "    'y_prob': 0.9872958257713249},\n",
              "   'split': [1, 30532.545454545452],\n",
              "   'sr': {'gain': 0.00816405585876312,\n",
              "    'level': 3,\n",
              "    'n_samples': 1376,\n",
              "    'sl': {'gain': 0.0011786261141377707,\n",
              "     'level': 4,\n",
              "     'n_samples': 982,\n",
              "     'sl': {'gain': 0.0015632224032787745,\n",
              "      'level': 5,\n",
              "      'n_samples': 714,\n",
              "      'split': -1,\n",
              "      'y_pred': 1,\n",
              "      'y_prob': 0.9189944134078212},\n",
              "     'split': [1, 44211.63636363637],\n",
              "     'sr': {'gain': 0.0029666274073334997,\n",
              "      'level': 5,\n",
              "      'n_samples': 268,\n",
              "      'split': -1,\n",
              "      'y_pred': 1,\n",
              "      'y_prob': 0.8629629629629629},\n",
              "     'y_pred': 1,\n",
              "     'y_prob': 0.9044715447154471},\n",
              "    'split': [6, 1.0],\n",
              "    'sr': {'gain': 0.012432872082331625,\n",
              "     'level': 4,\n",
              "     'n_samples': 394,\n",
              "     'sl': {'gain': 0.0017790429580819,\n",
              "      'level': 5,\n",
              "      'n_samples': 322,\n",
              "      'split': -1,\n",
              "      'y_pred': 1,\n",
              "      'y_prob': 0.7993827160493827},\n",
              "     'split': [1, 46088.36363636364],\n",
              "     'sr': {'gain': 0.0061262040428707865,\n",
              "      'level': 5,\n",
              "      'n_samples': 72,\n",
              "      'split': -1,\n",
              "      'y_pred': 1,\n",
              "      'y_prob': 0.5945945945945946},\n",
              "     'y_pred': 1,\n",
              "     'y_prob': 0.7626262626262627},\n",
              "    'y_pred': 1,\n",
              "    'y_prob': 0.8642960812772134},\n",
              "   'y_pred': 1,\n",
              "   'y_prob': 0.9316606140640475},\n",
              "  'y_pred': 1,\n",
              "  'y_prob': 0.8375781948168007},\n",
              " 'split': [1, 51394.909090909096],\n",
              " 'sr': {'gain': 0.047676779790769896,\n",
              "  'level': 1,\n",
              "  'n_samples': 2557,\n",
              "  'sl': {'gain': 0.0045681349880153654,\n",
              "   'level': 2,\n",
              "   'n_samples': 1958,\n",
              "   'sl': {'gain': 6.539810508043517e-05,\n",
              "    'level': 3,\n",
              "    'n_samples': 1372,\n",
              "    'split': -1,\n",
              "    'y_pred': 0,\n",
              "    'y_prob': 0.00727802037845706},\n",
              "   'split': [0, 2012.0],\n",
              "   'sr': {'gain': 0.011500104783552484,\n",
              "    'level': 3,\n",
              "    'n_samples': 586,\n",
              "    'sl': {'gain': 0.03131873045174638,\n",
              "     'level': 4,\n",
              "     'n_samples': 213,\n",
              "     'sl': {'gain': 0.0022441355404702046,\n",
              "      'level': 5,\n",
              "      'n_samples': 193,\n",
              "      'split': -1,\n",
              "      'y_pred': 0,\n",
              "      'y_prob': 0.17435897435897435},\n",
              "     'split': [2, 0.7272727272727479],\n",
              "     'sr': {'gain': 0.10666666666666669,\n",
              "      'level': 5,\n",
              "      'n_samples': 20,\n",
              "      'split': -1,\n",
              "      'y_pred': 1,\n",
              "      'y_prob': 0.5909090909090909},\n",
              "     'y_pred': 0,\n",
              "     'y_prob': 0.21395348837209302},\n",
              "    'split': [1, 73046.45454545454],\n",
              "    'sr': {'gain': 0.0027469921069710745,\n",
              "     'level': 4,\n",
              "     'n_samples': 373,\n",
              "     'sl': {'gain': 0.005168695203297352,\n",
              "      'level': 5,\n",
              "      'n_samples': 170,\n",
              "      'split': -1,\n",
              "      'y_pred': 0,\n",
              "      'y_prob': 0.09883720930232558},\n",
              "     'split': [1, 86796.45454545454],\n",
              "     'sr': {'gain': 0.0008738844612075081,\n",
              "      'level': 5,\n",
              "      'n_samples': 203,\n",
              "      'split': -1,\n",
              "      'y_pred': 0,\n",
              "      'y_prob': 0.024390243902439025},\n",
              "     'y_pred': 0,\n",
              "     'y_prob': 0.056},\n",
              "    'y_pred': 0,\n",
              "    'y_prob': 0.11224489795918367},\n",
              "   'y_pred': 0,\n",
              "   'y_prob': 0.03826530612244898},\n",
              "  'split': [0, 2014.0],\n",
              "  'sr': {'gain': 0.03360777305969753,\n",
              "   'level': 2,\n",
              "   'n_samples': 599,\n",
              "   'sl': {'gain': 0.02792228272448688,\n",
              "    'level': 3,\n",
              "    'n_samples': 372,\n",
              "    'sl': {'gain': 0.020406917448241912,\n",
              "     'level': 4,\n",
              "     'n_samples': 329,\n",
              "     'sl': {'gain': 0.024785915984516682,\n",
              "      'level': 5,\n",
              "      'n_samples': 120,\n",
              "      'split': -1,\n",
              "      'y_pred': 0,\n",
              "      'y_prob': 0.39344262295081966},\n",
              "     'split': [1, 60734.36363636364],\n",
              "     'sr': {'gain': 0.008907488615280956,\n",
              "      'level': 5,\n",
              "      'n_samples': 209,\n",
              "      'split': -1,\n",
              "      'y_pred': 0,\n",
              "      'y_prob': 0.1848341232227488},\n",
              "     'y_pred': 0,\n",
              "     'y_prob': 0.2598187311178248},\n",
              "    'split': [8, 1.0],\n",
              "    'sr': {'gain': 0.06528625511859693,\n",
              "     'level': 4,\n",
              "     'n_samples': 43,\n",
              "     'sl': {'gain': 0.027591836734693898,\n",
              "      'level': 5,\n",
              "      'n_samples': 35,\n",
              "      'split': -1,\n",
              "      'y_pred': 1,\n",
              "      'y_prob': 0.7027027027027027},\n",
              "     'split': [1, 82538.7272727273],\n",
              "     'sr': {'gain': 0.04166666666666674,\n",
              "      'level': 5,\n",
              "      'n_samples': 8,\n",
              "      'split': -1,\n",
              "      'y_pred': 0,\n",
              "      'y_prob': 0.3},\n",
              "     'y_pred': 1,\n",
              "     'y_prob': 0.6222222222222222},\n",
              "    'y_pred': 0,\n",
              "    'y_prob': 0.30213903743315507},\n",
              "   'split': [0, 2015.0],\n",
              "   'sr': {'gain': 0.02910175577937174,\n",
              "    'level': 3,\n",
              "    'n_samples': 227,\n",
              "    'sl': {'gain': 0.01833397012522614,\n",
              "     'level': 4,\n",
              "     'n_samples': 206,\n",
              "     'sl': {'gain': 0.020388007054673807,\n",
              "      'level': 5,\n",
              "      'n_samples': 75,\n",
              "      'split': -1,\n",
              "      'y_pred': 1,\n",
              "      'y_prob': 0.7272727272727273},\n",
              "     'split': [1, 56288.72727272727],\n",
              "     'sr': {'gain': 0.04889445575665913,\n",
              "      'level': 5,\n",
              "      'n_samples': 131,\n",
              "      'split': -1,\n",
              "      'y_pred': 1,\n",
              "      'y_prob': 0.5338345864661654},\n",
              "     'y_pred': 1,\n",
              "     'y_prob': 0.6057692307692307},\n",
              "    'split': [1, 81106.09090909094],\n",
              "    'sr': {'gain': 0.07558578987150422,\n",
              "     'level': 4,\n",
              "     'n_samples': 21,\n",
              "     'sl': {'gain': 0.06419753086419752,\n",
              "      'level': 5,\n",
              "      'n_samples': 18,\n",
              "      'split': -1,\n",
              "      'y_pred': 0,\n",
              "      'y_prob': 0.15},\n",
              "     'split': [8, 1.0],\n",
              "     'sr': {'gain': 0.4444444444444444,\n",
              "      'level': 5,\n",
              "      'n_samples': 3,\n",
              "      'split': -1,\n",
              "      'y_pred': 1,\n",
              "      'y_prob': 0.6},\n",
              "     'y_pred': 0,\n",
              "     'y_prob': 0.21739130434782608},\n",
              "    'y_pred': 1,\n",
              "    'y_prob': 0.5676855895196506},\n",
              "   'y_pred': 0,\n",
              "   'y_prob': 0.40266222961730447},\n",
              "  'y_pred': 0,\n",
              "  'y_prob': 0.12348573661586557},\n",
              " 'y_pred': 1,\n",
              " 'y_prob': 0.5778472913408218}"
            ]
          },
          "metadata": {},
          "execution_count": 11
        }
      ],
      "source": [
        "tree = tree_grow(X_train, y_train, level=0, min_gain=0.001, max_depth=5, num_pct=10)\n",
        "pred = tree_predict(X_test, tree, proba=False)\n",
        "tree"
      ]
    },
    {
      "cell_type": "code",
      "execution_count": 12,
      "metadata": {
        "colab": {
          "base_uri": "https://localhost:8080/"
        },
        "id": "ym6TDiNJXEUS",
        "outputId": "759a9fee-3f29-49ca-8e1d-0df7dd710d50"
      },
      "outputs": [
        {
          "output_type": "execute_result",
          "data": {
            "text/plain": [
              "0.8879907621247113"
            ]
          },
          "metadata": {},
          "execution_count": 12
        }
      ],
      "source": [
        "accuracy_score(y_test,pred)"
      ]
    },
    {
      "cell_type": "markdown",
      "source": [
        "La estimación del árbol de decisión manual presenta un Accuracy de 0.89. Se realizaron ajustes sobre el parámetro max_depth, siendo 5 el que presenta mejor resultados, logrando un buen desempeño "
      ],
      "metadata": {
        "id": "O2os_bbuoPfn"
      }
    },
    {
      "cell_type": "markdown",
      "metadata": {
        "id": "SdJs4ZDNXEUS"
      },
      "source": [
        "### Punto 2 - Bagging manual\n",
        "\n",
        "En la celda 2 creen un modelo bagging **manualmente** con 10 árboles de clasificación y comenten sobre el desempeño del modelo."
      ]
    },
    {
      "cell_type": "code",
      "source": [
        "# Creación de 10 muestras de bootstrap \n",
        "np.random.seed(123)\n",
        "n_samples = X_train.shape[0]\n",
        "n_B = 10\n",
        "\n",
        "samples = [np.random.choice(a=n_samples, size=n_samples, replace=True) for _ in range(1, n_B +1 )]\n",
        "\n",
        "# Definición del modelo usando DecisionTreeRegressor de sklearn\n",
        "treeclas = DecisionTreeClassifier(max_depth=None, random_state=123)\n",
        "\n",
        "# DataFrame para guardar las predicciones de cada árbol\n",
        "y_pred = pd.DataFrame(index=X_test.index, columns=[list(range(n_B))])\n",
        "\n",
        "# Entrenamiento de un árbol sobre cada muestra boostrap y predicción sobre los datos de test\n",
        "for i, sample in enumerate(samples):\n",
        "    X_train = X_train.iloc[sample]\n",
        "    y_train = y_train.iloc[sample]\n",
        "    treeclas.fit(X_train, y_train)\n",
        "    y_pred.iloc[:,i] = treeclas.predict(X_test)\n",
        "\n",
        "# Desempeño de cada árbol\n",
        "for i in range(n_B):\n",
        "    print('Árbol ', i, 'tiene un accuracy de: ', accuracy_score(y_pred.iloc[:,i], y_test))\n",
        "\n",
        "# Votacion mayoritaria para cada observacion del set de test\n",
        "y_pred = y_pred.mode(axis=1)[0].astype(int)\n",
        "\n",
        "# Accuracy al promediar las predicciones de todos los árboles\n",
        "accuracy_score(y_test,y_pred)"
      ],
      "metadata": {
        "colab": {
          "base_uri": "https://localhost:8080/"
        },
        "id": "SY7TDuMbQsq-",
        "outputId": "0f01e657-5d9f-45e9-b8e4-f0b767bbd597"
      },
      "execution_count": 14,
      "outputs": [
        {
          "output_type": "stream",
          "name": "stdout",
          "text": [
            "Árbol  0 tiene un accuracy de:  0.836027713625866\n",
            "Árbol  1 tiene un accuracy de:  0.8368937644341802\n",
            "Árbol  2 tiene un accuracy de:  0.8345842956120092\n",
            "Árbol  3 tiene un accuracy de:  0.8276558891454965\n",
            "Árbol  4 tiene un accuracy de:  0.8314087759815243\n",
            "Árbol  5 tiene un accuracy de:  0.8276558891454965\n",
            "Árbol  6 tiene un accuracy de:  0.8213048498845266\n",
            "Árbol  7 tiene un accuracy de:  0.8236143187066974\n",
            "Árbol  8 tiene un accuracy de:  0.8363163972286374\n",
            "Árbol  9 tiene un accuracy de:  0.8270785219399538\n"
          ]
        },
        {
          "output_type": "execute_result",
          "data": {
            "text/plain": [
              "0.8400692840646651"
            ]
          },
          "metadata": {},
          "execution_count": 14
        }
      ]
    },
    {
      "cell_type": "code",
      "execution_count": 15,
      "metadata": {
        "colab": {
          "base_uri": "https://localhost:8080/",
          "height": 112
        },
        "id": "E0sTRecAXEUT",
        "outputId": "cb64d1b3-a12d-4a71-ba93-d0e4fe1f9305"
      },
      "outputs": [
        {
          "output_type": "execute_result",
          "data": {
            "text/plain": [
              "      0     1\n",
              "0  1181   257\n",
              "1   297  1729"
            ],
            "text/html": [
              "\n",
              "  <div id=\"df-73ceb4d2-3a09-41b1-a947-b8c6e4a4eb10\">\n",
              "    <div class=\"colab-df-container\">\n",
              "      <div>\n",
              "<style scoped>\n",
              "    .dataframe tbody tr th:only-of-type {\n",
              "        vertical-align: middle;\n",
              "    }\n",
              "\n",
              "    .dataframe tbody tr th {\n",
              "        vertical-align: top;\n",
              "    }\n",
              "\n",
              "    .dataframe thead th {\n",
              "        text-align: right;\n",
              "    }\n",
              "</style>\n",
              "<table border=\"1\" class=\"dataframe\">\n",
              "  <thead>\n",
              "    <tr style=\"text-align: right;\">\n",
              "      <th></th>\n",
              "      <th>0</th>\n",
              "      <th>1</th>\n",
              "    </tr>\n",
              "  </thead>\n",
              "  <tbody>\n",
              "    <tr>\n",
              "      <th>0</th>\n",
              "      <td>1181</td>\n",
              "      <td>257</td>\n",
              "    </tr>\n",
              "    <tr>\n",
              "      <th>1</th>\n",
              "      <td>297</td>\n",
              "      <td>1729</td>\n",
              "    </tr>\n",
              "  </tbody>\n",
              "</table>\n",
              "</div>\n",
              "      <button class=\"colab-df-convert\" onclick=\"convertToInteractive('df-73ceb4d2-3a09-41b1-a947-b8c6e4a4eb10')\"\n",
              "              title=\"Convert this dataframe to an interactive table.\"\n",
              "              style=\"display:none;\">\n",
              "        \n",
              "  <svg xmlns=\"http://www.w3.org/2000/svg\" height=\"24px\"viewBox=\"0 0 24 24\"\n",
              "       width=\"24px\">\n",
              "    <path d=\"M0 0h24v24H0V0z\" fill=\"none\"/>\n",
              "    <path d=\"M18.56 5.44l.94 2.06.94-2.06 2.06-.94-2.06-.94-.94-2.06-.94 2.06-2.06.94zm-11 1L8.5 8.5l.94-2.06 2.06-.94-2.06-.94L8.5 2.5l-.94 2.06-2.06.94zm10 10l.94 2.06.94-2.06 2.06-.94-2.06-.94-.94-2.06-.94 2.06-2.06.94z\"/><path d=\"M17.41 7.96l-1.37-1.37c-.4-.4-.92-.59-1.43-.59-.52 0-1.04.2-1.43.59L10.3 9.45l-7.72 7.72c-.78.78-.78 2.05 0 2.83L4 21.41c.39.39.9.59 1.41.59.51 0 1.02-.2 1.41-.59l7.78-7.78 2.81-2.81c.8-.78.8-2.07 0-2.86zM5.41 20L4 18.59l7.72-7.72 1.47 1.35L5.41 20z\"/>\n",
              "  </svg>\n",
              "      </button>\n",
              "      \n",
              "  <style>\n",
              "    .colab-df-container {\n",
              "      display:flex;\n",
              "      flex-wrap:wrap;\n",
              "      gap: 12px;\n",
              "    }\n",
              "\n",
              "    .colab-df-convert {\n",
              "      background-color: #E8F0FE;\n",
              "      border: none;\n",
              "      border-radius: 50%;\n",
              "      cursor: pointer;\n",
              "      display: none;\n",
              "      fill: #1967D2;\n",
              "      height: 32px;\n",
              "      padding: 0 0 0 0;\n",
              "      width: 32px;\n",
              "    }\n",
              "\n",
              "    .colab-df-convert:hover {\n",
              "      background-color: #E2EBFA;\n",
              "      box-shadow: 0px 1px 2px rgba(60, 64, 67, 0.3), 0px 1px 3px 1px rgba(60, 64, 67, 0.15);\n",
              "      fill: #174EA6;\n",
              "    }\n",
              "\n",
              "    [theme=dark] .colab-df-convert {\n",
              "      background-color: #3B4455;\n",
              "      fill: #D2E3FC;\n",
              "    }\n",
              "\n",
              "    [theme=dark] .colab-df-convert:hover {\n",
              "      background-color: #434B5C;\n",
              "      box-shadow: 0px 1px 3px 1px rgba(0, 0, 0, 0.15);\n",
              "      filter: drop-shadow(0px 1px 2px rgba(0, 0, 0, 0.3));\n",
              "      fill: #FFFFFF;\n",
              "    }\n",
              "  </style>\n",
              "\n",
              "      <script>\n",
              "        const buttonEl =\n",
              "          document.querySelector('#df-73ceb4d2-3a09-41b1-a947-b8c6e4a4eb10 button.colab-df-convert');\n",
              "        buttonEl.style.display =\n",
              "          google.colab.kernel.accessAllowed ? 'block' : 'none';\n",
              "\n",
              "        async function convertToInteractive(key) {\n",
              "          const element = document.querySelector('#df-73ceb4d2-3a09-41b1-a947-b8c6e4a4eb10');\n",
              "          const dataTable =\n",
              "            await google.colab.kernel.invokeFunction('convertToInteractive',\n",
              "                                                     [key], {});\n",
              "          if (!dataTable) return;\n",
              "\n",
              "          const docLinkHtml = 'Like what you see? Visit the ' +\n",
              "            '<a target=\"_blank\" href=https://colab.research.google.com/notebooks/data_table.ipynb>data table notebook</a>'\n",
              "            + ' to learn more about interactive tables.';\n",
              "          element.innerHTML = '';\n",
              "          dataTable['output_type'] = 'display_data';\n",
              "          await google.colab.output.renderOutput(dataTable, element);\n",
              "          const docLink = document.createElement('div');\n",
              "          docLink.innerHTML = docLinkHtml;\n",
              "          element.appendChild(docLink);\n",
              "        }\n",
              "      </script>\n",
              "    </div>\n",
              "  </div>\n",
              "  "
            ]
          },
          "metadata": {},
          "execution_count": 15
        }
      ],
      "source": [
        "matrix = confusion_matrix(y_test, y_pred)\n",
        "class_names = [0,1]\n",
        "dataframe = pd.DataFrame(matrix, index=class_names, columns=class_names)\n",
        "dataframe"
      ]
    },
    {
      "cell_type": "code",
      "execution_count": 16,
      "metadata": {
        "colab": {
          "base_uri": "https://localhost:8080/"
        },
        "id": "yIkzPy9IXEUT",
        "outputId": "0897981b-bbfb-4015-faf7-1ea8d4703624"
      },
      "outputs": [
        {
          "output_type": "stream",
          "name": "stdout",
          "text": [
            "La exactitud en la muestra de test es:0.8400692840646651\n",
            "La precision en la muestra de test es:0.8705941591137966\n",
            "La sensibilidad en la muestra de test es:0.853405725567621\n",
            "La especificidad en la muestra de test es:0.8212795549374131\n"
          ]
        }
      ],
      "source": [
        "## Accuracy\n",
        "print('La exactitud en la muestra de test es:' +str(accuracy_score(y_test, y_pred)))\n",
        "\n",
        "#Precisión\n",
        "precisionTree=precision_score(y_test, y_pred)\n",
        "print('La precision en la muestra de test es:' +str(precisionTree))\n",
        "\n",
        "#Sensibilidad\n",
        "sensibilidadTree=matrix[1,1]/(matrix[1,1]+matrix[1,0])\n",
        "print('La sensibilidad en la muestra de test es:' +str(sensibilidadTree))\n",
        "\n",
        "## Especificidad\n",
        "\n",
        "EspecificidadTree=matrix[0,0]/(matrix[0,0]+matrix[0,1])\n",
        "print('La especificidad en la muestra de test es:' +str(EspecificidadTree))"
      ]
    },
    {
      "cell_type": "markdown",
      "metadata": {
        "id": "ygjmkwEiXEUT"
      },
      "source": [
        "En la muestra test tenemos 3464 observaciones de las cuales 2026 predicciones pertenecen a la clase 1 y 1438 de la clase 0\n",
        "\n",
        "El modelo clasificó 1729 casos en la clase 1\n",
        "\n",
        "Las métricas nos indican los siguiente\n",
        "\n",
        "1. El modelo tiene una exactitud del 84%\n",
        "2. El modelo cuenta con una precisipon del 87%\n",
        "3. El modelo es capaz de clasificar correctamente un 85% de los autos con precio alto.\n",
        "4. El modelo es capaz de clasificar correctamente un 82% de los autos con precio bajo"
      ]
    },
    {
      "cell_type": "markdown",
      "metadata": {
        "id": "32B04pcTXEUU"
      },
      "source": [
        "### Punto 3 - Bagging con librería\n",
        "\n",
        "En la celda 3, con la librería sklearn, entrenen un modelo bagging con 10 árboles de clasificación y el parámetro `max_features` igual a `log(n_features)`. Presenten el acurracy del modelo en el set de test y comenten sus resultados."
      ]
    },
    {
      "cell_type": "code",
      "execution_count": 17,
      "metadata": {
        "id": "5Q8m2Q9vXEUU",
        "colab": {
          "base_uri": "https://localhost:8080/"
        },
        "outputId": "9e9b48d7-c3ff-4006-c4c6-974bc1db5c86"
      },
      "outputs": [
        {
          "output_type": "execute_result",
          "data": {
            "text/plain": [
              "3"
            ]
          },
          "metadata": {},
          "execution_count": 17
        }
      ],
      "source": [
        "n_features= X_train.shape[1]\n",
        "n_features= int(math.log(X_train.shape[1],2))\n",
        "\n",
        "# Uso de BaggingClassi \n",
        "bagclasi = BaggingClassifier(DecisionTreeClassifier(), n_estimators=10,max_features=n_features, \n",
        "                          bootstrap=True, oob_score=True, random_state=1)\n",
        "n_features"
      ]
    },
    {
      "cell_type": "code",
      "source": [
        "# Entrenemiento del modelo con set de entrenamiento y predicción en el set de test\n",
        "bagclasi.fit(X_train, y_train)\n",
        "y_pred2 = bagclasi.predict(X_test)\n",
        "y_pred2"
      ],
      "metadata": {
        "colab": {
          "base_uri": "https://localhost:8080/"
        },
        "id": "HiKqq8JfUzfP",
        "outputId": "62160a90-2db6-4e6c-8d71-0d3994f75180"
      },
      "execution_count": 18,
      "outputs": [
        {
          "output_type": "execute_result",
          "data": {
            "text/plain": [
              "array([0, 0, 1, ..., 1, 0, 0])"
            ]
          },
          "metadata": {},
          "execution_count": 18
        }
      ]
    },
    {
      "cell_type": "code",
      "source": [
        "# Cálculo del error del modelo\n",
        "AccuracyBag= accuracy_score(y_test, y_pred2)\n",
        "AccuracyBag"
      ],
      "metadata": {
        "colab": {
          "base_uri": "https://localhost:8080/"
        },
        "id": "jGE37HgEU36l",
        "outputId": "937bb90a-c278-47d8-b5e7-0183d4096935"
      },
      "execution_count": 19,
      "outputs": [
        {
          "output_type": "execute_result",
          "data": {
            "text/plain": [
              "0.8415127020785219"
            ]
          },
          "metadata": {},
          "execution_count": 19
        }
      ]
    },
    {
      "cell_type": "markdown",
      "source": [
        "Estimando un modelo bagging con librería y definiendo la cantidad de arboles =  10 árboles de clasificación y el parámetro `max_features` igual a `log(n_features)`. Se genera un Accuracy de 0.84 el cual presenta una mejora frente al modelo estimado anteriormente de manera manual. "
      ],
      "metadata": {
        "id": "LxG55XwuplsF"
      }
    },
    {
      "cell_type": "markdown",
      "metadata": {
        "id": "ncYcffAxXEUU"
      },
      "source": [
        "### Punto 4 - Random forest con librería\n",
        "\n",
        "En la celda 4, usando la librería sklearn entrenen un modelo de Randon Forest para clasificación y presenten el acurracy del modelo en el set de test y comenten sus resultados."
      ]
    },
    {
      "cell_type": "code",
      "execution_count": 20,
      "metadata": {
        "colab": {
          "base_uri": "https://localhost:8080/"
        },
        "id": "4hey9Wr9XEUU",
        "outputId": "b6651567-6f11-47c8-8e60-17ebc45123cd"
      },
      "outputs": [
        {
          "output_type": "execute_result",
          "data": {
            "text/plain": [
              "0.8348729792147807"
            ]
          },
          "metadata": {},
          "execution_count": 20
        }
      ],
      "source": [
        "# Celda 4\n",
        "clf = RandomForestClassifier()\n",
        "clf.fit(X_train, y_train)\n",
        "pred = clf.predict(X_test)\n",
        "des_rf = accuracy_score(y_test,pred)\n",
        "des_rf"
      ]
    },
    {
      "cell_type": "markdown",
      "source": [
        "Estimando el modelo de Randon Forest para clasificación con librería y manteniendo sus parámetros por defecto , presenta un acurracy de 83%"
      ],
      "metadata": {
        "id": "ajMmN8I2qEb2"
      }
    },
    {
      "cell_type": "markdown",
      "metadata": {
        "id": "IJB9uq5XXEUV"
      },
      "source": [
        "### Punto 5 - Calibración de parámetros Random forest\n",
        "\n",
        "En la celda 5, calibren los parámetros max_depth, max_features y n_estimators del modelo de Randon Forest para clasificación. Presenten el acurracy del modelo en el set de test, comenten sus resultados y análicen cómo cada parámetro afecta el modelo."
      ]
    },
    {
      "cell_type": "markdown",
      "source": [
        "**Primera forma :** Se calibra simultaneamente los parámetros max_depth, max_features y n_estimators por medio de RandomizedSearchCV"
      ],
      "metadata": {
        "id": "ZrNTuRSYRd8Q"
      }
    },
    {
      "cell_type": "code",
      "source": [
        "n_estimators = [int(x) for x in range(1,21)]\n",
        "max_features=[int(x) for x in range(1,10)]\n",
        "max_depth=[int(x) for x in range(10,300,10)]\n",
        "max_depth.append(None)\n",
        "\n",
        "random_grid = {'n_estimators': n_estimators,\n",
        "               'max_features': max_features,\n",
        "               'max_depth': max_depth,\n",
        "               }\n",
        "\n",
        "clfsv=RandomForestClassifier()\n",
        "rf_random = RandomizedSearchCV(estimator = clfsv, param_distributions = random_grid, n_iter = 100, cv = 10, random_state=1, n_jobs = -1)\n"
      ],
      "metadata": {
        "id": "Z9web70KBkNc"
      },
      "execution_count": 21,
      "outputs": []
    },
    {
      "cell_type": "code",
      "source": [
        "# Quitar los \"#\" para ver el resultado auque es un proceso demorado\n",
        "#rf_random.fit(X_train, y_train)\n",
        "#pred6 = rf_random.predict(X_test)\n",
        "#des_rfcal = accuracy_score(y_test,pred6)\n",
        "#des_rfcal\n"
      ],
      "metadata": {
        "id": "J-PKqNpjDUsb"
      },
      "execution_count": 22,
      "outputs": []
    },
    {
      "cell_type": "code",
      "source": [
        "#print(rf_random.best_params_)"
      ],
      "metadata": {
        "id": "079oKg1lFofJ"
      },
      "execution_count": 25,
      "outputs": []
    },
    {
      "cell_type": "markdown",
      "source": [
        "Calibrando simultaneamente los tres parámetros se obtiene un accuracy del 83.08% , muy similar a los resultados sin calibrar,donde los parámetros óptimos son:\n",
        "\n",
        "* Numero de estimadores: 124\n",
        "* Número máximo de parámetros: 9\n",
        "* Profundidad del árbol: 150"
      ],
      "metadata": {
        "id": "oXOv7PnwUUMR"
      }
    },
    {
      "cell_type": "markdown",
      "source": [
        "**Segunda forma:** Se calibra de manera individual cada uno de los parámetros"
      ],
      "metadata": {
        "id": "_VFLA1JkSUEZ"
      }
    },
    {
      "cell_type": "code",
      "execution_count": 39,
      "metadata": {
        "colab": {
          "base_uri": "https://localhost:8080/",
          "height": 297
        },
        "id": "2AwDJ-PuXEUV",
        "outputId": "2437c2e8-d04b-448d-ea14-97892b4bb4c9"
      },
      "outputs": [
        {
          "output_type": "execute_result",
          "data": {
            "text/plain": [
              "20"
            ]
          },
          "metadata": {},
          "execution_count": 39
        },
        {
          "output_type": "display_data",
          "data": {
            "text/plain": [
              "<Figure size 432x288 with 1 Axes>"
            ],
            "image/png": "[encoded data removed]"
          },
          "metadata": {
            "needs_background": "light"
          }
        }
      ],
      "source": [
        "# Calibrando de manera individual max_depth\n",
        "\n",
        "# Creación de lista de valores para iterar sobre diferentes valores de max_depth\n",
        "depth_range = range(1,21)\n",
        "\n",
        "# Definición de lista para almacenar la exactitud (accuracy) promedio para cada valor de max_depth\n",
        "accuracy_scores_depth = []\n",
        "\n",
        "# Uso de un 10-fold cross-validation para cada valor de max_depth\n",
        "for depth in depth_range:\n",
        "    clf3 = RandomForestClassifier(max_depth=depth, random_state=1)\n",
        "    accuracy_scores_depth.append(cross_val_score(clf3, X_train, y_train, cv=10, scoring='accuracy').mean())\n",
        "\n",
        "plt.plot(depth_range, accuracy_scores_depth)\n",
        "plt.xlabel('max_depth')\n",
        "plt.ylabel('Accuracy')\n",
        "depth_final = sorted(zip(accuracy_scores_depth, depth_range))[::-1][0][1]\n",
        "depth_final\n"
      ]
    },
    {
      "cell_type": "markdown",
      "source": [
        "Teniendo en cuenta la gráfica cuando max_depth es igual a 10 el valor del accuracy se estabiliza, por lo tanto en la calibración el número óptimo para este parametro será igual a 10."
      ],
      "metadata": {
        "id": "HLW44ySK41UN"
      }
    },
    {
      "cell_type": "code",
      "source": [
        "## Calibrando el número maximo de parametros\n",
        "\n",
        "n_features = X_train.shape[1]\n",
        "\n",
        "features_range = range(1,n_features+1)\n",
        "\n",
        "accuracy_scores_feat = []\n",
        "\n",
        "for feature in features_range:\n",
        "    clf4 = RandomForestClassifier(max_features=feature, random_state=1)\n",
        "    accuracy_scores_feat.append(cross_val_score(clf4, X_train, y_train, cv=10, scoring='accuracy').mean())\n",
        "\n",
        "plt.plot(features_range, accuracy_scores_feat)\n",
        "plt.xlabel('max_features')\n",
        "plt.ylabel('Accuracy')\n",
        "features_final = sorted(zip(accuracy_scores_feat, features_range))[::-1][0][1]\n"
      ],
      "metadata": {
        "colab": {
          "base_uri": "https://localhost:8080/",
          "height": 280
        },
        "id": "8p5einLBAUCL",
        "outputId": "a9400499-c53e-4f6f-b87c-79550bcec698"
      },
      "execution_count": 27,
      "outputs": [
        {
          "output_type": "display_data",
          "data": {
            "text/plain": [
              "<Figure size 432x288 with 1 Axes>"
            ],
            "image/png": "[encoded data removed]"
          },
          "metadata": {
            "needs_background": "light"
          }
        }
      ]
    },
    {
      "cell_type": "markdown",
      "source": [
        "Al igual que el grafico anterior se observa que al tener en cuenta un maximo de 9 parámetros se tiene un accuracy cercano al 99%"
      ],
      "metadata": {
        "id": "RZCxaQR1VRc0"
      }
    },
    {
      "cell_type": "code",
      "execution_count": 28,
      "metadata": {
        "colab": {
          "base_uri": "https://localhost:8080/",
          "height": 282
        },
        "id": "FBODQsdcXEUV",
        "outputId": "e056ff30-d3f8-4f2f-a213-53a7bcac8564"
      },
      "outputs": [
        {
          "output_type": "display_data",
          "data": {
            "text/plain": [
              "<Figure size 432x288 with 1 Axes>"
            ],
            "image/png": "[encoded data removed]"
          },
          "metadata": {
            "needs_background": "light"
          }
        }
      ],
      "source": [
        "# Calbrando el numero de estimadores\n",
        "estimator_range = range(10, 300, 10)\n",
        "\n",
        "accuracy_scores_n = []\n",
        "\n",
        "for estimator in estimator_range:\n",
        "    clf5 = RandomForestClassifier(n_estimators=estimator, random_state=1, n_jobs=-1)\n",
        "    clf5.fit(X_train, y_train)\n",
        "    accuracy_scores_n.append(cross_val_score(clf5, X_train, y_train, cv=10, scoring='accuracy').mean())\n",
        "\n",
        "plt.plot(estimator_range, accuracy_scores_n)\n",
        "plt.xlabel('n_estimators')\n",
        "plt.ylabel('Accuracy')\n",
        "n_final = sorted(zip(accuracy_scores_n, estimator_range))[::-1][0][1]\n"
      ]
    },
    {
      "cell_type": "markdown",
      "source": [
        "En este caso el número de estimadores optimo es igual a 60 ya que a partir de este valor del accuracy se estabiliza"
      ],
      "metadata": {
        "id": "IUmG1Ate-iXY"
      }
    },
    {
      "cell_type": "code",
      "execution_count": 41,
      "metadata": {
        "colab": {
          "base_uri": "https://localhost:8080/"
        },
        "id": "7sOAk8tMXEUW",
        "outputId": "61aa3f06-0c26-4388-b664-25e1a704a292"
      },
      "outputs": [
        {
          "output_type": "execute_result",
          "data": {
            "text/plain": [
              "0.8363163972286374"
            ]
          },
          "metadata": {},
          "execution_count": 41
        }
      ],
      "source": [
        "### Realizando el modelo de random forest con los parámetros calibrados\n",
        "clf6 = RandomForestClassifier()\n",
        "clf6 = RandomForestClassifier(n_estimators=60, max_features=9, max_depth=10, random_state=1, n_jobs=-1)\n",
        "clf6.fit(X_train, y_train)\n",
        "pred6 = clf6.predict(X_test)\n",
        "des_rfcal_2 = accuracy_score(y_test,pred6)\n",
        "des_rfcal_2"
      ]
    },
    {
      "cell_type": "markdown",
      "metadata": {
        "id": "ACBPiyxFXEUW"
      },
      "source": [
        "Los resultados nos muestran que la profundidad máxima del árbol que garantiza el mejor desempeño es de 10. A medida que aumenta la profundidad, después de este valor el desempeño del modelo comienza a caer. \n",
        "En relación con el número de variables se observa que 9 es la cantidad que maximiza el desempeño. \n",
        "\n",
        "Finalmente, en relación con el número de estimadores, el óptimo lo encontramos en 60. Después de este valor observamos que el accuracy se mantiene constante.\n",
        "\n",
        "Al entrenar el modelo con los parámetros ya calibrados encontramos que no mejora significativamente el desempeño con relación al modelo del punto 4, pasando de 0.834 a 0.836"
      ]
    },
    {
      "cell_type": "markdown",
      "metadata": {
        "id": "DtKXlVt2XEUW"
      },
      "source": [
        "### Punto 6 - XGBoost con librería\n",
        "\n",
        "En la celda 6 implementen un modelo XGBoost de clasificación con la librería sklearn, presenten el acurracy del modelo en el set de test y comenten sus resultados."
      ]
    },
    {
      "cell_type": "code",
      "execution_count": 30,
      "metadata": {
        "colab": {
          "base_uri": "https://localhost:8080/"
        },
        "id": "DRK1CBslXEUW",
        "outputId": "954af09e-3b5f-4952-ab5e-5d82f71198d2"
      },
      "outputs": [
        {
          "output_type": "execute_result",
          "data": {
            "text/plain": [
              "0.8666281755196305"
            ]
          },
          "metadata": {},
          "execution_count": 30
        }
      ],
      "source": [
        "clf = XGBClassifier()\n",
        "clf.fit(X_train, y_train)\n",
        "y_pred = clf.predict(X_test)\n",
        "des_xg = accuracy_score(y_pred, y_test)\n",
        "des_xg"
      ]
    },
    {
      "cell_type": "markdown",
      "source": [
        "El modelo XGBoost con sus parametros por defecto logra un accuracy superior a los anterioires modelos, logrando un accuracy de 0.866, muy similar al obtenido por el modelo de random forest calibrado"
      ],
      "metadata": {
        "id": "Q3gR7uwHtv_K"
      }
    },
    {
      "cell_type": "markdown",
      "metadata": {
        "id": "3_PqZJ7EXEUX"
      },
      "source": [
        "### Punto 7 - Calibración de parámetros XGBoost\n",
        "\n",
        "En la celda 7 calibren los parámetros learning rate, gamma y colsample_bytree del modelo XGBoost para clasificación. Presenten el acurracy del modelo en el set de test, comenten sus resultados y análicen cómo cada parámetro afecta el modelo."
      ]
    },
    {
      "cell_type": "markdown",
      "source": [
        "**Primera forma :** Se calibra simultaneamente los parámetros por medio de RandomizedSearchCV"
      ],
      "metadata": {
        "id": "Y6LBDuqtGkvO"
      }
    },
    {
      "cell_type": "code",
      "source": [
        "gamma_range = range(0, 100)\n",
        "colsample_bytree = np.arange(0.1,1.0,0.01)\n",
        "learning_rates = np.arange(0.1,1.0,0.01)\n",
        "\n",
        "random_grid = {'gamma': gamma_range,\n",
        "               'colsample_bytree': colsample_bytree,\n",
        "               'learning_rate': learning_rates,\n",
        "               }\n",
        "\n",
        "XGBsv=XGBClassifier()\n",
        "XGBsv_random = RandomizedSearchCV(estimator = XGBsv, param_distributions = random_grid, n_iter = 100, cv = 10, random_state=1, n_jobs = -1)"
      ],
      "metadata": {
        "id": "WCHlR0dqEVhR"
      },
      "execution_count": 31,
      "outputs": []
    },
    {
      "cell_type": "code",
      "source": [
        "XGBsv_random.fit(X_train, y_train)\n",
        "predxg = XGBsv_random.predict(X_test)\n",
        "des_xg3 = accuracy_score(y_test,predxg)\n",
        "des_xg3"
      ],
      "metadata": {
        "colab": {
          "base_uri": "https://localhost:8080/"
        },
        "id": "o9-1VkiLFR63",
        "outputId": "9dc6950a-dd98-4dbf-f0e4-005e9259628d"
      },
      "execution_count": 32,
      "outputs": [
        {
          "output_type": "execute_result",
          "data": {
            "text/plain": [
              "0.8556581986143187"
            ]
          },
          "metadata": {},
          "execution_count": 32
        }
      ]
    },
    {
      "cell_type": "code",
      "source": [
        "print(XGBsv_random.best_params_)"
      ],
      "metadata": {
        "colab": {
          "base_uri": "https://localhost:8080/"
        },
        "id": "pO3jYyEpGwfm",
        "outputId": "8519d3c4-2062-480d-fbe6-e32ab1e1d622"
      },
      "execution_count": 33,
      "outputs": [
        {
          "output_type": "stream",
          "name": "stdout",
          "text": [
            "{'learning_rate': 0.5699999999999997, 'gamma': 1, 'colsample_bytree': 0.5099999999999998}\n"
          ]
        }
      ]
    },
    {
      "cell_type": "markdown",
      "source": [
        "Calibrando simultaneamente los tres parámetros se obtiene un accuracy del 85.56% ,donde los parámetros óptimos son:\n",
        "\n",
        "* learning_rate: 0.57\n",
        "* gamma: 1\n",
        "* colsample_bytree: 0.51"
      ],
      "metadata": {
        "id": "SszRp1G8HXFI"
      }
    },
    {
      "cell_type": "markdown",
      "source": [
        "**Segunda forma:** Se calibra de manera individual cada uno de los parámetros"
      ],
      "metadata": {
        "id": "4oYSvNkCG-q0"
      }
    },
    {
      "cell_type": "code",
      "execution_count": 34,
      "metadata": {
        "colab": {
          "base_uri": "https://localhost:8080/",
          "height": 296
        },
        "id": "FqLHsPgcXEUX",
        "outputId": "0163c006-5e98-411b-b7f3-2a06424c0e94"
      },
      "outputs": [
        {
          "output_type": "execute_result",
          "data": {
            "text/plain": [
              "4"
            ]
          },
          "metadata": {},
          "execution_count": 34
        },
        {
          "output_type": "display_data",
          "data": {
            "text/plain": [
              "<Figure size 432x288 with 1 Axes>"
            ],
            "image/png": "[encoded data removed]"
          },
          "metadata": {
            "needs_background": "light"
          }
        }
      ],
      "source": [
        "gamma_range = range(0, 100)\n",
        "\n",
        "# Definición de lista para almacenar la exactitud (accuracy) promedio \n",
        "accuracy_scores_gamma = []\n",
        "\n",
        "# Uso de un 10-fold cross-validation para cada valor \n",
        "for dato in gamma_range:\n",
        "    clf = XGBClassifier(gamma = dato)\n",
        "    accuracy_scores_gamma.append(cross_val_score(clf, X_train, y_train, cv=10, scoring='accuracy').mean())\n",
        "plt.plot(gamma_range, accuracy_scores_gamma)\n",
        "plt.xlabel('gamma')\n",
        "plt.ylabel('Accuracy')\n",
        "gamma_final = sorted(zip(accuracy_scores_gamma, gamma_range))[::-1][0][1]\n",
        "gamma_final"
      ]
    },
    {
      "cell_type": "code",
      "execution_count": 35,
      "metadata": {
        "colab": {
          "base_uri": "https://localhost:8080/",
          "height": 300
        },
        "id": "JC5rUWKMXEUX",
        "outputId": "60e63dc2-5a1f-4f27-a4fb-17f15a8dd5e3"
      },
      "outputs": [
        {
          "output_type": "execute_result",
          "data": {
            "text/plain": [
              "0.9"
            ]
          },
          "metadata": {},
          "execution_count": 35
        },
        {
          "output_type": "display_data",
          "data": {
            "text/plain": [
              "<Figure size 432x288 with 1 Axes>"
            ],
            "image/png": "[encoded data removed]"
          },
          "metadata": {
            "needs_background": "light"
          }
        }
      ],
      "source": [
        "colsample_bytree = np.arange(0.1,1.0,0.1)\n",
        "\n",
        "# Definición de lista para almacenar la exactitud (accuracy) promedio \n",
        "accuracy_scores_col = []\n",
        "\n",
        "# Uso de un 10-fold cross-validation para cada valor\n",
        "for sample in colsample_bytree:\n",
        "    clf_2 = XGBClassifier(colsample_bytree = sample, verbosity=0)\n",
        "    accuracy_scores_col.append(cross_val_score(clf_2, X_train, y_train, cv=10, scoring='accuracy').mean())\n",
        "plt.plot(colsample_bytree, accuracy_scores_col)\n",
        "plt.xlabel('colsample_bytree')\n",
        "plt.ylabel('Accuracy')\n",
        "col_final = sorted(zip(accuracy_scores_col, colsample_bytree))[::-1][0][1]\n",
        "col_final"
      ]
    },
    {
      "cell_type": "code",
      "execution_count": 36,
      "metadata": {
        "colab": {
          "base_uri": "https://localhost:8080/",
          "height": 297
        },
        "id": "1SyvA5N0XEUX",
        "outputId": "76d9bc29-9873-4f56-b723-80fd7a839a82"
      },
      "outputs": [
        {
          "output_type": "execute_result",
          "data": {
            "text/plain": [
              "0.9"
            ]
          },
          "metadata": {},
          "execution_count": 36
        },
        {
          "output_type": "display_data",
          "data": {
            "text/plain": [
              "<Figure size 432x288 with 1 Axes>"
            ],
            "image/png": "[encoded data removed]"
          },
          "metadata": {
            "needs_background": "light"
          }
        }
      ],
      "source": [
        "learning_rates = np.arange(0.1,1.0,0.1)\n",
        "\n",
        "# Definición de lista para almacenar la exactitud (accuracy) promedio \n",
        "accuracy_scores_learning = []\n",
        "\n",
        "# Uso de un 10-fold cross-validation para cada valor\n",
        "for rate in learning_rates:\n",
        "    clf = XGBClassifier(learning_rate = rate, verbosity=0)\n",
        "    accuracy_scores_learning.append(cross_val_score(clf, X_train, y_train, cv=10, scoring='accuracy').mean())\n",
        "plt.plot(learning_rates, accuracy_scores_learning)\n",
        "plt.xlabel('learning_rates')\n",
        "plt.ylabel('Accuracy')\n",
        "lr_final = sorted(zip(accuracy_scores_learning, learning_rates))[::-1][0][1]\n",
        "lr_final"
      ]
    },
    {
      "cell_type": "code",
      "execution_count": 37,
      "metadata": {
        "colab": {
          "base_uri": "https://localhost:8080/"
        },
        "id": "36CkYXkYXEUX",
        "outputId": "33411e21-7d2a-46cf-922e-64f52ac91487"
      },
      "outputs": [
        {
          "output_type": "execute_result",
          "data": {
            "text/plain": [
              "0.8495958429561201"
            ]
          },
          "metadata": {},
          "execution_count": 37
        }
      ],
      "source": [
        "clf = XGBClassifier(gamma = gamma_final, colsample_bytree = col_final, learning_rate= lr_final)\n",
        "clf.fit(X_train, y_train)\n",
        "y_pred = clf.predict(X_test)\n",
        "des_xg2 = accuracy_score(y_pred, y_test)\n",
        "des_xg2"
      ]
    },
    {
      "cell_type": "markdown",
      "source": [
        "Luego de realizar la calibración de los parametros gamma, colsam_bytree y learning rate del modelo XGBoost, se observa un leve disminución del accuracy respecto al modelo con los parametros por defecto, evidencia el gran poder predictivo que posee este modelo con su configuración por defecto.\n",
        "Adicionalmente, se calibraron los parámetros de manera simultánea y por separado, logrando un mejor resultado con el primer método."
      ],
      "metadata": {
        "id": "kAFlUyrmx1UH"
      }
    },
    {
      "cell_type": "markdown",
      "metadata": {
        "id": "YcUJJTi-XEUY"
      },
      "source": [
        "### Punto 8 - Comparación y análisis de resultados\n",
        "En la celda 8 comparen los resultados obtenidos de los diferentes modelos (random forest y XGBoost) y comenten las ventajas del mejor modelo y las desventajas del modelo con el menor desempeño."
      ]
    },
    {
      "cell_type": "code",
      "execution_count": 38,
      "metadata": {
        "colab": {
          "base_uri": "https://localhost:8080/",
          "height": 302
        },
        "id": "Ihu15ukdXEUY",
        "outputId": "8c0d5eb5-d6a9-4dc5-c200-6caedd136dce"
      },
      "outputs": [
        {
          "output_type": "display_data",
          "data": {
            "text/plain": [
              "<Figure size 432x288 with 1 Axes>"
            ],
            "image/png": "[encoded data removed]"
          },
          "metadata": {
            "needs_background": "light"
          }
        }
      ],
      "source": [
        "modelos = ['RF','RF Calibrado','XGBoost','XGBoost Calibrado']\n",
        "accuracys = [des_rf,des_rfcal_2,des_xg,des_xg3]\n",
        "df = pd.DataFrame(zip(modelos,accuracys), columns=['Modelo', 'Desempeño']) \n",
        "\n",
        "plots = sns.barplot(x=modelos, y=accuracys, data=df) \n",
        "  \n",
        "for bar in plots.patches: \n",
        "    plots.annotate(format(bar.get_height(), '.3f'),  \n",
        "                   (bar.get_x() + bar.get_width() / 2,  \n",
        "                    bar.get_height()), ha='center', va='center', \n",
        "                   size=12, xytext=(2, 10), \n",
        "                   textcoords='offset points') \n",
        "    \n",
        "  \n",
        "plt.xlabel(\"Modelo\", size=14) \n",
        "plt.ylabel(\"Desempeño\", size=12)  \n",
        "plt.title(\"Evaluación del desempeño de los modelos\", size=16) \n",
        "\n",
        "plt.show() "
      ]
    },
    {
      "cell_type": "markdown",
      "source": [
        "Podemos observar que este tipo de modelos, aunque pierden poder de interpretabilidad, poseen gran poder predictivo, logrando resultados de accuracy entre 0.83 y 0.86. \n",
        "\n",
        "En el caso de Random Forest, al calibrar los 3 parámetros selecionados max_depth, n_estimators y n_features no se observa una mejora significativa en el desempeño del modelo. Es probable que el desempeño de este modelo pueda mejorar con la calibración de otros parámetros.\n",
        "\n",
        "Para el caso de XGBoost se observa que el mejor desempeño se da con los parámetros por defecto y que los parámetros seleccionados para calibrar no mejoraron el desempeño del modelo.\n",
        "\n",
        "En conclusión, el modelo que mejor desempeño presenta para predecir si el precio de un auto es o no alto es el XGBOost con parámetros por defecto."
      ],
      "metadata": {
        "id": "k6sVBqGYy98X"
      }
    }
  ],
  "metadata": {
    "kernelspec": {
      "display_name": "Python 3",
      "language": "python",
      "name": "python3"
    },
    "language_info": {
      "codemirror_mode": {
        "name": "ipython",
        "version": 3
      },
      "file_extension": ".py",
      "mimetype": "text/x-python",
      "name": "python",
      "nbconvert_exporter": "python",
      "pygments_lexer": "ipython3",
      "version": "3.8.5"
    },
    "colab": {
      "name": "S2TC1_RandomForests_Boosting.ipynb",
      "provenance": [],
      "collapsed_sections": []
    }
  },
  "nbformat": 4,
  "nbformat_minor": 0
}